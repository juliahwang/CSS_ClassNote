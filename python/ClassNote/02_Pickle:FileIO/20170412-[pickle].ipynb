{
 "cells": [
  {
   "cell_type": "code",
   "execution_count": 33,
   "metadata": {
    "collapsed": true
   },
   "outputs": [],
   "source": [
    "import pickle\n",
    "\n",
    "\n",
    "pickle.load?"
   ]
  },
  {
   "cell_type": "code",
   "execution_count": 34,
   "metadata": {
    "collapsed": false
   },
   "outputs": [],
   "source": [
    "with open(\"class_A.bin\", 'rb') as f:\n",
    "    data = pickle.load(f)"
   ]
  },
  {
   "cell_type": "code",
   "execution_count": 35,
   "metadata": {
    "collapsed": false
   },
   "outputs": [
    {
     "data": {
      "text/plain": [
       "{'greg': 95}"
      ]
     },
     "execution_count": 35,
     "metadata": {},
     "output_type": "execute_result"
    }
   ],
   "source": [
    "data\n",
    "\n",
    "# 본래는 스트링 형태로 출력되지만 피클을 쓰면 저장할 때의(딕셔너리) 형식 그대로 불러오게 됨. "
   ]
  },
  {
   "cell_type": "code",
   "execution_count": 36,
   "metadata": {
    "collapsed": true
   },
   "outputs": [],
   "source": [
    "with open(\"class_A.bin\", 'rb') as f:\n",
    "    data1 = pickle.load(f)\n",
    "    data2 = pickle.load(f)"
   ]
  },
  {
   "cell_type": "code",
   "execution_count": 37,
   "metadata": {
    "collapsed": false
   },
   "outputs": [
    {
     "name": "stdout",
     "output_type": "stream",
     "text": [
      "{'greg': 95} {'john': 25}\n"
     ]
    }
   ],
   "source": [
    "print(data1, data2)"
   ]
  },
  {
   "cell_type": "code",
   "execution_count": 38,
   "metadata": {
    "collapsed": true
   },
   "outputs": [],
   "source": [
    "# pickle_example.txt 일반예제\n",
    "\n",
    "fp = open(\"pickle_example.txt\", 'r')"
   ]
  },
  {
   "cell_type": "code",
   "execution_count": 39,
   "metadata": {
    "collapsed": false
   },
   "outputs": [
    {
     "name": "stdout",
     "output_type": "stream",
     "text": [
      "['hello pickle!\\n', 'print as they are\\n', 'how amazing!']\n"
     ]
    }
   ],
   "source": [
    "text_list = []\n",
    "while True:   # 몇줄인지 모르므로 계속 돌도록\n",
    "    data = fp.readline()\n",
    "    if data:\n",
    "        text_list.append(data)\n",
    "    else:\n",
    "        break\n",
    "print(text_list)"
   ]
  },
  {
   "cell_type": "code",
   "execution_count": 40,
   "metadata": {
    "collapsed": false
   },
   "outputs": [
    {
     "ename": "KeyError",
     "evalue": "101",
     "output_type": "error",
     "traceback": [
      "\u001b[0;31m---------------------------------------------------------------------------\u001b[0m",
      "\u001b[0;31mKeyError\u001b[0m                                  Traceback (most recent call last)",
      "\u001b[0;32m<ipython-input-40-daafc4b9fb21>\u001b[0m in \u001b[0;36m<module>\u001b[0;34m()\u001b[0m\n\u001b[1;32m      4\u001b[0m \u001b[0mpickle_list\u001b[0m \u001b[0;34m=\u001b[0m \u001b[0;34m[\u001b[0m\u001b[0;34m]\u001b[0m\u001b[0;34m\u001b[0m\u001b[0m\n\u001b[1;32m      5\u001b[0m \u001b[0;32mwhile\u001b[0m \u001b[0;32mTrue\u001b[0m\u001b[0;34m:\u001b[0m\u001b[0;34m\u001b[0m\u001b[0m\n\u001b[0;32m----> 6\u001b[0;31m     \u001b[0mdata\u001b[0m \u001b[0;34m=\u001b[0m \u001b[0mpickle\u001b[0m\u001b[0;34m.\u001b[0m\u001b[0mload\u001b[0m\u001b[0;34m(\u001b[0m\u001b[0mfp2\u001b[0m\u001b[0;34m)\u001b[0m\u001b[0;34m\u001b[0m\u001b[0m\n\u001b[0m\u001b[1;32m      7\u001b[0m     \u001b[0;32mif\u001b[0m \u001b[0mdata\u001b[0m\u001b[0;34m:\u001b[0m\u001b[0;34m\u001b[0m\u001b[0m\n\u001b[1;32m      8\u001b[0m         \u001b[0mpickle_list\u001b[0m\u001b[0;34m.\u001b[0m\u001b[0mappend\u001b[0m\u001b[0;34m(\u001b[0m\u001b[0mdata\u001b[0m\u001b[0;34m)\u001b[0m\u001b[0;34m\u001b[0m\u001b[0m\n",
      "\u001b[0;31mKeyError\u001b[0m: 101"
     ]
    }
   ],
   "source": [
    "# pickle_example.txt  피클 활용예제\n",
    "\n",
    "fp2 = open(\"pickle_example.txt\", 'rb')\n",
    "pickle_list = []\n",
    "while True:\n",
    "    data = pickle.load(fp2)\n",
    "    if data:\n",
    "        pickle_list.append(data)\n",
    "    else:\n",
    "        break\n",
    "print(pickle_list)\n",
    "\n",
    "# 읽어올 데이터가 없다면 none을 반환하는 것이 아니라 에러를 낸다."
   ]
  },
  {
   "cell_type": "code",
   "execution_count": 43,
   "metadata": {
    "collapsed": false
   },
   "outputs": [
    {
     "name": "stdout",
     "output_type": "stream",
     "text": [
      "[{'greg': 95}, {'john': 25}, {'yang': 50}, {'timothy': 15}, {'melisa': 100}, {'thor': 10}, {'elen': 25}, {'mark': 80}, {'steve': 95}, {'anna': 20}]\n"
     ]
    }
   ],
   "source": [
    "# 꼼수\n",
    "\n",
    "fp3 = open(\"class_A.bin\", 'rb')\n",
    "pickle_list = []\n",
    "while True:\n",
    "    try:\n",
    "        data = pickle.load(fp3)\n",
    "        pickle_list.append(data)\n",
    "    except EOFError:\n",
    "        break\n",
    "\n",
    "print(pickle_list)"
   ]
  },
  {
   "cell_type": "code",
   "execution_count": 13,
   "metadata": {
    "collapsed": true
   },
   "outputs": [],
   "source": [
    "# 피클로 데이터 집어넣고 출력하기. (복습)\n",
    "\n",
    "import pickle"
   ]
  },
  {
   "cell_type": "code",
   "execution_count": 2,
   "metadata": {
    "collapsed": true
   },
   "outputs": [],
   "source": [
    "fp = open(\"file.txt\", 'wb')"
   ]
  },
  {
   "cell_type": "code",
   "execution_count": 3,
   "metadata": {
    "collapsed": true
   },
   "outputs": [],
   "source": [
    "data = [\n",
    "    {\"greg\": 95},\n",
    "    {'tom': 85},\n",
    "    {'sara': 56},\n",
    "]"
   ]
  },
  {
   "cell_type": "code",
   "execution_count": 5,
   "metadata": {
    "collapsed": false
   },
   "outputs": [],
   "source": [
    "for d in data:\n",
    "    pickle.dump(d, fp)"
   ]
  },
  {
   "cell_type": "code",
   "execution_count": 7,
   "metadata": {
    "collapsed": false
   },
   "outputs": [],
   "source": [
    "fp.close()"
   ]
  },
  {
   "cell_type": "code",
   "execution_count": 9,
   "metadata": {
    "collapsed": false
   },
   "outputs": [],
   "source": [
    "fp2 = open(\"file.txt\", 'rb')"
   ]
  },
  {
   "cell_type": "code",
   "execution_count": 10,
   "metadata": {
    "collapsed": false
   },
   "outputs": [
    {
     "name": "stdout",
     "output_type": "stream",
     "text": [
      "[{'greg': 95}, {'tom': 85}, {'sara': 56}]\n"
     ]
    }
   ],
   "source": [
    "result = []\n",
    "for d in range(3):\n",
    "    result.append(pickle.load(fp2))\n",
    "print(result)"
   ]
  },
  {
   "cell_type": "code",
   "execution_count": 11,
   "metadata": {
    "collapsed": false
   },
   "outputs": [
    {
     "data": {
      "text/plain": [
       "['ADDITEMS',\n",
       " 'APPEND',\n",
       " 'APPENDS',\n",
       " 'BINBYTES',\n",
       " 'BINBYTES8',\n",
       " 'BINFLOAT',\n",
       " 'BINGET',\n",
       " 'BININT',\n",
       " 'BININT1',\n",
       " 'BININT2',\n",
       " 'BINPERSID',\n",
       " 'BINPUT',\n",
       " 'BINSTRING',\n",
       " 'BINUNICODE',\n",
       " 'BINUNICODE8',\n",
       " 'BUILD',\n",
       " 'DEFAULT_PROTOCOL',\n",
       " 'DICT',\n",
       " 'DUP',\n",
       " 'EMPTY_DICT',\n",
       " 'EMPTY_LIST',\n",
       " 'EMPTY_SET',\n",
       " 'EMPTY_TUPLE',\n",
       " 'EXT1',\n",
       " 'EXT2',\n",
       " 'EXT4',\n",
       " 'FALSE',\n",
       " 'FLOAT',\n",
       " 'FRAME',\n",
       " 'FROZENSET',\n",
       " 'FunctionType',\n",
       " 'GET',\n",
       " 'GLOBAL',\n",
       " 'HIGHEST_PROTOCOL',\n",
       " 'INST',\n",
       " 'INT',\n",
       " 'LIST',\n",
       " 'LONG',\n",
       " 'LONG1',\n",
       " 'LONG4',\n",
       " 'LONG_BINGET',\n",
       " 'LONG_BINPUT',\n",
       " 'MARK',\n",
       " 'MEMOIZE',\n",
       " 'NEWFALSE',\n",
       " 'NEWOBJ',\n",
       " 'NEWOBJ_EX',\n",
       " 'NEWTRUE',\n",
       " 'NONE',\n",
       " 'OBJ',\n",
       " 'PERSID',\n",
       " 'POP',\n",
       " 'POP_MARK',\n",
       " 'PROTO',\n",
       " 'PUT',\n",
       " 'PickleError',\n",
       " 'Pickler',\n",
       " 'PicklingError',\n",
       " 'PyStringMap',\n",
       " 'REDUCE',\n",
       " 'SETITEM',\n",
       " 'SETITEMS',\n",
       " 'SHORT_BINBYTES',\n",
       " 'SHORT_BINSTRING',\n",
       " 'SHORT_BINUNICODE',\n",
       " 'STACK_GLOBAL',\n",
       " 'STOP',\n",
       " 'STRING',\n",
       " 'TRUE',\n",
       " 'TUPLE',\n",
       " 'TUPLE1',\n",
       " 'TUPLE2',\n",
       " 'TUPLE3',\n",
       " 'UNICODE',\n",
       " 'Unpickler',\n",
       " 'UnpicklingError',\n",
       " '_Framer',\n",
       " '_Pickler',\n",
       " '_Stop',\n",
       " '_Unframer',\n",
       " '_Unpickler',\n",
       " '__all__',\n",
       " '__builtins__',\n",
       " '__cached__',\n",
       " '__doc__',\n",
       " '__file__',\n",
       " '__loader__',\n",
       " '__name__',\n",
       " '__package__',\n",
       " '__spec__',\n",
       " '_compat_pickle',\n",
       " '_dump',\n",
       " '_dumps',\n",
       " '_extension_cache',\n",
       " '_extension_registry',\n",
       " '_getattribute',\n",
       " '_inverted_registry',\n",
       " '_load',\n",
       " '_loads',\n",
       " '_test',\n",
       " '_tuplesize2code',\n",
       " 'bytes_types',\n",
       " 'codecs',\n",
       " 'compatible_formats',\n",
       " 'decode_long',\n",
       " 'dispatch_table',\n",
       " 'dump',\n",
       " 'dumps',\n",
       " 'encode_long',\n",
       " 'format_version',\n",
       " 'io',\n",
       " 'islice',\n",
       " 'load',\n",
       " 'loads',\n",
       " 'maxsize',\n",
       " 'pack',\n",
       " 'partial',\n",
       " 're',\n",
       " 'sys',\n",
       " 'unpack',\n",
       " 'whichmodule']"
      ]
     },
     "execution_count": 11,
     "metadata": {},
     "output_type": "execute_result"
    }
   ],
   "source": [
    "dir(pickle)"
   ]
  },
  {
   "cell_type": "code",
   "execution_count": 12,
   "metadata": {
    "collapsed": false
   },
   "outputs": [
    {
     "ename": "FileNotFoundError",
     "evalue": "[Errno 2] No such file or directory: 'abc.txt'",
     "output_type": "error",
     "traceback": [
      "\u001b[0;31m---------------------------------------------------------------------------\u001b[0m",
      "\u001b[0;31mFileNotFoundError\u001b[0m                         Traceback (most recent call last)",
      "\u001b[0;32m<ipython-input-12-52ff7fc2e946>\u001b[0m in \u001b[0;36m<module>\u001b[0;34m()\u001b[0m\n\u001b[0;32m----> 1\u001b[0;31m \u001b[0;32mwith\u001b[0m \u001b[0mopen\u001b[0m\u001b[0;34m(\u001b[0m\u001b[0;34m\"abc.txt\"\u001b[0m\u001b[0;34m,\u001b[0m \u001b[0;34m'rb'\u001b[0m\u001b[0;34m)\u001b[0m \u001b[0;32mas\u001b[0m \u001b[0mf\u001b[0m\u001b[0;34m:\u001b[0m\u001b[0;34m\u001b[0m\u001b[0m\n\u001b[0m\u001b[1;32m      2\u001b[0m     \u001b[0mdata1\u001b[0m \u001b[0;34m=\u001b[0m \u001b[0mpickle\u001b[0m\u001b[0;34m.\u001b[0m\u001b[0mload\u001b[0m\u001b[0;34m(\u001b[0m\u001b[0mf\u001b[0m\u001b[0;34m)\u001b[0m\u001b[0;34m\u001b[0m\u001b[0m\n",
      "\u001b[0;31mFileNotFoundError\u001b[0m: [Errno 2] No such file or directory: 'abc.txt'"
     ]
    }
   ],
   "source": [
    "with open(\"abc.txt\", 'rb') as f:\n",
    "    data1 = pickle.load(f)"
   ]
  },
  {
   "cell_type": "code",
   "execution_count": null,
   "metadata": {
    "collapsed": true
   },
   "outputs": [],
   "source": []
  }
 ],
 "metadata": {
  "kernelspec": {
   "display_name": "Python 3",
   "language": "python",
   "name": "python3"
  },
  "language_info": {
   "codemirror_mode": {
    "name": "ipython",
    "version": 3
   },
   "file_extension": ".py",
   "mimetype": "text/x-python",
   "name": "python",
   "nbconvert_exporter": "python",
   "pygments_lexer": "ipython3",
   "version": "3.6.0"
  }
 },
 "nbformat": 4,
 "nbformat_minor": 2
}
