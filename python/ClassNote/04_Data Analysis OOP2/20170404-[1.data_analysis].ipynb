{
 "cells": [
  {
   "cell_type": "code",
   "execution_count": 12,
   "metadata": {
    "collapsed": false,
    "deletable": true,
    "editable": true
   },
   "outputs": [
    {
     "data": {
      "text/plain": [
       "6.25"
      ]
     },
     "execution_count": 12,
     "metadata": {},
     "output_type": "execute_result"
    }
   ],
   "source": [
    "scores = [95, 23, 46, 25,]\n",
    "\n",
    "def average(scores):  # score = [95, 23, 46, 25,]\n",
    "    for e in scores:\n",
    "        sum = 0\n",
    "        sum += e\n",
    "    return sum / len(scores)\n",
    "\n",
    "average(scores)\n",
    "# reduce 로 평균 구하기"
   ]
  },
  {
   "cell_type": "code",
   "execution_count": 50,
   "metadata": {
    "collapsed": false,
    "deletable": true,
    "editable": true
   },
   "outputs": [
    {
     "data": {
      "text/plain": [
       "51.5"
      ]
     },
     "execution_count": 50,
     "metadata": {},
     "output_type": "execute_result"
    }
   ],
   "source": [
    "from functools import reduce\n",
    "\n",
    "def average(scores):\n",
    "    pass\n",
    "\n",
    "reduce(lambda a, b: a + b, scores)/len(scores)"
   ]
  },
  {
   "cell_type": "code",
   "execution_count": 18,
   "metadata": {
    "collapsed": false,
    "deletable": true,
    "editable": true
   },
   "outputs": [],
   "source": [
    "avg = 50\n",
    "import math # sqrt 함수를 사용하기 위해 math 불러옴\n",
    "import pickle\n",
    "\n",
    "def variance(scores): # scores = [95, 23, 25, 62] , avg : 50\n",
    "                  # {(각 점수 - 평균) ** 2} 모두 더하기 / 데이터의 개수\n",
    "    return reduce(lambda a, b: a + b, map(lambda s:(s - avg) ** 2, scores))/len(scores)\n",
    "\n",
    "# map((95-50)**2, (23-50)**2, (25-50)**2, (62-50)**2)\n",
    "# map 내의 요소를 모두 더한 뒤 데이터의 갯수로 나누면 분산."
   ]
  },
  {
   "cell_type": "code",
   "execution_count": 19,
   "metadata": {
    "collapsed": true,
    "deletable": true,
    "editable": true
   },
   "outputs": [],
   "source": [
    "def evaluateClass(avrg, std_dev):\n",
    "    if avrg <50 and std_dev >20:\n",
    "        print(\"성적이 너무 저조하고 학생들의 실력 차이가 너무 크다.\")\n",
    "    elif avrg > 50 and std_dev >20:\n",
    "        print(\"성적은 평균이상이지만 학생들 실력 차이가 크다. 주의 요망!\")\n",
    "    elif avrg < 50 and std_dev <20:\n",
    "        print(\"학생들간 실력차는 나지 않으나 성적이 너무 저조하다. 주의 요망!\")\n",
    "    elif avrg > 50 and std_dev <20:\n",
    "        print(\"성적도 평균 이상이고 학생들의 실력차도 크지 않다.\")"
   ]
  },
  {
   "cell_type": "code",
   "execution_count": 20,
   "metadata": {
    "collapsed": true,
    "deletable": true,
    "editable": true
   },
   "outputs": [],
   "source": [
    "f = open(\"class_A.bin\", \"rb\")"
   ]
  },
  {
   "cell_type": "code",
   "execution_count": 22,
   "metadata": {
    "collapsed": false,
    "deletable": true,
    "editable": true
   },
   "outputs": [
    {
     "name": "stdout",
     "output_type": "stream",
     "text": [
      "[{'greg': 95}, {'john': 25}, {'yang': 50}, {'timothy': 15}, {'melisa': 100}, {'thor': 10}, {'elen': 25}, {'mark': 80}, {'steve': 95}, {'anna': 20}]\n"
     ]
    }
   ],
   "source": [
    "items = []\n",
    "\n",
    "while True:\n",
    "    try:\n",
    "        data = pickle.load(f)\n",
    "    except EOFError:\n",
    "        break\n",
    "    items.append(data)\n",
    "    \n",
    "print(items)"
   ]
  },
  {
   "cell_type": "code",
   "execution_count": 29,
   "metadata": {
    "collapsed": false,
    "deletable": true,
    "editable": true
   },
   "outputs": [
    {
     "data": {
      "text/plain": [
       "[]"
      ]
     },
     "execution_count": 29,
     "metadata": {},
     "output_type": "execute_result"
    }
   ],
   "source": [
    "items2 = []\n",
    "list(filter(lambda values: items2.append(values), items))"
   ]
  },
  {
   "cell_type": "code",
   "execution_count": 36,
   "metadata": {
    "collapsed": false,
    "deletable": true,
    "editable": true
   },
   "outputs": [
    {
     "name": "stdout",
     "output_type": "stream",
     "text": [
      "[95, 23, 46, 25, 95, 25, 50, 15, 100, 10, 25, 80, 95, 20, 95, 25, 50, 15, 100, 10, 25, 80, 95, 20, 95, 25, 50, 15, 100, 10, 25, 80, 95, 20]\n"
     ]
    }
   ],
   "source": [
    "items = [{'greg': 95}, {'john': 25}, {'yang': 50}, {'timothy': 15}, {'melisa': 100}, {'thor': 10}, {'elen': 25}, {'mark': 80}, {'steve': 95}, {'anna': 20}]\n",
    "scores = []\n",
    "\n",
    "\n",
    "for i in items:\n",
    "    for value in i.values():\n",
    "        scores.append(value)\n",
    "        \n",
    "print(scores)"
   ]
  },
  {
   "cell_type": "code",
   "execution_count": 31,
   "metadata": {
    "collapsed": false,
    "deletable": true,
    "editable": true
   },
   "outputs": [
    {
     "ename": "SyntaxError",
     "evalue": "invalid syntax (<ipython-input-31-1132bd00df54>, line 2)",
     "output_type": "error",
     "traceback": [
      "\u001b[0;36m  File \u001b[0;32m\"<ipython-input-31-1132bd00df54>\"\u001b[0;36m, line \u001b[0;32m2\u001b[0m\n\u001b[0;31m    items2 = [ items.values(i) for i in range items if i == value]\u001b[0m\n\u001b[0m                                                  ^\u001b[0m\n\u001b[0;31mSyntaxError\u001b[0m\u001b[0;31m:\u001b[0m invalid syntax\n"
     ]
    }
   ],
   "source": [
    "items = [{'greg': 95}, {'john': 25}, {'yang': 50}, {'timothy': 15}, {'melisa': 100}, {'thor': 10}, {'elen': 25}, {'mark': 80}, {'steve': 95}, {'anna': 20}]\n",
    "items2 = [ items.values(i) for i in range items if i == value]"
   ]
  },
  {
   "cell_type": "code",
   "execution_count": 37,
   "metadata": {
    "collapsed": false,
    "deletable": true,
    "editable": true,
    "scrolled": true
   },
   "outputs": [
    {
     "data": {
      "text/plain": [
       "[95, 25, 50, 15, 100, 10, 25, 80, 95, 20]"
      ]
     },
     "execution_count": 37,
     "metadata": {},
     "output_type": "execute_result"
    }
   ],
   "source": [
    "items = [{'greg': 95}, {'john': 25}, {'yang': 50}, {'timothy': 15}, {'melisa': 100}, {'thor': 10}, {'elen': 25}, {'mark': 80}, {'steve': 95}, {'anna': 20}]\n",
    "scores = []\n",
    "\n",
    "for i in items:\n",
    "    for value in i.values():\n",
    "        scores.append(value)\n",
    "scores"
   ]
  },
  {
   "cell_type": "code",
   "execution_count": 49,
   "metadata": {
    "collapsed": false,
    "deletable": true,
    "editable": true
   },
   "outputs": [
    {
     "data": {
      "text/plain": [
       "2.0"
      ]
     },
     "execution_count": 49,
     "metadata": {},
     "output_type": "execute_result"
    }
   ],
   "source": [
    "avrg = average(scores)\n",
    "avrg"
   ]
  },
  {
   "cell_type": "code",
   "execution_count": 51,
   "metadata": {
    "collapsed": false,
    "deletable": true,
    "editable": true
   },
   "outputs": [
    {
     "ename": "TypeError",
     "evalue": "variance() takes 1 positional argument but 2 were given",
     "output_type": "error",
     "traceback": [
      "\u001b[0;31m---------------------------------------------------------------------------\u001b[0m",
      "\u001b[0;31mTypeError\u001b[0m                                 Traceback (most recent call last)",
      "\u001b[0;32m<ipython-input-51-15e89ca024b9>\u001b[0m in \u001b[0;36m<module>\u001b[0;34m()\u001b[0m\n\u001b[0;32m----> 1\u001b[0;31m \u001b[0mvari\u001b[0m \u001b[0;34m=\u001b[0m \u001b[0mround\u001b[0m\u001b[0;34m(\u001b[0m\u001b[0mvariance\u001b[0m\u001b[0;34m(\u001b[0m\u001b[0mscores\u001b[0m\u001b[0;34m,\u001b[0m \u001b[0mavrg\u001b[0m\u001b[0;34m)\u001b[0m\u001b[0;34m,\u001b[0m \u001b[0;36m1\u001b[0m\u001b[0;34m)\u001b[0m\u001b[0;34m\u001b[0m\u001b[0m\n\u001b[0m\u001b[1;32m      2\u001b[0m \u001b[0mvari\u001b[0m\u001b[0;34m\u001b[0m\u001b[0m\n",
      "\u001b[0;31mTypeError\u001b[0m: variance() takes 1 positional argument but 2 were given"
     ]
    }
   ],
   "source": [
    "vari = round(variance(scores, avrg), 1)\n",
    "vari"
   ]
  },
  {
   "cell_type": "code",
   "execution_count": 38,
   "metadata": {
    "collapsed": true,
    "deletable": true,
    "editable": true
   },
   "outputs": [],
   "source": [
    "dic = dict(one = 1, two = 2, three = 3)"
   ]
  },
  {
   "cell_type": "code",
   "execution_count": 39,
   "metadata": {
    "collapsed": false,
    "deletable": true,
    "editable": true
   },
   "outputs": [
    {
     "data": {
      "text/plain": [
       "{'one': 1, 'three': 3, 'two': 2}"
      ]
     },
     "execution_count": 39,
     "metadata": {},
     "output_type": "execute_result"
    }
   ],
   "source": [
    "dic"
   ]
  },
  {
   "cell_type": "code",
   "execution_count": 41,
   "metadata": {
    "collapsed": false,
    "deletable": true,
    "editable": true
   },
   "outputs": [
    {
     "name": "stdout",
     "output_type": "stream",
     "text": [
      "('one', 1)\n",
      "('two', 2)\n",
      "('three', 3)\n"
     ]
    }
   ],
   "source": [
    "for a in dic.items():\n",
    "    print(a)\n",
    "\n",
    "# "
   ]
  },
  {
   "cell_type": "code",
   "execution_count": 42,
   "metadata": {
    "collapsed": false,
    "deletable": true,
    "editable": true
   },
   "outputs": [
    {
     "ename": "SyntaxError",
     "evalue": "invalid syntax (<ipython-input-42-91d0139e3d50>, line 1)",
     "output_type": "error",
     "traceback": [
      "\u001b[0;36m  File \u001b[0;32m\"<ipython-input-42-91d0139e3d50>\"\u001b[0;36m, line \u001b[0;32m1\u001b[0m\n\u001b[0;31m    def func(*avrg **abcd)\u001b[0m\n\u001b[0m                    ^\u001b[0m\n\u001b[0;31mSyntaxError\u001b[0m\u001b[0;31m:\u001b[0m invalid syntax\n"
     ]
    }
   ],
   "source": [
    "def func(*avrg **abcd)\n",
    "# * - 패킹"
   ]
  },
  {
   "cell_type": "code",
   "execution_count": 47,
   "metadata": {
    "collapsed": false,
    "deletable": true,
    "editable": true
   },
   "outputs": [
    {
     "name": "stdout",
     "output_type": "stream",
     "text": [
      "[1, 2, 3]\n",
      "4\n",
      "5\n"
     ]
    }
   ],
   "source": [
    "tu = (1, 2, 3, 4, 5,)\n",
    "*a, b, c = tu\n",
    "\n",
    "print(a)\n",
    "print(b)\n",
    "print(c)"
   ]
  },
  {
   "cell_type": "code",
   "execution_count": 52,
   "metadata": {
    "collapsed": false,
    "deletable": true,
    "editable": true
   },
   "outputs": [
    {
     "ename": "NameError",
     "evalue": "name 'vari' is not defined",
     "output_type": "error",
     "traceback": [
      "\u001b[0;31m---------------------------------------------------------------------------\u001b[0m",
      "\u001b[0;31mNameError\u001b[0m                                 Traceback (most recent call last)",
      "\u001b[0;32m<ipython-input-52-62b0f8eea96b>\u001b[0m in \u001b[0;36m<module>\u001b[0;34m()\u001b[0m\n\u001b[0;32m----> 1\u001b[0;31m \u001b[0mstd_dev\u001b[0m \u001b[0;34m=\u001b[0m \u001b[0mround\u001b[0m\u001b[0;34m(\u001b[0m\u001b[0mmath\u001b[0m\u001b[0;34m.\u001b[0m\u001b[0msqrt\u001b[0m\u001b[0;34m(\u001b[0m\u001b[0mvari\u001b[0m\u001b[0;34m)\u001b[0m\u001b[0;34m,\u001b[0m \u001b[0;36m1\u001b[0m\u001b[0;34m)\u001b[0m\u001b[0;34m\u001b[0m\u001b[0m\n\u001b[0m\u001b[1;32m      2\u001b[0m \u001b[0mstd_dev\u001b[0m\u001b[0;34m\u001b[0m\u001b[0m\n",
      "\u001b[0;31mNameError\u001b[0m: name 'vari' is not defined"
     ]
    }
   ],
   "source": [
    "std_dev = round(math.sqrt(vari), 1)\n",
    "std_dev"
   ]
  },
  {
   "cell_type": "code",
   "execution_count": 59,
   "metadata": {
    "collapsed": false,
    "deletable": true,
    "editable": true
   },
   "outputs": [
    {
     "ename": "SyntaxError",
     "evalue": "invalid syntax (<ipython-input-59-8d1735184dfa>, line 8)",
     "output_type": "error",
     "traceback": [
      "\u001b[0;36m  File \u001b[0;32m\"<ipython-input-59-8d1735184dfa>\"\u001b[0;36m, line \u001b[0;32m8\u001b[0m\n\u001b[0;31m    print(age, end '   ')\u001b[0m\n\u001b[0m                       ^\u001b[0m\n\u001b[0;31mSyntaxError\u001b[0m\u001b[0;31m:\u001b[0m invalid syntax\n"
     ]
    }
   ],
   "source": [
    "a = 12\n",
    "b = \"abc\"\n",
    "print(\"{}는 재밌어, {}는 싫어\".format(a, b))\n",
    "\n",
    "age = 18\n",
    "name = 'greg'\n",
    "print(\"내 이름은 {n}이고 나이는 {a}인데 사실 {a}는 거짓말이야.\".format(n= name, a= age))\n",
    "print(age, end '   ')"
   ]
  },
  {
   "cell_type": "code",
   "execution_count": 55,
   "metadata": {
    "collapsed": false,
    "deletable": true,
    "editable": true
   },
   "outputs": [
    {
     "name": "stdout",
     "output_type": "stream",
     "text": [
      "나는 바나나와 사과은 좋아하지만 귤는 싫어\n"
     ]
    }
   ],
   "source": [
    "fruit1 = \"바나나\"\n",
    "fruit2 = \"사과\"\n",
    "fruit3 = \"귤\"\n",
    "print(\"나는 {f1}와 {f2}은 좋아하지만 {f3}는 싫어\".format(f1=fruit1, f2=fruit2, f3=fruit3))"
   ]
  },
  {
   "cell_type": "code",
   "execution_count": 60,
   "metadata": {
    "collapsed": false,
    "deletable": true,
    "editable": true
   },
   "outputs": [
    {
     "name": "stdout",
     "output_type": "stream",
     "text": [
      "**************************************************\n",
      "A반 성적 분석 결과\n",
      "**************************************************\n"
     ]
    },
    {
     "ename": "NameError",
     "evalue": "name 'standard_deviation' is not defined",
     "output_type": "error",
     "traceback": [
      "\u001b[0;31m---------------------------------------------------------------------------\u001b[0m",
      "\u001b[0;31mNameError\u001b[0m                                 Traceback (most recent call last)",
      "\u001b[0;32m<ipython-input-60-769a9f5fc1fa>\u001b[0m in \u001b[0;36m<module>\u001b[0;34m()\u001b[0m\n\u001b[1;32m      2\u001b[0m \u001b[0mprint\u001b[0m\u001b[0;34m(\u001b[0m\u001b[0;34m\"A반 성적 분석 결과\"\u001b[0m\u001b[0;34m)\u001b[0m\u001b[0;34m\u001b[0m\u001b[0m\n\u001b[1;32m      3\u001b[0m \u001b[0mprint\u001b[0m\u001b[0;34m(\u001b[0m\u001b[0;34m'*'\u001b[0m \u001b[0;34m*\u001b[0m \u001b[0;36m50\u001b[0m\u001b[0;34m)\u001b[0m\u001b[0;34m\u001b[0m\u001b[0m\n\u001b[0;32m----> 4\u001b[0;31m \u001b[0mprint\u001b[0m\u001b[0;34m(\u001b[0m\u001b[0;34m\"A반의 평균은 {0}점이고 분산은 {1}이며, 따라서 표준편차는 {2}이다\"\u001b[0m\u001b[0;34m.\u001b[0m\u001b[0mformat\u001b[0m\u001b[0;34m(\u001b[0m\u001b[0mavrg\u001b[0m\u001b[0;34m,\u001b[0m \u001b[0mvariance\u001b[0m\u001b[0;34m,\u001b[0m \u001b[0mstandard_deviation\u001b[0m\u001b[0;34m)\u001b[0m\u001b[0;34m)\u001b[0m\u001b[0;34m\u001b[0m\u001b[0m\n\u001b[0m\u001b[1;32m      5\u001b[0m \u001b[0mprint\u001b[0m\u001b[0;34m(\u001b[0m\u001b[0;34m'*'\u001b[0m \u001b[0;34m*\u001b[0m \u001b[0;36m50\u001b[0m\u001b[0;34m)\u001b[0m\u001b[0;34m\u001b[0m\u001b[0m\n\u001b[1;32m      6\u001b[0m \u001b[0mprint\u001b[0m\u001b[0;34m(\u001b[0m\u001b[0;34m\"A반 종합 평가\"\u001b[0m\u001b[0;34m)\u001b[0m\u001b[0;34m\u001b[0m\u001b[0m\n",
      "\u001b[0;31mNameError\u001b[0m: name 'standard_deviation' is not defined"
     ]
    }
   ],
   "source": [
    "print('*' * 50)   # - * 50개 연속 출력\n",
    "print(\"A반 성적 분석 결과\")\n",
    "print('*' * 50)\n",
    "print(\"A반의 평균은 {0}점이고 분산은 {1}이며, 따라서 표준편차는 {2}이다\".format(avrg, variance, standard_deviation))\n",
    "# 숫자순서를 중괄호 안에 넣으면 그 순서대로 들어간다.\n",
    "print('*' * 50)\n",
    "print(\"A반 종합 평가\")\n",
    "print('*' * 50)\n",
    "\n",
    "print('\\n')\n",
    "evaluateClass(avrg, standard_deviation)\n",
    "\n",
    "f.close()\n",
    "# 파일은 실행이 끝났다면 바로 프로그램을 꺼주는 것이 좋다."
   ]
  },
  {
   "cell_type": "code",
   "execution_count": null,
   "metadata": {
    "collapsed": true,
    "deletable": true,
    "editable": true
   },
   "outputs": [],
   "source": []
  }
 ],
 "metadata": {
  "kernelspec": {
   "display_name": "Python 3",
   "language": "python",
   "name": "python3"
  },
  "language_info": {
   "codemirror_mode": {
    "name": "ipython",
    "version": 3
   },
   "file_extension": ".py",
   "mimetype": "text/x-python",
   "name": "python",
   "nbconvert_exporter": "python",
   "pygments_lexer": "ipython3",
   "version": "3.6.0"
  }
 },
 "nbformat": 4,
 "nbformat_minor": 2
}
