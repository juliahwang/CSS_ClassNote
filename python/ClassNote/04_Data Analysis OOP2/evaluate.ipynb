{
 "cells": [
  {
   "cell_type": "code",
   "execution_count": 1,
   "metadata": {
    "collapsed": false
   },
   "outputs": [
    {
     "name": "stdout",
     "output_type": "stream",
     "text": [
      "[{'greg': 95}, {'john': 25}, {'yang': 50}, {'timothy': 15}, {'melisa': 100}, {'thor': 10}, {'elen': 25}, {'mark': 80}, {'steve': 95}, {'anna': 20}]\n",
      "[95, 25, 50, 15, 100, 10, 25, 80, 95, 20]\n",
      "\n",
      "\n",
      "**************************************************\n",
      "A반 성적 분석 결과\n",
      "**************************************************\n",
      "A반의 평균은 51.5점이고 분산은 1240.2이며, 따라서 표준편차는 35.2이다\n",
      "**************************************************\n",
      "A반 종합 평가\n",
      "**************************************************\n",
      "\n",
      "\n",
      "성적은 평균이상이지만 학생들 실력 차이가 크다. 주의 요망!\n"
     ]
    }
   ],
   "source": [
    "import pickle\n",
    "import math\n",
    "from functools import reduce\n",
    "\n",
    "def average(scores):\n",
    "    return reduce(lambda a, b: a + b, scores)/len(scores)\n",
    "\n",
    "def variance(scores, avrg):\n",
    "    return reduce(lambda a, b: a + b, map(lambda s:(s-avrg)**2, scores))/len(scores)\n",
    "\n",
    "def evaluateClass(avrg, std_dev):\n",
    "    if avrg <50 and std_dev >20:\n",
    "        print(\"성적이 너무 저조하고 학생들의 실력 차이가 너무 크다.\")\n",
    "    elif avrg > 50 and std_dev >20:\n",
    "        print(\"성적은 평균이상이지만 학생들 실력 차이가 크다. 주의 요망!\")\n",
    "    elif avrg < 50 and std_dev <20:\n",
    "        print(\"학생들간 실력차는 나지 않으나 성적이 너무 저조하다. 주의 요망!\")\n",
    "    elif avrg > 50 and std_dev <20:\n",
    "        print(\"성적도 평균 이상이고 학생들의 실력차도 크지 않다.\")\n",
    "\n",
    "f = open(\"class_A.bin\", \"rb\")\n",
    "\n",
    "items = []\n",
    "\n",
    "while 1:\n",
    "    try: \n",
    "        data = pickle.load(f)\n",
    "    except EOFError:\n",
    "        break    \n",
    "    items.append(data)\n",
    "\n",
    "print(items)\n",
    "\n",
    "scores = []\n",
    "\n",
    "# normal way\n",
    "'''\n",
    "for item in items:\n",
    "    for value in item.values():\n",
    "        scores.append(value)\n",
    "'''\n",
    "\n",
    "#pythonic way??\n",
    "scores = list(map(lambda x: x[0] , map(lambda item:list(item.values()),items)))\n",
    "\n",
    "print(scores)\n",
    "\n",
    "avrg = average(scores)\n",
    "variance = round(variance(scores, avrg), 1)\n",
    "standard_deviation = round(math.sqrt(variance), 1)\n",
    "\n",
    "print(\"\\n\")\n",
    "\n",
    "print('*' * 50)\n",
    "print(\"A반 성적 분석 결과\")\n",
    "print('*' * 50)\n",
    "print(\"A반의 평균은 {0}점이고 분산은 {1}이며, 따라서 표준편차는 {2}이다\".format(avrg, variance, standard_deviation))\n",
    "print('*' * 50)\n",
    "print(\"A반 종합 평가\")\n",
    "print('*' * 50)\n",
    "\n",
    "print('\\n')\n",
    "evaluateClass(avrg, standard_deviation)\n",
    "\n",
    "f.close()"
   ]
  },
  {
   "cell_type": "code",
   "execution_count": null,
   "metadata": {
    "collapsed": true
   },
   "outputs": [],
   "source": []
  }
 ],
 "metadata": {
  "kernelspec": {
   "display_name": "Python 3",
   "language": "python",
   "name": "python3"
  },
  "language_info": {
   "codemirror_mode": {
    "name": "ipython",
    "version": 3
   },
   "file_extension": ".py",
   "mimetype": "text/x-python",
   "name": "python",
   "nbconvert_exporter": "python",
   "pygments_lexer": "ipython3",
   "version": "3.6.0"
  }
 },
 "nbformat": 4,
 "nbformat_minor": 2
}
