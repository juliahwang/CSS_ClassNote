{
 "cells": [
  {
   "cell_type": "code",
   "execution_count": 3,
   "metadata": {
    "collapsed": false,
    "deletable": true,
    "editable": true
   },
   "outputs": [],
   "source": [
    "import sqlite3 as lite\n",
    "\n",
    "# DB연결\n",
    "conn = lite.connect('user.db')\n",
    "\n",
    "# ---하나의 과정---\n",
    "\n",
    "cur = conn.cursor()    # 커서 생성\n",
    "cur.execute(\"SELECT * from user\")   # 커서를 이용하여 sql문 실행\n",
    "rows = cur.fetchall()   # 파이썬이 이해할 수 있도록 fetch & 줄마다 반복문 실행\n",
    "\n",
    "for row in rows:\n",
    "    print(row)\n",
    "conn.close()\n",
    "#---------------"
   ]
  },
  {
   "cell_type": "code",
   "execution_count": 4,
   "metadata": {
    "collapsed": false,
    "deletable": true,
    "editable": true
   },
   "outputs": [
    {
     "name": "stdout",
     "output_type": "stream",
     "text": [
      "(1, 'ythwork', 30, 'c')\n",
      "(2, 'abc', 30, 'golang')\n",
      "(3, 'dongdong', 29, 'fb')\n"
     ]
    }
   ],
   "source": [
    "conn = lite.connect('user.db')\n",
    "\n",
    "cur = conn.cursor()\n",
    "cur.execute(\"INSERT INTO user (name, age, lang) \\\n",
    "VALUES('ythwork', 30, 'c')\")\n",
    "cur.execute(\"INSERT INTO user (name, age, lang) \\\n",
    "VALUES('abc', 30, 'golang')\")\n",
    "cur.execute(\"INSERT INTO user (name, age, lang) \\\n",
    "VALUES('dongdong', 29, 'fb')\")\n",
    "\n",
    "cur.execute(\"SELECT * from user\")\n",
    "rows = cur.fetchall()\n",
    "\n",
    "for row in rows:\n",
    "    print(row)\n",
    "conn.commit()    # 데이터 삽입을 한 경우에는 커밋을 해줘야한다. 단순조회만 한 경우에는 안해도 됨(위)\n",
    "conn.close()"
   ]
  },
  {
   "cell_type": "code",
   "execution_count": 8,
   "metadata": {
    "collapsed": false,
    "deletable": true,
    "editable": true
   },
   "outputs": [
    {
     "name": "stdout",
     "output_type": "stream",
     "text": [
      "id=  1\n",
      "name=  ythwork\n",
      "age=  30\n",
      "lang=  c \n",
      "\n",
      "id=  2\n",
      "name=  abc\n",
      "age=  30\n",
      "lang=  golang \n",
      "\n",
      "id=  3\n",
      "name=  dongdong\n",
      "age=  29\n",
      "lang=  fb \n",
      "\n",
      "print closed\n"
     ]
    }
   ],
   "source": [
    "#fetch all생략\n",
    "conn = lite.connect('user.db')\n",
    "with conn:\n",
    "    cur = conn.execute(\"select id, name, age, lang from user\")\n",
    "    for row in cur:\n",
    "        print(\"id= \", row[0])\n",
    "        print(\"name= \", row[1])\n",
    "        print(\"age= \", row[2])\n",
    "        print(\"lang= \", row[3], \"\\n\")\n",
    "        \n",
    "print(\"print closed\")\n",
    "conn.close()"
   ]
  },
  {
   "cell_type": "code",
   "execution_count": 9,
   "metadata": {
    "collapsed": true,
    "deletable": true,
    "editable": true
   },
   "outputs": [],
   "source": [
    "# UPDATE\n",
    "conn = lite.connect('user.db')\n",
    "cur = conn.cursor()\n",
    "\n",
    "with conn:\n",
    "    conn.execute(\"UPDATE user SET lang = 'python' where id = 2\")\n",
    "    conn.commit()\n",
    "conn.close()"
   ]
  },
  {
   "cell_type": "code",
   "execution_count": 10,
   "metadata": {
    "collapsed": false,
    "deletable": true,
    "editable": true
   },
   "outputs": [
    {
     "name": "stdout",
     "output_type": "stream",
     "text": [
      "id=  1\n",
      "name=  ythwork\n",
      "age=  30\n",
      "lang=  c \n",
      "\n",
      "id=  2\n",
      "name=  abc\n",
      "age=  30\n",
      "lang=  python \n",
      "\n",
      "id=  3\n",
      "name=  dongdong\n",
      "age=  29\n",
      "lang=  fb \n",
      "\n"
     ]
    }
   ],
   "source": [
    "# UPDATE 조회\n",
    "conn = lite.connect('user.db')\n",
    "cur = conn.cursor()\n",
    "with conn:\n",
    "    rows = conn.execute(\"SELECT id, name, age, lang from user\")\n",
    "    for row in rows:\n",
    "        print(\"id= \", row[0])\n",
    "        print(\"name= \", row[1])\n",
    "        print(\"age= \", row[2])\n",
    "        print(\"lang= \", row[3], \"\\n\")\n",
    "    \n",
    "conn.close()"
   ]
  },
  {
   "cell_type": "code",
   "execution_count": 11,
   "metadata": {
    "collapsed": false,
    "deletable": true,
    "editable": true
   },
   "outputs": [
    {
     "name": "stdout",
     "output_type": "stream",
     "text": [
      "Deletion complete \n",
      "\n",
      "id=  3\n",
      "name=  dongdong\n",
      "age=  29\n",
      "lang=  fb \n",
      "\n",
      "id=  3\n",
      "name=  dongdong\n",
      "age=  29\n",
      "lang=  fb \n",
      "\n"
     ]
    }
   ],
   "source": [
    "# DELETE + 조회\n",
    "conn = lite.connect('user.db')\n",
    "with conn:\n",
    "    conn.execute(\"DELETE from user where id = 3\")\n",
    "    conn.commit()\n",
    "    print(\"Deletion complete\", \"\\n\")\n",
    "    \n",
    "    user_data = conn.execute(\"SELECT id, name, age, lang from user\")\n",
    "    for user in user_data:\n",
    "        print(\"id= \", row[0])\n",
    "        print(\"name= \", row[1])\n",
    "        print(\"age= \", row[2])\n",
    "        print(\"lang= \", row[3], \"\\n\")\n",
    "        \n",
    "conn.close()\n",
    "\n",
    "# 이후 새로운 데이터를 추가하게되면 지워진 3번에 추가되는 것이 아니라 5번에 생성된다."
   ]
  },
  {
   "cell_type": "code",
   "execution_count": null,
   "metadata": {
    "collapsed": true,
    "deletable": true,
    "editable": true
   },
   "outputs": [],
   "source": []
  }
 ],
 "metadata": {
  "kernelspec": {
   "display_name": "Python 3",
   "language": "python",
   "name": "python3"
  },
  "language_info": {
   "codemirror_mode": {
    "name": "ipython",
    "version": 3
   },
   "file_extension": ".py",
   "mimetype": "text/x-python",
   "name": "python",
   "nbconvert_exporter": "python",
   "pygments_lexer": "ipython3",
   "version": "3.6.0"
  }
 },
 "nbformat": 4,
 "nbformat_minor": 2
}
