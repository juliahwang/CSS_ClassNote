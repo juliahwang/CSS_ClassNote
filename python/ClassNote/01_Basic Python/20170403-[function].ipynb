{
 "cells": [
  {
   "cell_type": "code",
   "execution_count": 2,
   "metadata": {
    "collapsed": false
   },
   "outputs": [
    {
     "name": "stdout",
     "output_type": "stream",
     "text": [
      "hello\n"
     ]
    }
   ],
   "source": [
    "# func without input\n",
    "\n",
    "def print_hello():\n",
    "    return \"hello\"\n",
    "\n",
    "result_hello = print_hello()\n",
    "print(result_hello)"
   ]
  },
  {
   "cell_type": "code",
   "execution_count": 5,
   "metadata": {
    "collapsed": false
   },
   "outputs": [
    {
     "name": "stdout",
     "output_type": "stream",
     "text": [
      "This is func without return for 3 times\n"
     ]
    }
   ],
   "source": [
    "# func without return\n",
    "\n",
    "def func_wo_return(a):\n",
    "    print(\"This is func without return for \" + str(a) + \" times\")\n",
    "    \n",
    "func_wo_return(3)    "
   ]
  },
  {
   "cell_type": "code",
   "execution_count": 6,
   "metadata": {
    "collapsed": false
   },
   "outputs": [
    {
     "data": {
      "text/plain": [
       "(3, 4)"
      ]
     },
     "execution_count": 6,
     "metadata": {},
     "output_type": "execute_result"
    }
   ],
   "source": [
    "def multi(a):\n",
    "    a = a\n",
    "    b = a + 1\n",
    "    return a, b\n",
    "\n",
    "multi(3)"
   ]
  },
  {
   "cell_type": "code",
   "execution_count": null,
   "metadata": {
    "collapsed": false
   },
   "outputs": [],
   "source": [
    "def id_check():\n",
    "    while True:\n",
    "        a = input(\"Type the ID: \")\n",
    "        \n",
    "        if a != \"admin\":\n",
    "            print(\"valid id: \", a)\n",
    "            break\n",
    "        else: \n",
    "            print(\"invalid ID: admin\")"
   ]
  },
  {
   "cell_type": "code",
   "execution_count": null,
   "metadata": {
    "collapsed": false
   },
   "outputs": [],
   "source": [
    "id_check()"
   ]
  },
  {
   "cell_type": "code",
   "execution_count": 44,
   "metadata": {
    "collapsed": false
   },
   "outputs": [
    {
     "name": "stdout",
     "output_type": "stream",
     "text": [
      "Type the id: hi\n",
      "hello,  hi\n"
     ]
    }
   ],
   "source": [
    "f = input(\"Type the id: \")\n",
    "\n",
    "def id_check(a):\n",
    "    if a == \"admin\":\n",
    "        print(\"type other id\")\n",
    "    else:\n",
    "        print(\"hello, \", a)\n",
    "        \n",
    "id_check(f)"
   ]
  },
  {
   "cell_type": "code",
   "execution_count": 53,
   "metadata": {
    "collapsed": false
   },
   "outputs": [],
   "source": [
    "def id_check():\n",
    "    while True:\n",
    "        a = input(\"Type the ID: \")\n",
    "        \n",
    "        if a == \"admin\":\n",
    "            print(\"invalid ID: admin\")\n",
    "        else:\n",
    "            print(\"valid id: \", a)\n",
    "            break"
   ]
  },
  {
   "cell_type": "code",
   "execution_count": 54,
   "metadata": {
    "collapsed": false
   },
   "outputs": [
    {
     "name": "stdout",
     "output_type": "stream",
     "text": [
      "Type the ID: admin\n",
      "invalid ID: admin\n",
      "Type the ID: admin\n",
      "invalid ID: admin\n",
      "Type the ID: admin\n",
      "invalid ID: admin\n"
     ]
    },
    {
     "ename": "KeyboardInterrupt",
     "evalue": "",
     "output_type": "error",
     "traceback": [
      "\u001b[0;31m---------------------------------------------------------------------------\u001b[0m",
      "\u001b[0;31mKeyboardInterrupt\u001b[0m                         Traceback (most recent call last)",
      "\u001b[0;32m/Users/hwangseonjeong/.pyenv/versions/3.6.0/envs/css-3.6.0/lib/python3.6/site-packages/ipykernel/kernelbase.py\u001b[0m in \u001b[0;36m_input_request\u001b[0;34m(self, prompt, ident, parent, password)\u001b[0m\n\u001b[1;32m    718\u001b[0m             \u001b[0;32mtry\u001b[0m\u001b[0;34m:\u001b[0m\u001b[0;34m\u001b[0m\u001b[0m\n\u001b[0;32m--> 719\u001b[0;31m                 \u001b[0mident\u001b[0m\u001b[0;34m,\u001b[0m \u001b[0mreply\u001b[0m \u001b[0;34m=\u001b[0m \u001b[0mself\u001b[0m\u001b[0;34m.\u001b[0m\u001b[0msession\u001b[0m\u001b[0;34m.\u001b[0m\u001b[0mrecv\u001b[0m\u001b[0;34m(\u001b[0m\u001b[0mself\u001b[0m\u001b[0;34m.\u001b[0m\u001b[0mstdin_socket\u001b[0m\u001b[0;34m,\u001b[0m \u001b[0;36m0\u001b[0m\u001b[0;34m)\u001b[0m\u001b[0;34m\u001b[0m\u001b[0m\n\u001b[0m\u001b[1;32m    720\u001b[0m             \u001b[0;32mexcept\u001b[0m \u001b[0mException\u001b[0m\u001b[0;34m:\u001b[0m\u001b[0;34m\u001b[0m\u001b[0m\n",
      "\u001b[0;32m/Users/hwangseonjeong/.pyenv/versions/3.6.0/envs/css-3.6.0/lib/python3.6/site-packages/jupyter_client/session.py\u001b[0m in \u001b[0;36mrecv\u001b[0;34m(self, socket, mode, content, copy)\u001b[0m\n\u001b[1;32m    777\u001b[0m         \u001b[0;32mtry\u001b[0m\u001b[0;34m:\u001b[0m\u001b[0;34m\u001b[0m\u001b[0m\n\u001b[0;32m--> 778\u001b[0;31m             \u001b[0mmsg_list\u001b[0m \u001b[0;34m=\u001b[0m \u001b[0msocket\u001b[0m\u001b[0;34m.\u001b[0m\u001b[0mrecv_multipart\u001b[0m\u001b[0;34m(\u001b[0m\u001b[0mmode\u001b[0m\u001b[0;34m,\u001b[0m \u001b[0mcopy\u001b[0m\u001b[0;34m=\u001b[0m\u001b[0mcopy\u001b[0m\u001b[0;34m)\u001b[0m\u001b[0;34m\u001b[0m\u001b[0m\n\u001b[0m\u001b[1;32m    779\u001b[0m         \u001b[0;32mexcept\u001b[0m \u001b[0mzmq\u001b[0m\u001b[0;34m.\u001b[0m\u001b[0mZMQError\u001b[0m \u001b[0;32mas\u001b[0m \u001b[0me\u001b[0m\u001b[0;34m:\u001b[0m\u001b[0;34m\u001b[0m\u001b[0m\n",
      "\u001b[0;32m/Users/hwangseonjeong/.pyenv/versions/3.6.0/envs/css-3.6.0/lib/python3.6/site-packages/zmq/sugar/socket.py\u001b[0m in \u001b[0;36mrecv_multipart\u001b[0;34m(self, flags, copy, track)\u001b[0m\n\u001b[1;32m    394\u001b[0m         \"\"\"\n\u001b[0;32m--> 395\u001b[0;31m         \u001b[0mparts\u001b[0m \u001b[0;34m=\u001b[0m \u001b[0;34m[\u001b[0m\u001b[0mself\u001b[0m\u001b[0;34m.\u001b[0m\u001b[0mrecv\u001b[0m\u001b[0;34m(\u001b[0m\u001b[0mflags\u001b[0m\u001b[0;34m,\u001b[0m \u001b[0mcopy\u001b[0m\u001b[0;34m=\u001b[0m\u001b[0mcopy\u001b[0m\u001b[0;34m,\u001b[0m \u001b[0mtrack\u001b[0m\u001b[0;34m=\u001b[0m\u001b[0mtrack\u001b[0m\u001b[0;34m)\u001b[0m\u001b[0;34m]\u001b[0m\u001b[0;34m\u001b[0m\u001b[0m\n\u001b[0m\u001b[1;32m    396\u001b[0m         \u001b[0;31m# have first part already, only loop while more to receive\u001b[0m\u001b[0;34m\u001b[0m\u001b[0;34m\u001b[0m\u001b[0m\n",
      "\u001b[0;32mzmq/backend/cython/socket.pyx\u001b[0m in \u001b[0;36mzmq.backend.cython.socket.Socket.recv (zmq/backend/cython/socket.c:7683)\u001b[0;34m()\u001b[0m\n",
      "\u001b[0;32mzmq/backend/cython/socket.pyx\u001b[0m in \u001b[0;36mzmq.backend.cython.socket.Socket.recv (zmq/backend/cython/socket.c:7460)\u001b[0;34m()\u001b[0m\n",
      "\u001b[0;32mzmq/backend/cython/socket.pyx\u001b[0m in \u001b[0;36mzmq.backend.cython.socket._recv_copy (zmq/backend/cython/socket.c:2344)\u001b[0;34m()\u001b[0m\n",
      "\u001b[0;32m/Users/hwangseonjeong/.pyenv/versions/3.6.0/envs/css-3.6.0/lib/python3.6/site-packages/zmq/backend/cython/checkrc.pxd\u001b[0m in \u001b[0;36mzmq.backend.cython.checkrc._check_rc (zmq/backend/cython/socket.c:9621)\u001b[0;34m()\u001b[0m\n",
      "\u001b[0;31mKeyboardInterrupt\u001b[0m: ",
      "\nDuring handling of the above exception, another exception occurred:\n",
      "\u001b[0;31mKeyboardInterrupt\u001b[0m                         Traceback (most recent call last)",
      "\u001b[0;32m<ipython-input-54-2f253f4a3ade>\u001b[0m in \u001b[0;36m<module>\u001b[0;34m()\u001b[0m\n\u001b[0;32m----> 1\u001b[0;31m \u001b[0mid_check\u001b[0m\u001b[0;34m(\u001b[0m\u001b[0;34m)\u001b[0m\u001b[0;34m\u001b[0m\u001b[0m\n\u001b[0m",
      "\u001b[0;32m<ipython-input-53-1e269a84fae1>\u001b[0m in \u001b[0;36mid_check\u001b[0;34m()\u001b[0m\n\u001b[1;32m      1\u001b[0m \u001b[0;32mdef\u001b[0m \u001b[0mid_check\u001b[0m\u001b[0;34m(\u001b[0m\u001b[0;34m)\u001b[0m\u001b[0;34m:\u001b[0m\u001b[0;34m\u001b[0m\u001b[0m\n\u001b[1;32m      2\u001b[0m     \u001b[0;32mwhile\u001b[0m \u001b[0;32mTrue\u001b[0m\u001b[0;34m:\u001b[0m\u001b[0;34m\u001b[0m\u001b[0m\n\u001b[0;32m----> 3\u001b[0;31m         \u001b[0ma\u001b[0m \u001b[0;34m=\u001b[0m \u001b[0minput\u001b[0m\u001b[0;34m(\u001b[0m\u001b[0;34m\"Type the ID: \"\u001b[0m\u001b[0;34m)\u001b[0m\u001b[0;34m\u001b[0m\u001b[0m\n\u001b[0m\u001b[1;32m      4\u001b[0m \u001b[0;34m\u001b[0m\u001b[0m\n\u001b[1;32m      5\u001b[0m         \u001b[0;32mif\u001b[0m \u001b[0ma\u001b[0m \u001b[0;34m==\u001b[0m \u001b[0;34m\"admin\"\u001b[0m\u001b[0;34m:\u001b[0m\u001b[0;34m\u001b[0m\u001b[0m\n",
      "\u001b[0;32m/Users/hwangseonjeong/.pyenv/versions/3.6.0/envs/css-3.6.0/lib/python3.6/site-packages/ipykernel/kernelbase.py\u001b[0m in \u001b[0;36mraw_input\u001b[0;34m(self, prompt)\u001b[0m\n\u001b[1;32m    692\u001b[0m             \u001b[0mself\u001b[0m\u001b[0;34m.\u001b[0m\u001b[0m_parent_ident\u001b[0m\u001b[0;34m,\u001b[0m\u001b[0;34m\u001b[0m\u001b[0m\n\u001b[1;32m    693\u001b[0m             \u001b[0mself\u001b[0m\u001b[0;34m.\u001b[0m\u001b[0m_parent_header\u001b[0m\u001b[0;34m,\u001b[0m\u001b[0;34m\u001b[0m\u001b[0m\n\u001b[0;32m--> 694\u001b[0;31m             \u001b[0mpassword\u001b[0m\u001b[0;34m=\u001b[0m\u001b[0;32mFalse\u001b[0m\u001b[0;34m,\u001b[0m\u001b[0;34m\u001b[0m\u001b[0m\n\u001b[0m\u001b[1;32m    695\u001b[0m         )\n\u001b[1;32m    696\u001b[0m \u001b[0;34m\u001b[0m\u001b[0m\n",
      "\u001b[0;32m/Users/hwangseonjeong/.pyenv/versions/3.6.0/envs/css-3.6.0/lib/python3.6/site-packages/ipykernel/kernelbase.py\u001b[0m in \u001b[0;36m_input_request\u001b[0;34m(self, prompt, ident, parent, password)\u001b[0m\n\u001b[1;32m    722\u001b[0m             \u001b[0;32mexcept\u001b[0m \u001b[0mKeyboardInterrupt\u001b[0m\u001b[0;34m:\u001b[0m\u001b[0;34m\u001b[0m\u001b[0m\n\u001b[1;32m    723\u001b[0m                 \u001b[0;31m# re-raise KeyboardInterrupt, to truncate traceback\u001b[0m\u001b[0;34m\u001b[0m\u001b[0;34m\u001b[0m\u001b[0m\n\u001b[0;32m--> 724\u001b[0;31m                 \u001b[0;32mraise\u001b[0m \u001b[0mKeyboardInterrupt\u001b[0m\u001b[0;34m\u001b[0m\u001b[0m\n\u001b[0m\u001b[1;32m    725\u001b[0m             \u001b[0;32melse\u001b[0m\u001b[0;34m:\u001b[0m\u001b[0;34m\u001b[0m\u001b[0m\n\u001b[1;32m    726\u001b[0m                 \u001b[0;32mbreak\u001b[0m\u001b[0;34m\u001b[0m\u001b[0m\n",
      "\u001b[0;31mKeyboardInterrupt\u001b[0m: "
     ]
    }
   ],
   "source": [
    "id_check()"
   ]
  },
  {
   "cell_type": "code",
   "execution_count": 55,
   "metadata": {
    "collapsed": false
   },
   "outputs": [],
   "source": [
    "def say_hello(name=\"Fool\", nick=True):\n",
    "    print(\"Hi, \", name)\n",
    "    if nick == True:\n",
    "        print(\"But, you are Fool\")\n",
    "    else:\n",
    "        print(\"Oh, you are not Fool\")"
   ]
  },
  {
   "cell_type": "code",
   "execution_count": 56,
   "metadata": {
    "collapsed": false
   },
   "outputs": [
    {
     "name": "stdout",
     "output_type": "stream",
     "text": [
      "Hi,  Fool\n",
      "But, you are Fool\n"
     ]
    }
   ],
   "source": [
    "say_hello()"
   ]
  },
  {
   "cell_type": "code",
   "execution_count": 57,
   "metadata": {
    "collapsed": false
   },
   "outputs": [
    {
     "name": "stdout",
     "output_type": "stream",
     "text": [
      "Hi,  Fool\n",
      "you're a fool!\n"
     ]
    }
   ],
   "source": [
    "def say_hello(name=\"Fool\", nick=True):\n",
    "    print(\"Hi, \", name)\n",
    "    if nick == True:\n",
    "        print(\"you're a fool!\")\n",
    "    else:\n",
    "        print(\"oh, you're not a fool!\")\n",
    "say_hello()"
   ]
  },
  {
   "cell_type": "code",
   "execution_count": 60,
   "metadata": {
    "collapsed": true
   },
   "outputs": [],
   "source": [
    "def mul_sum(*args):\n",
    "    sum = 0\n",
    "    for i in args:\n",
    "        sum += i\n",
    "    return sum"
   ]
  },
  {
   "cell_type": "markdown",
   "metadata": {},
   "source": [
    "mul_sum()"
   ]
  },
  {
   "cell_type": "code",
   "execution_count": 63,
   "metadata": {
    "collapsed": false
   },
   "outputs": [
    {
     "data": {
      "text/plain": [
       "5"
      ]
     },
     "execution_count": 63,
     "metadata": {},
     "output_type": "execute_result"
    }
   ],
   "source": [
    "def awe_sum(a, b):\n",
    "    result = 0\n",
    "    result = a + b\n",
    "    return result\n",
    "\n",
    "awe_sum(2, 3)"
   ]
  },
  {
   "cell_type": "code",
   "execution_count": 64,
   "metadata": {
    "collapsed": false
   },
   "outputs": [
    {
     "name": "stdout",
     "output_type": "stream",
     "text": [
      "hello\n"
     ]
    }
   ],
   "source": [
    "# return 방법 1\n",
    "\n",
    "def input_hello():\n",
    "    print(\"hello\")\n",
    "\n",
    "input_hello()"
   ]
  },
  {
   "cell_type": "code",
   "execution_count": 65,
   "metadata": {
    "collapsed": false
   },
   "outputs": [
    {
     "name": "stdout",
     "output_type": "stream",
     "text": [
      "hello\n"
     ]
    }
   ],
   "source": [
    "# return 방법 2\n",
    "\n",
    "def input_hello():\n",
    "    return \"hello\"\n",
    "\n",
    "result_hello = input_hello()\n",
    "print(result_hello)"
   ]
  },
  {
   "cell_type": "code",
   "execution_count": 66,
   "metadata": {
    "collapsed": false
   },
   "outputs": [
    {
     "name": "stdout",
     "output_type": "stream",
     "text": [
      "10\n"
     ]
    }
   ],
   "source": [
    "print(awe_sum(3, 7))"
   ]
  },
  {
   "cell_type": "code",
   "execution_count": 140,
   "metadata": {
    "collapsed": false
   },
   "outputs": [],
   "source": [
    "# input without output\n",
    "\n",
    "def func_wo_return(a):\n",
    "    print(\"This is func wo return for \" + str(a) + \" times.\")"
   ]
  },
  {
   "cell_type": "code",
   "execution_count": 141,
   "metadata": {
    "collapsed": false
   },
   "outputs": [
    {
     "name": "stdout",
     "output_type": "stream",
     "text": [
      "This is func wo return for 3 times.\n",
      "None\n"
     ]
    }
   ],
   "source": [
    "print(func_wo_return(3))"
   ]
  },
  {
   "cell_type": "code",
   "execution_count": 78,
   "metadata": {
    "collapsed": true
   },
   "outputs": [],
   "source": [
    "def func_wo_return(a):\n",
    "    a += 10\n",
    "\n",
    "func_wo_return(3)\n",
    "# return을 쓰지 않으면 계산은 하지만 값을 내놓지 않는다."
   ]
  },
  {
   "cell_type": "code",
   "execution_count": 79,
   "metadata": {
    "collapsed": false
   },
   "outputs": [
    {
     "data": {
      "text/plain": [
       "13"
      ]
     },
     "execution_count": 79,
     "metadata": {},
     "output_type": "execute_result"
    }
   ],
   "source": [
    "# 값을 받으려면 \n",
    "def func_wo_return(a):\n",
    "    a += 10\n",
    "    return a\n",
    "\n",
    "func_wo_return(3)\n",
    "\n",
    "# a = 0 은 쓰지 않는다. \n",
    "# 연산값을 받을 때만 result = 0 이런 식으로 사용"
   ]
  },
  {
   "cell_type": "code",
   "execution_count": 81,
   "metadata": {
    "collapsed": false
   },
   "outputs": [
    {
     "data": {
      "text/plain": [
       "13"
      ]
     },
     "execution_count": 81,
     "metadata": {},
     "output_type": "execute_result"
    }
   ],
   "source": [
    "def apop(a, b):\n",
    "    a += 3\n",
    "    b += 2\n",
    "    return a + b\n",
    "\n",
    "apop(2, 6)"
   ]
  },
  {
   "cell_type": "code",
   "execution_count": 85,
   "metadata": {
    "collapsed": false
   },
   "outputs": [
    {
     "data": {
      "text/plain": [
       "(4, 5)"
      ]
     },
     "execution_count": 85,
     "metadata": {},
     "output_type": "execute_result"
    }
   ],
   "source": [
    "def mul_return(x):\n",
    "    a = x\n",
    "    b = x + 1\n",
    "    return a, b\n",
    "\n",
    "mul_return(4)"
   ]
  },
  {
   "cell_type": "code",
   "execution_count": 87,
   "metadata": {
    "collapsed": false
   },
   "outputs": [
    {
     "name": "stdout",
     "output_type": "stream",
     "text": [
      "Type your id: hello\n",
      "valid id:  hello\n"
     ]
    }
   ],
   "source": [
    "username = input(\"Type your id: \")\n",
    "\n",
    "def check_id(username):\n",
    "    if username == \"admin\":\n",
    "        print(\"invalid id: admin\")\n",
    "    else:\n",
    "        print(\"valid id: \", username)\n",
    "        \n",
    "check_id(username)"
   ]
  },
  {
   "cell_type": "code",
   "execution_count": 97,
   "metadata": {
    "collapsed": false
   },
   "outputs": [
    {
     "name": "stdout",
     "output_type": "stream",
     "text": [
      "Hi,  hello\n",
      "You're not a fool\n"
     ]
    }
   ],
   "source": [
    "def say_hello(name, nick = True):\n",
    "    print(\"Hi, \", name)\n",
    "    if nick == True:\n",
    "        print(\"You're a fool\")\n",
    "    else:\n",
    "        print(\"You're not a fool\")\n",
    "        \n",
    "say_hello(\"hello\", 3)\n",
    "\n",
    "# say_hello(\"hello\", 4)\n",
    "# True라는 불린형과 4라는 인트형이 자료형이 다르므로 false로\n",
    "# 넘어가서 else의 문장을 출력한다. "
   ]
  },
  {
   "cell_type": "code",
   "execution_count": 100,
   "metadata": {
    "collapsed": true
   },
   "outputs": [],
   "source": [
    "# arguments : 파라미터의 갯수를 지정하기 힘들 때 사용한다.\n",
    "# arguments들을 받아서 for문에 돌려 arguments의 parameter(인자)\n",
    "# 들을 하나하나 sum에 저장하는 식. \n",
    "# pass                함수를 만들어놓고 아무 기능을 하지 않을 때\n",
    "\n",
    "def mul_sum(*args):\n",
    "    sum = 0             # 합 초기화  \n",
    "    for i in args:\n",
    "        sum += i\n",
    "    return sum"
   ]
  },
  {
   "cell_type": "code",
   "execution_count": 104,
   "metadata": {
    "collapsed": false
   },
   "outputs": [
    {
     "data": {
      "text/plain": [
       "87"
      ]
     },
     "execution_count": 104,
     "metadata": {},
     "output_type": "execute_result"
    }
   ],
   "source": [
    "mul_sum(34, 3, 2, 6, 7, 35)"
   ]
  },
  {
   "cell_type": "code",
   "execution_count": 105,
   "metadata": {
    "collapsed": false
   },
   "outputs": [
    {
     "data": {
      "text/plain": [
       "3"
      ]
     },
     "execution_count": 105,
     "metadata": {},
     "output_type": "execute_result"
    }
   ],
   "source": [
    "mul_sum(1, 2)\n",
    "# 인자를 함수 안에 넣어준다. 인자의 갯수를 특정하지 못할 경우에 사용\n",
    "# 특별한 값들을 특정한 자료형에 받아놓은 다음 리스트에 한꺼번에 집어넣을때 사용\n",
    "# 파이썬 아규먼츠의 특별한 기능으로 보면 됨. \n",
    "# *를 붙이는 것이 아규먼츠임.  \n",
    "# \"변수에 *를 붙이면 아규먼츠가 된다.\"\n",
    "# *cat 이라고 해도 작동함.\n",
    "# 비슷한 요소를 한번에 붙여넣을 때 주로 사용한다. "
   ]
  },
  {
   "cell_type": "code",
   "execution_count": 109,
   "metadata": {
    "collapsed": false
   },
   "outputs": [
    {
     "data": {
      "text/plain": [
       "'https://www.naver.com:8080?query=고양이&where=nexearch&ie=utf-8&'"
      ]
     },
     "execution_count": 109,
     "metadata": {},
     "output_type": "execute_result"
    }
   ],
   "source": [
    "'''\n",
    "# keyword arguments\n",
    "\n",
    "아규먼츠와 다른 점은 key와 value가 있다는 것고 *가 2개 붙는다.\n",
    "  # https:// - 프로토콜\n",
    "  # www.google.com - 도메인\n",
    "  # ? ~ - 추가정보를 입력할 때 ?를 붙인다.\n",
    "  # query - 내가 입력한 정보\n",
    "keyword arguments 를 통해서 웹 크롤링 및 데이터마이닝을 할 수 있다.\n",
    "\n",
    "**query라는 아규먼츠에서 key라는 파라미터를 하나하나 넣어서 반복문을 돌린다.\n",
    "key를 이용하면 바로 value에 접근할 수 있기 때문.\n",
    "여러 개의 query를 생성하여 ? 다음에 계속 붙도록 만듦.\n",
    "''' \n",
    "\n",
    "def kwargs_url(server, port, **query):\n",
    "    url = \"https://\" + server + \":\" + port + \"?\"\n",
    "    # https://search.naver.com:8080/search.naver? 까지 만든 것.\n",
    "    # port는 일반적으로 숨겨져 있음. \n",
    "    \n",
    "    for key in query.keys():\n",
    "    # key는 쿼리의 모든 key들에서 불러온다. \n",
    "    \n",
    "        url += key + \"=\" + query[key] + \"&\"\n",
    "        # query[key] - query 아규먼츠 안의 key 파라미터가 가르키는 value값 호출\n",
    "    return url\n",
    "\n",
    "kwargs_url(\"www.naver.com\", \"8080\", query=\"고양이\", where=\"nexearch\", ie=\"utf-8\")"
   ]
  },
  {
   "cell_type": "code",
   "execution_count": 110,
   "metadata": {
    "collapsed": false
   },
   "outputs": [
    {
     "data": {
      "text/plain": [
       "'hello world'"
      ]
     },
     "execution_count": 110,
     "metadata": {},
     "output_type": "execute_result"
    }
   ],
   "source": [
    "# variable outside function\n",
    "# 함수는 그 자체의 정의만으로 동작할 수 있도록 만들어야한다.\n",
    "# 다른 곳에서 변수의 정의를 불러와서 함수가 동작한다면 잘못하고 있는 것.\n",
    "\n",
    "a = \"hello\"           # a = 전역(global) 변수\n",
    "def glob_test(a):     # a = 종속변수\n",
    "    a += \" world\"\n",
    "    return a\n",
    "\n",
    "glob_test(a)"
   ]
  },
  {
   "cell_type": "code",
   "execution_count": 111,
   "metadata": {
    "collapsed": false
   },
   "outputs": [
    {
     "data": {
      "text/plain": [
       "'hello world!'"
      ]
     },
     "execution_count": 111,
     "metadata": {},
     "output_type": "execute_result"
    }
   ],
   "source": [
    "a = \"hello\"\n",
    "\n",
    "def glob_test(a):\n",
    "    a += \" world!\"\n",
    "    return a\n",
    "\n",
    "glob_test(a)"
   ]
  },
  {
   "cell_type": "code",
   "execution_count": 117,
   "metadata": {
    "collapsed": false
   },
   "outputs": [
    {
     "data": {
      "text/plain": [
       "'hello world!'"
      ]
     },
     "execution_count": 117,
     "metadata": {},
     "output_type": "execute_result"
    }
   ],
   "source": [
    "a = \"hello\"\n",
    "\n",
    "def say_hello(boy):\n",
    "    boy += \" world!\"\n",
    "    return boy\n",
    "\n",
    "say_hello(a)"
   ]
  },
  {
   "cell_type": "code",
   "execution_count": 113,
   "metadata": {
    "collapsed": false
   },
   "outputs": [
    {
     "data": {
      "text/plain": [
       "'hello'"
      ]
     },
     "execution_count": 113,
     "metadata": {},
     "output_type": "execute_result"
    }
   ],
   "source": [
    "a\n",
    "# 하지만 a는 처음 지정해준 'hello'를 도출한다."
   ]
  },
  {
   "cell_type": "code",
   "execution_count": 118,
   "metadata": {
    "collapsed": false
   },
   "outputs": [
    {
     "data": {
      "text/plain": [
       "'hello world!'"
      ]
     },
     "execution_count": 118,
     "metadata": {},
     "output_type": "execute_result"
    }
   ],
   "source": [
    "# 따라서 a(전역) = boy(종속)가 되게 하려면\n",
    "a = say_hello(a)\n",
    "print(a)\n",
    "# global하게 쓰려면 해당 예제처럼 사용해야 한다.\n",
    "# 종속변수로 쓰이고 있음. \n",
    "\n",
    "#==============================\n",
    "a = \"hello\"\n",
    "def glob_test(a):\n",
    "    a += \" world\"\n",
    "    return a\n",
    "\n",
    "glob_test(a)\n",
    "#==============================\n",
    "# 함수를 돌리고 나온 출력값처럼 a를 변화시키려면 a = 함수 라고 지정해줘야한다.\n",
    "# 왜냐하면 a = \"hello\"의 a와 def say_hello(a):의 a가 다른 값이기 때문.\n",
    "#==============================\n",
    "a = \"hello\"\n",
    "def glob_test(x):\n",
    "    x += \" world\"\n",
    "    return x\n",
    "\n",
    "glob_test(a)\n",
    "#==============================\n",
    "# 함수 내의 변수 a를 x로 바꿔도 똑같이 동작하는 것을 보면 다른 것을 알 수 있다.\n",
    "# 함수에서 a를 전역변수로 쓰려면 global 함수를 사용한다. "
   ]
  },
  {
   "cell_type": "code",
   "execution_count": 122,
   "metadata": {
    "collapsed": false
   },
   "outputs": [],
   "source": [
    "# dog라는 전역변수를 함수 안으로 끌어와서 사용 - global dog\n",
    "dog = \"hello\"\n",
    "\n",
    "def glob_hello():\n",
    "    global dog\n",
    "    dog += \" world\"\n",
    "    return dog\n",
    "\n",
    "# ()안에 dog를 써버리면 함수 안에 dog가 어떤 것인지 정의되므로 error.\n",
    "# 비워서 쓰는 것이 맞다. \n",
    "# 이 경우에는 전역 변수의 dog와 함수 안의 dog가 같은 것으로 동작한다."
   ]
  },
  {
   "cell_type": "code",
   "execution_count": 123,
   "metadata": {
    "collapsed": false
   },
   "outputs": [
    {
     "data": {
      "text/plain": [
       "'hello world'"
      ]
     },
     "execution_count": 123,
     "metadata": {},
     "output_type": "execute_result"
    }
   ],
   "source": [
    "glob_hello()"
   ]
  },
  {
   "cell_type": "code",
   "execution_count": 124,
   "metadata": {
    "collapsed": false
   },
   "outputs": [
    {
     "name": "stdout",
     "output_type": "stream",
     "text": [
      "hello world\n"
     ]
    }
   ],
   "source": [
    "print(dog)"
   ]
  },
  {
   "cell_type": "code",
   "execution_count": 125,
   "metadata": {
    "collapsed": true
   },
   "outputs": [],
   "source": [
    "def glob_hello2():\n",
    "    global mice\n",
    "    mice += \" world\"\n",
    "    return mice\n",
    "\n",
    "# mice라는 전역변수를 주지 않은 경우에는 선언을 해버림. \n",
    "# dog를 함수 안으로 들여와서 단어를 더하고 내보내는 과정\n",
    "# 생쥐를 만들고 월드를 붙인 후 내보내는 과정 "
   ]
  },
  {
   "cell_type": "code",
   "execution_count": 126,
   "metadata": {
    "collapsed": false
   },
   "outputs": [
    {
     "ename": "NameError",
     "evalue": "name 'mice' is not defined",
     "output_type": "error",
     "traceback": [
      "\u001b[0;31m---------------------------------------------------------------------------\u001b[0m",
      "\u001b[0;31mNameError\u001b[0m                                 Traceback (most recent call last)",
      "\u001b[0;32m<ipython-input-126-ffbcfe729f03>\u001b[0m in \u001b[0;36m<module>\u001b[0;34m()\u001b[0m\n\u001b[0;32m----> 1\u001b[0;31m \u001b[0mglob_hello2\u001b[0m\u001b[0;34m(\u001b[0m\u001b[0;34m)\u001b[0m\u001b[0;34m\u001b[0m\u001b[0m\n\u001b[0m",
      "\u001b[0;32m<ipython-input-125-3b201293e5af>\u001b[0m in \u001b[0;36mglob_hello2\u001b[0;34m()\u001b[0m\n\u001b[1;32m      1\u001b[0m \u001b[0;32mdef\u001b[0m \u001b[0mglob_hello2\u001b[0m\u001b[0;34m(\u001b[0m\u001b[0;34m)\u001b[0m\u001b[0;34m:\u001b[0m\u001b[0;34m\u001b[0m\u001b[0m\n\u001b[1;32m      2\u001b[0m     \u001b[0;32mglobal\u001b[0m \u001b[0mmice\u001b[0m\u001b[0;34m\u001b[0m\u001b[0m\n\u001b[0;32m----> 3\u001b[0;31m     \u001b[0mmice\u001b[0m \u001b[0;34m+=\u001b[0m \u001b[0;34m\" world\"\u001b[0m\u001b[0;34m\u001b[0m\u001b[0m\n\u001b[0m\u001b[1;32m      4\u001b[0m     \u001b[0;32mreturn\u001b[0m \u001b[0mmice\u001b[0m\u001b[0;34m\u001b[0m\u001b[0m\n",
      "\u001b[0;31mNameError\u001b[0m: name 'mice' is not defined"
     ]
    }
   ],
   "source": [
    "glob_hello2()"
   ]
  },
  {
   "cell_type": "code",
   "execution_count": 129,
   "metadata": {
    "collapsed": false
   },
   "outputs": [
    {
     "ename": "SyntaxError",
     "evalue": "invalid syntax (<ipython-input-129-dbcd9c321b03>, line 9)",
     "output_type": "error",
     "traceback": [
      "\u001b[0;36m  File \u001b[0;32m\"<ipython-input-129-dbcd9c321b03>\"\u001b[0;36m, line \u001b[0;32m9\u001b[0m\n\u001b[0;31m    elif i % 100 == 0:\u001b[0m\n\u001b[0m       ^\u001b[0m\n\u001b[0;31mSyntaxError\u001b[0m\u001b[0;31m:\u001b[0m invalid syntax\n"
     ]
    }
   ],
   "source": [
    "# leap year\n",
    "\n",
    "def leap_year():\n",
    "    for i in range(1, 1000):\n",
    "        if i % 400 == 0:\n",
    "            print(str(i), \"is 윤년\")\n",
    "        elif i % 4 == 0:\n",
    "            print((str(i), \"is 윤년\")\n",
    "        elif i % 100 == 0:\n",
    "            print((str(i), \"is 평년\")\n",
    "        else:\n",
    "            print((str{i}, \"is 평년\")\n",
    "print(leap_year)"
   ]
  },
  {
   "cell_type": "code",
   "execution_count": 143,
   "metadata": {
    "collapsed": false
   },
   "outputs": [
    {
     "name": "stdout",
     "output_type": "stream",
     "text": [
      "Type the year: 400\n",
      "400  is leap\n",
      "None\n"
     ]
    }
   ],
   "source": [
    "def is_leap(year, leap = False):\n",
    "    if year % 4 == 0 and (year % 100 != 0 or year % 400 == 0):\n",
    "        leap = True\n",
    "        return print(year, \" is leap\")\n",
    "    else:\n",
    "        print(year, \" is not leap\")\n",
    "\n",
    "year = int(input(\"Type the year: \"))\n",
    "print(is_leap(year))\n",
    "# print를 붙일 경우 input은 있는데 output이 없는 함수이므로\n",
    "# none이 따라서 출력된다. "
   ]
  },
  {
   "cell_type": "code",
   "execution_count": 138,
   "metadata": {
    "collapsed": false
   },
   "outputs": [],
   "source": [
    "# input without output\n",
    "\n",
    "def func_wo_return(a):\n",
    "    print(\"This is func wo return for \" + str(a) + \" times.\")"
   ]
  },
  {
   "cell_type": "code",
   "execution_count": 142,
   "metadata": {
    "collapsed": false
   },
   "outputs": [
    {
     "name": "stdout",
     "output_type": "stream",
     "text": [
      "This is func wo return for 5 times.\n",
      "None\n"
     ]
    }
   ],
   "source": [
    "print(func_wo_return(5))"
   ]
  },
  {
   "cell_type": "code",
   "execution_count": null,
   "metadata": {
    "collapsed": false
   },
   "outputs": [
    {
     "name": "stdout",
     "output_type": "stream",
     "text": [
      "Type ID: admin\n",
      "invalid id: admin\n",
      "Type ID: admin\n",
      "invalid id: admin\n",
      "Type ID: admin\n",
      "invalid id: admin\n"
     ]
    }
   ],
   "source": [
    "def id_check(a):\n",
    "    while True:\n",
    "        a = input(\"Type ID: \")\n",
    "        \n",
    "        if a == \"admin\":\n",
    "            print(\"invalid id: admin\")\n",
    "        else:\n",
    "            print(\"valid id: \", a)\n",
    "            break\n",
    "\n",
    "id_check(a)"
   ]
  },
  {
   "cell_type": "code",
   "execution_count": null,
   "metadata": {
    "collapsed": true
   },
   "outputs": [],
   "source": []
  }
 ],
 "metadata": {
  "kernelspec": {
   "display_name": "Python 3",
   "language": "python",
   "name": "python3"
  },
  "language_info": {
   "codemirror_mode": {
    "name": "ipython",
    "version": 3
   },
   "file_extension": ".py",
   "mimetype": "text/x-python",
   "name": "python",
   "nbconvert_exporter": "python",
   "pygments_lexer": "ipython3",
   "version": "3.6.0"
  }
 },
 "nbformat": 4,
 "nbformat_minor": 2
}
