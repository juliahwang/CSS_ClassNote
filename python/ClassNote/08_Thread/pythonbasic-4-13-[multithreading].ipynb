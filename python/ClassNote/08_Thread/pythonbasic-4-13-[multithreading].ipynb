{
 "cells": [
  {
   "cell_type": "code",
   "execution_count": null,
   "metadata": {
    "collapsed": true
   },
   "outputs": [],
   "source": [
    "'''\n",
    "하드 디스크나 플래시 메모리등의 보조기억장치에서 실행가능한 파일 형태로 존재하는 프로그램(Program)\n",
    "프로그램을 실행 하기 위해 가상 메모리(RAM)에 로드된 것을 프로세스(Process)\n",
    "\n",
    "동일 프로그램을 2개의 창으로 띄울 경우 서로 다른 가상주소값(PID, Process ID)을 받으므로 독립적으로 기능한다. \n",
    "\n",
    "mooneegee.blogspot.kr/2015/01/os-thread.html 참고\n",
    "\n",
    "\n",
    "## multithread\n",
    "프로세스 = 실행중인 프로그램 \n",
    "프로세스에 시간의 개념을 추가되어 '실행흐름'이 추가된 것이 쓰레드(thread)이다. \n",
    "프로세스에서 시간이 흐르면서 코드의 줄기가 1개로 짜여졌다면 '싱글스레드'\n",
    "시간이 흐르면서 한번에 코드 줄기가 몇 개 실행되는지?(완벽한 개념은 아님, 컴퓨터의 연산처리속도가 우리 눈에는 동시에 되는 것처럼 보인다.) \n",
    "for i in range(1, 10000)\n",
    "1 ~ 2500           2501 ~ 5000         5001 ~ 7500          7501 ~ 10000\n",
    "쓰레드 1              쓰레드 2              쓰레드 3              쓰레드 4\n",
    "\n",
    "vim에서 multithread.py 열기\n",
    "\n",
    "\n",
    "\n",
    "## context switching\n",
    "멀티쓰레드를 돌릴 경우 쓰레드마다 이동하면서 메모리를 비우고/채우고 한다. \n",
    "멀티쓰레드의 단점이라 할 수 있다. \n",
    "멀티스레드는 생각보다 빠르지 않다. \n",
    "'''\n",
    "\n",
    "\n",
    "'''\n",
    "## race condition\n",
    "전역변수 = 공유자원\n",
    "쓰레드 당 5ms라는 제한시간이 있어 연산처리, 저장까지 못끝내고 다른 스레드에게 연산이 넘어가게 되어\n",
    "서로 경쟁하는 구도의 연산처리가 이루어지고, 연산결과값도 정확하지 않다. \n",
    "\n",
    "## mutual exclusion\n",
    "lock함수를 걸어 쓰레드 당 결과 저장까지 다 하고 다음 스레드에게 연산순서가 넘어가도록 하는 것을 상호배제(mutual exclusion)이라고 한다.\n",
    "'''"
   ]
  }
 ],
 "metadata": {
  "kernelspec": {
   "display_name": "Python 3",
   "language": "python",
   "name": "python3"
  },
  "language_info": {
   "codemirror_mode": {
    "name": "ipython",
    "version": 3
   },
   "file_extension": ".py",
   "mimetype": "text/x-python",
   "name": "python",
   "nbconvert_exporter": "python",
   "pygments_lexer": "ipython3",
   "version": "3.6.0"
  }
 },
 "nbformat": 4,
 "nbformat_minor": 2
}
