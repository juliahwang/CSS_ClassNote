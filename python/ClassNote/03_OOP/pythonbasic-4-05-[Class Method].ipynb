{
 "cells": [
  {
   "cell_type": "code",
   "execution_count": 13,
   "metadata": {
    "collapsed": true,
    "deletable": true,
    "editable": true
   },
   "outputs": [],
   "source": [
    "class Point:\n",
    "    a = 10                            # 클래스 멤버. a는 인스턴스가 없어도 호출이 가능하다.  \n",
    "    def __init__(self, _x, _y):       # 인스턴스 함수\n",
    "        self.x = _x                   # 인스턴스 멤버는 반드시 인스턴스에서 불러와야한다.     \n",
    "        self.y = _y\n",
    "    \n",
    "    # 클래스 메소드\n",
    "    @classmethod                      # 데코레이터, 클래스 메소드를 쓰려면 반드시 써줘야 함.  \n",
    "    def class_method(cls):            # 클래스 메소드는 클래스(cls)를 인자로 받는다. \n",
    "        print(\"class_method called\")\n",
    "    \n",
    "    \n",
    "    # 인스턴스 메소드\n",
    "    def instance_func(self):\n",
    "        print(\"instance_func called\")\n",
    "        \n",
    "    def __str__(self):\n",
    "        return \"({}, {})\".format(self.x, self.y)\n",
    "    # 스트링 함수를 호출하면 객체만 넣어줄 경우 해당 문자열을 리턴한다. "
   ]
  },
  {
   "cell_type": "code",
   "execution_count": 14,
   "metadata": {
    "collapsed": true,
    "deletable": true,
    "editable": true
   },
   "outputs": [],
   "source": [
    "p1 = Point(1, 1)"
   ]
  },
  {
   "cell_type": "code",
   "execution_count": 15,
   "metadata": {
    "collapsed": false,
    "deletable": true,
    "editable": true
   },
   "outputs": [
    {
     "name": "stdout",
     "output_type": "stream",
     "text": [
      "(1, 1)\n"
     ]
    }
   ],
   "source": [
    "print(p1)"
   ]
  },
  {
   "cell_type": "code",
   "execution_count": 16,
   "metadata": {
    "collapsed": false,
    "deletable": true,
    "editable": true
   },
   "outputs": [
    {
     "ename": "TypeError",
     "evalue": "instance_func() missing 1 required positional argument: 'self'",
     "output_type": "error",
     "traceback": [
      "\u001b[0;31m---------------------------------------------------------------------------\u001b[0m",
      "\u001b[0;31mTypeError\u001b[0m                                 Traceback (most recent call last)",
      "\u001b[0;32m<ipython-input-16-980bf1188378>\u001b[0m in \u001b[0;36m<module>\u001b[0;34m()\u001b[0m\n\u001b[0;32m----> 1\u001b[0;31m \u001b[0mPoint\u001b[0m\u001b[0;34m.\u001b[0m\u001b[0minstance_func\u001b[0m\u001b[0;34m(\u001b[0m\u001b[0;34m)\u001b[0m\u001b[0;34m\u001b[0m\u001b[0m\n\u001b[0m",
      "\u001b[0;31mTypeError\u001b[0m: instance_func() missing 1 required positional argument: 'self'"
     ]
    }
   ],
   "source": [
    "Point.instance_func()\n",
    "# class에서 인스턴스 함수를 바로 불러오는 것은 불가능하다. \n",
    "# 인스턴스 함수는 반드시 인스턴스가 있고 거기에 붙어야 동작한다. "
   ]
  },
  {
   "cell_type": "code",
   "execution_count": 17,
   "metadata": {
    "collapsed": false,
    "deletable": true,
    "editable": true
   },
   "outputs": [
    {
     "name": "stdout",
     "output_type": "stream",
     "text": [
      "instance_func called\n"
     ]
    }
   ],
   "source": [
    "# instance_func()은 인스턴스가 있어야하므로 인스턴스에서 불러온다. \n",
    "p1.instance_func()"
   ]
  },
  {
   "cell_type": "code",
   "execution_count": 18,
   "metadata": {
    "collapsed": false,
    "deletable": true,
    "editable": true
   },
   "outputs": [
    {
     "data": {
      "text/plain": [
       "10"
      ]
     },
     "execution_count": 18,
     "metadata": {},
     "output_type": "execute_result"
    }
   ],
   "source": [
    "v = Point.a\n",
    "v"
   ]
  },
  {
   "cell_type": "code",
   "execution_count": 19,
   "metadata": {
    "collapsed": false,
    "deletable": true,
    "editable": true
   },
   "outputs": [
    {
     "name": "stdout",
     "output_type": "stream",
     "text": [
      "class_method called\n"
     ]
    }
   ],
   "source": [
    "# 클래스 메소드는 클래스의 멤버를 받아 실행하는 메소드(함수)이다.\n",
    "# 따라서 인스턴스 없이 불러올 수 있다. \n",
    "\n",
    "Point.class_method()"
   ]
  },
  {
   "cell_type": "code",
   "execution_count": 20,
   "metadata": {
    "collapsed": true,
    "deletable": true,
    "editable": true
   },
   "outputs": [],
   "source": [
    "# 클래스 멤버, 클래스 메소드, 인스턴스 멤버, 인스턴스 메소드 모두 구분해야 함.\n",
    "\n",
    "# 클래스 멤버 : 클래스의 정보   ex_ a = 10\n",
    "# 데코레이터 : 클래스 메소드 위에 올려 표시.   ex_ @classmethod\n",
    "# 클래스 메소드 : 클래스를 받아 기능을 실행하는 함수   ex_ class_method(cls)\n",
    "# 인스턴스 멤버 : 클래스 내에서 인스턴스의 기본 정보\n",
    "# 인스턴스 메소드 : 클래스 내에서 인스턴스가 필요한 함수 "
   ]
  },
  {
   "cell_type": "code",
   "execution_count": null,
   "metadata": {
    "collapsed": true,
    "deletable": true,
    "editable": true
   },
   "outputs": [],
   "source": [
    "# classmethod 와 statisticsmethod 찾아보기!"
   ]
  }
 ],
 "metadata": {
  "kernelspec": {
   "display_name": "Python 3",
   "language": "python",
   "name": "python3"
  },
  "language_info": {
   "codemirror_mode": {
    "name": "ipython",
    "version": 3
   },
   "file_extension": ".py",
   "mimetype": "text/x-python",
   "name": "python",
   "nbconvert_exporter": "python",
   "pygments_lexer": "ipython3",
   "version": "3.6.0"
  }
 },
 "nbformat": 4,
 "nbformat_minor": 2
}
