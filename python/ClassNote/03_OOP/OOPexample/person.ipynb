{
 "cells": [
  {
   "cell_type": "code",
   "execution_count": 2,
   "metadata": {
    "collapsed": false,
    "deletable": true,
    "editable": true
   },
   "outputs": [
    {
     "name": "stdout",
     "output_type": "stream",
     "text": [
      "\n",
      "My name is greg\n",
      "I am 18 years old\n",
      "I have 5000 won\n",
      "\n",
      "My name is kim\n",
      "I am 22 years old\n",
      "I have 1000 won\n",
      "\n",
      "My name is greg\n",
      "I am 18 years old\n",
      "I have 3000 won\n",
      "\n",
      "My name is kim\n",
      "I am 22 years old\n",
      "I have 3000 won\n"
     ]
    }
   ],
   "source": [
    "'''\n",
    "1. 상인(리테일러)와 소비자(바이어)만 존재하는 세상 구현\n",
    "   그냥 사람은 없다 => person 객체를 못만들도록.\n",
    "\n",
    "2. 공통 특성만 뽑아서 person에 \n",
    "   A retailer is a person === ok\n",
    "   A buyer is a person === ok\n",
    "\n",
    "3. if __name__ = \"__main__\": 의 개념\n",
    "\n",
    "'''\n",
    "\n",
    "# 공통 속성을 뽑아서 부모 클래스\n",
    "class Person:\n",
    "    def __init__(self, name, age, money, product):\n",
    "        self.name = name\n",
    "        self.age = age\n",
    "        self.money = money\n",
    "        self.product = product\n",
    "        \n",
    "    def give_money(self, other, how_much):\n",
    "        if self.money >= how_much:\n",
    "            self.money -= how_much\n",
    "            other.money += how_much\n",
    "        else:\n",
    "            print(\"나 돈없어서 못사\")\n",
    "        \n",
    "    def __str__(self):\n",
    "        return '''\n",
    "My name is {}\n",
    "I am {} years old\n",
    "I have {} won'''.format(self.name, self.age, self.money)\n",
    "    \n",
    "# test code\n",
    "p1 = Person(\"greg\", 18, 5000)\n",
    "p2 = Person(\"kim\", 22, 1000)\n",
    "print(p1)\n",
    "print(p2)\n",
    "p1.give_money(p2, 2000)\n",
    "print(p1)\n",
    "print(p2)"
   ]
  },
  {
   "cell_type": "code",
   "execution_count": null,
   "metadata": {
    "collapsed": true,
    "deletable": true,
    "editable": true
   },
   "outputs": [],
   "source": []
  }
 ],
 "metadata": {
  "kernelspec": {
   "display_name": "Python 3",
   "language": "python",
   "name": "python3"
  },
  "language_info": {
   "codemirror_mode": {
    "name": "ipython",
    "version": 3
   },
   "file_extension": ".py",
   "mimetype": "text/x-python",
   "name": "python",
   "nbconvert_exporter": "python",
   "pygments_lexer": "ipython3",
   "version": "3.6.0"
  }
 },
 "nbformat": 4,
 "nbformat_minor": 2
}
