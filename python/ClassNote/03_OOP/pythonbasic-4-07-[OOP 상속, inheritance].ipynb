{
 "cells": [
  {
   "cell_type": "code",
   "execution_count": 1,
   "metadata": {
    "collapsed": true
   },
   "outputs": [],
   "source": [
    "# OOP - 상속\n",
    "\n",
    "# 상속은 조건 하에 쓰는 개념이다. \n",
    "# is-a와 has-a가 있는데 요즘에는 has-a를 사용하지 않는다. \n",
    "# 개체합성 \n",
    "\n",
    "# function overriding\n",
    "# class member의 쓰임\n",
    "# 상속 실습\n",
    "# 추상클래스의 목적과 쓰임"
   ]
  },
  {
   "cell_type": "code",
   "execution_count": 4,
   "metadata": {
    "collapsed": false
   },
   "outputs": [],
   "source": [
    "# 상속 - 모든 변수와 모든 함수를 받을 수 있다. \n",
    "# 상속을 하면 자식 클래스가 부모 클래스의 모든 멤버와 메소드를 이어받는다.\n",
    "# 기본클래스 - 파생클래스\n",
    "# 부모클래스 - 자식클래스\n",
    "# 슈퍼클래스 - 서브클래스\n",
    "\n",
    "class Base:    # 기본\n",
    "    def __init__(self, a, b):\n",
    "        self.a = a\n",
    "        self.b = b\n",
    "        \n",
    "    def func1(self):\n",
    "        print(\"func1 called\")\n",
    "\n",
    "\n",
    "class Derived(Base):  # 파생\n",
    "    pass\n",
    "\n",
    "# Derived(기본클래스명):\n",
    "# 파생클래스(Derived)가 기본클래스의 모든 멤버 및 메소드를 이어받는다."
   ]
  },
  {
   "cell_type": "code",
   "execution_count": 5,
   "metadata": {
    "collapsed": false
   },
   "outputs": [
    {
     "name": "stdout",
     "output_type": "stream",
     "text": [
      "5 3\n"
     ]
    }
   ],
   "source": [
    "d = Derived(5, 3)\n",
    "print(d.a, d.b)"
   ]
  },
  {
   "cell_type": "code",
   "execution_count": 29,
   "metadata": {
    "collapsed": false
   },
   "outputs": [],
   "source": [
    "# 상속은 언제 쓰나?\n",
    "'''\n",
    "상속 설계의 기본 원칙 : \"is a\"\n",
    "A laptop is a computer (o)\n",
    "A desktop is a computer (o)\n",
    "A laptop is a desktop (x)\n",
    "이동성의 유무에 따라 랩탑과 데스크탑은 다르다. \n",
    "\n",
    "notebook은 computer에 속하지만 computer내의 다른 분류들과 공유되지 않는 특성도 있다. \n",
    "따라서 자식 클래스는 자신만의 공유되지 않는 고유 특성을 지니면서 부모 클래스의 \n",
    "공통 특성을 상속받아야할 때 사용한다.\n",
    "즉, 데스크탑과 랩탑이 공통적으로 가지고 있는 컴퓨터의 속성을 부모클래스 '컴퓨터'에서\n",
    "상속을 받고, 이동성이라는 차이점은 각자 클래스 내에 지닌다. \n",
    "클래스는 개인화한 새로운 자료형이다. \n",
    " int num1 = 50;\n",
    " short num2 = 50;\n",
    " int라는 클래스(4bit)와 short(8  bit) 라는 클래스에 따라 값이 달라진다. \n",
    "'''\n",
    "\n",
    "# 부모 : 자식이 모두 가지고 있는 공통된 속성(attribute)을 모두 여기에서 정의.\n",
    "class Computer:\n",
    "    def __init__(self, cpu, ram, hard_disk):\n",
    "        self.cpu = cpu\n",
    "        self.ram = ram\n",
    "        self.hard_disk = hard_disk\n",
    "        \n",
    "    def carculate(self):\n",
    "        pass\n",
    "    # 같은 공간 안에 같은 이름의 함수 2개가 정의되었다.(함수 오버로딩 func overroading)\n",
    "    # 파이썬에서는 이렇게 하면 에러가 난다.(c++에서만 가능.)\n",
    "    # 쓰게 되면 마지막에 정의한 메소드가 이전의 메소드들을 덮어버린다. \n",
    "    # 파이썬은 오버로딩 금지!\n",
    "    \n",
    "    def carculate(self):\n",
    "        print(\"Computer carculating\")\n",
    "        \n",
    "    def __str__(self):\n",
    "        return \"I am a computer\"\n",
    "        \n",
    "\n",
    "# 자식 : 부모의 멤버/메소드 + Laptop클래스의 고유 특성\n",
    "class Laptop(Computer):\n",
    "    def __init__(self, cpu, ram, hard_disk, touch = \"one\", cam = \"two\"):\n",
    "        # 방법1. 클래스 이름으로 접근\n",
    "        Computer.__init__(self, cpu, ram, hard_disk)\n",
    "        # self(객체)를 반드시 써줘야한다.\n",
    "        self.touch = touch\n",
    "        self.cam = cam\n",
    "        \n",
    "    # 정의되어 있지 않아도 calculate()를 상속받는다. \n",
    "    # 노트북이니까 조금 느린 연산을 한다는 것을 표현하려면\n",
    "\n",
    "    def carculate(self):\n",
    "        print(\"laptop calculating: a little bit slow\")\n",
    "        # 부모-자식 클래스 내에 같은 이름의 함수가 있다면 \n",
    "        # 본래 실행하고 있는 자식 함수를 먼저 실행한다. \n",
    "         \n",
    "    def __str__(self):\n",
    "        return \"I am a computer but i have mobility\"\n",
    "        # 부모클래스에서 썼던 __str__ 함수의 공통 문구를 불러오고 싶을 경우에는\n",
    "        return super(Laptop, self).__str__() +\\\n",
    "    \"but i have mobility\"\n",
    "        # super를 더 많이 씀. \n",
    "        # 방법1사용 : return Computer.__str__(self) + \"but i have mobility\"\n",
    "        \n",
    "        \n",
    "# 방법2. super()로 접근 \n",
    "class Desktop(Computer):\n",
    "    def __init__(self, cpu, ram, hard_disk, external_graphic = \"Geforce\"):\n",
    "        super(Desktop, self).__init__(cpu, ram, hard_disk)\n",
    "        # super().__init__(cpu, ram, hard_disk)\n",
    "\n",
    "    def calculate(self):\n",
    "        print(\"Desktop Calculating : a little bit faster\")"
   ]
  },
  {
   "cell_type": "code",
   "execution_count": 30,
   "metadata": {
    "collapsed": false
   },
   "outputs": [],
   "source": [
    "I1 = Laptop(\"i5\", \"12g\", \"1t\")"
   ]
  },
  {
   "cell_type": "code",
   "execution_count": 31,
   "metadata": {
    "collapsed": false
   },
   "outputs": [
    {
     "name": "stdout",
     "output_type": "stream",
     "text": [
      "laptop calculating: a little bit slow\n"
     ]
    }
   ],
   "source": [
    "I1.carculate()"
   ]
  },
  {
   "cell_type": "code",
   "execution_count": null,
   "metadata": {
    "collapsed": true
   },
   "outputs": [],
   "source": [
    "# overriding\n",
    "# 자식 클래스는 부모의 모든 멤버와 메소드를 이어받는데, 단, 자식 클래스만의 특성이\n",
    "# 있을 때 사용한다. "
   ]
  },
  {
   "cell_type": "code",
   "execution_count": 32,
   "metadata": {
    "collapsed": true
   },
   "outputs": [],
   "source": [
    "super??"
   ]
  },
  {
   "cell_type": "code",
   "execution_count": null,
   "metadata": {
    "collapsed": true
   },
   "outputs": [],
   "source": [
    "# 변수  :이름\n",
    "# 변수의 값은 값 객체라고 불러야 한다. \n",
    "a = 50"
   ]
  },
  {
   "cell_type": "code",
   "execution_count": null,
   "metadata": {
    "collapsed": true
   },
   "outputs": [],
   "source": [
    "# web assembly(웹표준언어를 만들자는 운동) = c, c++을 사용하여 web을 실행하려는 운동\n",
    "# 속도도 빠르고 끊길 일이 없다.\n",
    "# 구글 및 애플을 제외한 모든 브라우저가 새로운 웹표준인 웹 어셈블리를 만들고 있다. "
   ]
  },
  {
   "cell_type": "code",
   "execution_count": null,
   "metadata": {
    "collapsed": true
   },
   "outputs": [],
   "source": [
    "# inheritance\n",
    "# -polymorphism(다형성)\n",
    "# -information hiding\n",
    "# -data analysis program == OOP porting"
   ]
  }
 ],
 "metadata": {
  "kernelspec": {
   "display_name": "Python 3",
   "language": "python",
   "name": "python3"
  },
  "language_info": {
   "codemirror_mode": {
    "name": "ipython",
    "version": 3
   },
   "file_extension": ".py",
   "mimetype": "text/x-python",
   "name": "python",
   "nbconvert_exporter": "python",
   "pygments_lexer": "ipython3",
   "version": "3.6.0"
  }
 },
 "nbformat": 4,
 "nbformat_minor": 2
}
