{
 "cells": [
  {
   "cell_type": "code",
   "execution_count": 8,
   "metadata": {},
   "outputs": [
    {
     "name": "stdout",
     "output_type": "stream",
     "text": [
      "['0', '1', '0', '1', '0']\n"
     ]
    }
   ],
   "source": [
    "def no_continuous(s):\n",
    "    s_list = list(s)\n",
    "    result = []\n",
    "    result.append(s[0])\n",
    "    if len(s_list) == 1:\n",
    "        return s_list\n",
    "    for i in range(1, len(s_list)-1):\n",
    "        if s_list[i - 1] != s_list[i]:\n",
    "            result.append(s_list[i])\n",
    "    if s_list[-2] != s_list[-1]:\n",
    "        result.append(s_list[-1])\n",
    "    return result\n",
    "\n",
    "# 아래는 테스트로 출력해 보기 위한 코드입니다.\n",
    "print(no_continuous(\"010000010\"))"
   ]
  },
  {
   "cell_type": "code",
   "execution_count": null,
   "metadata": {
    "collapsed": true
   },
   "outputs": [],
   "source": []
  }
 ],
 "metadata": {
  "kernelspec": {
   "display_name": "Python 3",
   "language": "python",
   "name": "python3"
  },
  "language_info": {
   "codemirror_mode": {
    "name": "ipython",
    "version": 3
   },
   "file_extension": ".py",
   "mimetype": "text/x-python",
   "name": "python",
   "nbconvert_exporter": "python",
   "pygments_lexer": "ipython3",
   "version": "3.5.3"
  }
 },
 "nbformat": 4,
 "nbformat_minor": 2
}
