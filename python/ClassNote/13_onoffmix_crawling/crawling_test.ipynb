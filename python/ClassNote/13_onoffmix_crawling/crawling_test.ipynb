{
 "cells": [
  {
   "cell_type": "code",
   "execution_count": 22,
   "metadata": {},
   "outputs": [
    {
     "name": "stdout",
     "output_type": "stream",
     "text": [
      "phone_strip:  re.compile('^(?P<first>[0-9]{2,3})[-.\\\\b](?P<second>[0-9]{3,4})[-.\\\\b](?P<third>[0-9]{4}$)')\n",
      "phone_number:  None\n"
     ]
    },
    {
     "ename": "AttributeError",
     "evalue": "'NoneType' object has no attribute 'groups'",
     "output_type": "error",
     "traceback": [
      "\u001b[0;31m---------------------------------------------------------------------------\u001b[0m",
      "\u001b[0;31mAttributeError\u001b[0m                            Traceback (most recent call last)",
      "\u001b[0;32m<ipython-input-22-bb812fb48809>\u001b[0m in \u001b[0;36m<module>\u001b[0;34m()\u001b[0m\n\u001b[1;32m     10\u001b[0m \u001b[0mphone_number\u001b[0m \u001b[0;34m=\u001b[0m \u001b[0mphone_strip\u001b[0m\u001b[0;34m.\u001b[0m\u001b[0mmatch\u001b[0m\u001b[0;34m(\u001b[0m\u001b[0mphone\u001b[0m\u001b[0;34m)\u001b[0m\u001b[0;34m\u001b[0m\u001b[0m\n\u001b[1;32m     11\u001b[0m \u001b[0mprint\u001b[0m\u001b[0;34m(\u001b[0m\u001b[0;34m'phone_number: '\u001b[0m\u001b[0;34m,\u001b[0m \u001b[0mphone_number\u001b[0m\u001b[0;34m)\u001b[0m\u001b[0;34m\u001b[0m\u001b[0m\n\u001b[0;32m---> 12\u001b[0;31m \u001b[0mphone_val\u001b[0m \u001b[0;34m=\u001b[0m \u001b[0mphone_number\u001b[0m\u001b[0;34m.\u001b[0m\u001b[0mgroups\u001b[0m\u001b[0;34m(\u001b[0m\u001b[0;34m)\u001b[0m\u001b[0;34m\u001b[0m\u001b[0m\n\u001b[0m\u001b[1;32m     13\u001b[0m \u001b[0mprint\u001b[0m\u001b[0;34m(\u001b[0m\u001b[0;34m'phone_val: '\u001b[0m\u001b[0;34m,\u001b[0m \u001b[0mphone_val\u001b[0m\u001b[0;34m)\u001b[0m\u001b[0;34m\u001b[0m\u001b[0m\n\u001b[1;32m     14\u001b[0m \u001b[0mprint\u001b[0m\u001b[0;34m(\u001b[0m\u001b[0mphone_val\u001b[0m\u001b[0;34m[\u001b[0m\u001b[0;36m0\u001b[0m\u001b[0;34m]\u001b[0m\u001b[0;34m)\u001b[0m\u001b[0;34m\u001b[0m\u001b[0m\n",
      "\u001b[0;31mAttributeError\u001b[0m: 'NoneType' object has no attribute 'groups'"
     ]
    }
   ],
   "source": [
    "import re\n",
    "\n",
    "\n",
    "    \n",
    "\n",
    "phone = '01039142931'\n",
    "#tel = re.compile(r'^(?P<first>[0-9]{2,3})[-.](?P<second>[0-9]{3,4})[-.](?P<third>[0-9]{4}$)')\n",
    "phone_strip = re.compile(r'^(?P<first>[0-9]{2,3})[-.\\b](?P<second>[0-9]{3,4})[-.\\b](?P<third>[0-9]{4}$)')\n",
    "print('phone_strip: ', phone_strip)\n",
    "phone_number = phone_strip.match(phone)\n",
    "print('phone_number: ', phone_number)\n",
    "phone_val = phone_number.groups()\n",
    "print('phone_val: ', phone_val)\n",
    "print(phone_val[0])\n",
    "a = phone_val[0] + phone_val[1] + phone_val[2]\n",
    "print(a)\n"
   ]
  },
  {
   "cell_type": "code",
   "execution_count": null,
   "metadata": {
    "collapsed": true
   },
   "outputs": [],
   "source": []
  }
 ],
 "metadata": {
  "kernelspec": {
   "display_name": "Python 3",
   "language": "python",
   "name": "python3"
  },
  "language_info": {
   "codemirror_mode": {
    "name": "ipython",
    "version": 3
   },
   "file_extension": ".py",
   "mimetype": "text/x-python",
   "name": "python",
   "nbconvert_exporter": "python",
   "pygments_lexer": "ipython3",
   "version": "3.5.3"
  }
 },
 "nbformat": 4,
 "nbformat_minor": 2
}
