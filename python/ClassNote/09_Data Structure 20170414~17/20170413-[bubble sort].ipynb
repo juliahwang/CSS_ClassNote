{
 "cells": [
  {
   "cell_type": "code",
   "execution_count": 1,
   "metadata": {},
   "outputs": [
    {
     "name": "stdout",
     "output_type": "stream",
     "text": [
      "20 10\n"
     ]
    }
   ],
   "source": [
    "a = 10\n",
    "b = 20\n",
    "\n",
    "a, b = b, a\n",
    "print(a, b)"
   ]
  },
  {
   "cell_type": "code",
   "execution_count": 16,
   "metadata": {},
   "outputs": [
    {
     "name": "stdout",
     "output_type": "stream",
     "text": [
      "[3, 1, 4, 2]\n"
     ]
    }
   ],
   "source": [
    "li = [3, 1, 4, 2]\n",
    "for i in li:\n",
    "    for j in li:\n",
    "        if i > j:\n",
    "            i, j = j, i\n",
    "        else:\n",
    "            pass\n",
    "\n",
    "print(li)\n",
    "\n",
    "# 값비교\n",
    "# 큰값과 작은 값의 위치변경\n",
    "# 다시 리스트에 넣기\n",
    "# 출력"
   ]
  },
  {
   "cell_type": "code",
   "execution_count": 1,
   "metadata": {
    "collapsed": true
   },
   "outputs": [],
   "source": [
    "# 정답\n",
    "\n",
    "def bubble_sort(data):\n",
    "    n = len(data)\n",
    "    \n",
    "    for i in range(n-1):\n",
    "        for j in range(n-i-1):\n",
    "            if data[j] > data[j + 1]:\n",
    "                data[j], data[j + 1] = data[j + 1], data[j]"
   ]
  },
  {
   "cell_type": "code",
   "execution_count": 2,
   "metadata": {
    "collapsed": true
   },
   "outputs": [],
   "source": [
    "data = [3, 1, 4, 2]\n",
    "bubble_sort(data)"
   ]
  },
  {
   "cell_type": "code",
   "execution_count": null,
   "metadata": {
    "collapsed": true
   },
   "outputs": [],
   "source": []
  }
 ],
 "metadata": {
  "kernelspec": {
   "display_name": "Python 3",
   "language": "python",
   "name": "python3"
  },
  "language_info": {
   "codemirror_mode": {
    "name": "ipython",
    "version": 3
   },
   "file_extension": ".py",
   "mimetype": "text/x-python",
   "name": "python",
   "nbconvert_exporter": "python",
   "pygments_lexer": "ipython3",
   "version": "3.5.3"
  }
 },
 "nbformat": 4,
 "nbformat_minor": 2
}
