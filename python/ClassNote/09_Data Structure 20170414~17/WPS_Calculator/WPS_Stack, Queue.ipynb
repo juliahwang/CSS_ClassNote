{
 "cells": [
  {
   "cell_type": "markdown",
   "metadata": {},
   "source": [
    "## Stack\n",
    "\n",
    "후입선출(Last In First Out)\n",
    "\n",
    "\n",
    "### Stack의 ADT\n",
    "\n",
    "- push(data) -> None 반환 ㅣ 스택에 쌓는다.\n",
    "- pop() -> data 반환 | 맨 위의 데이터 삭제하고 삭제된 데이터 반환\n",
    "- empty() -> bool 반환 | 스택에 데이터가 있는지 확인\n",
    "- peek() -> data 반환 | 삭제는 하지 않고 맨 위의 데이터 반환"
   ]
  },
  {
   "cell_type": "code",
   "execution_count": 5,
   "metadata": {},
   "outputs": [
    {
     "name": "stdout",
     "output_type": "stream",
     "text": [
      "5  4  3  2  1  "
     ]
    }
   ],
   "source": [
    "class Stack(list):\n",
    "    \"\"\"list의 내장함수 append 자체를 push에 할당.\"\"\"\n",
    "    push = list.append\n",
    "    # pop = list.pop\n",
    "    \"\"\"\n",
    "    def push(self, data):\n",
    "        super().append(data)\n",
    "    \"\"\"    \n",
    "        \n",
    "    def empty(self):\n",
    "        \"\"\"객체가 존재하지 않으면 True 반환\"\"\"\n",
    "        if not self:\n",
    "            return True\n",
    "        else:\n",
    "            return False\n",
    "        \n",
    "    def peek(self):\n",
    "        \"\"\"가장 마지막에 들어온 값을 출력\"\"\"\n",
    "        return self[-1]\n",
    "    \n",
    "\n",
    "if __name__ == \"__main__\":\n",
    "    s = Stack()\n",
    "    s.push(1)\n",
    "    s.push(2)\n",
    "    s.push(3)\n",
    "    s.push(4)\n",
    "    s.push(5)\n",
    "    \n",
    "    while not s.empty():\n",
    "        data = s.pop()\n",
    "        print(data, end='  ')"
   ]
  },
  {
   "cell_type": "code",
   "execution_count": null,
   "metadata": {
    "collapsed": true
   },
   "outputs": [],
   "source": []
  },
  {
   "cell_type": "markdown",
   "metadata": {},
   "source": [
    "## Queue\n",
    "\n",
    "선입선출(First In First Out)\n",
    "\n",
    "### Queue의 ADT\n",
    "\n",
    "- enqueue(data) -> None 반환 | insert, 맨 뒤에 추가\n",
    "- dequeue() -> data 반환 | 맨 앞 데이터 삭제, 삭제된 데이터 반환\n",
    "- empty() -> bool 반환 | \n",
    "- peek() -> data 반환 | 삭제하지 않고 맨 앞 데이터 열람"
   ]
  },
  {
   "cell_type": "code",
   "execution_count": 6,
   "metadata": {},
   "outputs": [
    {
     "name": "stdout",
     "output_type": "stream",
     "text": [
      "1  2  3  4  5  "
     ]
    }
   ],
   "source": [
    "class Queue(list):\n",
    "    enqueue = list.append\n",
    "    \n",
    "    def dequeue(self):\n",
    "        \"\"\"앞의 데이터부터 삭제\"\"\"\n",
    "        return self.pop(0)\n",
    "    \n",
    "    def empty(self):\n",
    "        if not self:\n",
    "            return True\n",
    "        else:\n",
    "            return False\n",
    "        \n",
    "    def peek(self):\n",
    "        \"\"\"처음에 넣은 데이터 보여주기\"\"\"\n",
    "        return self[0]\n",
    "    \n",
    "\n",
    "if __name__ == \"__main__\":\n",
    "    q = Queue()\n",
    "    q.enqueue(1)\n",
    "    q.enqueue(2)\n",
    "    q.enqueue(3)\n",
    "    q.enqueue(4)\n",
    "    q.enqueue(5)\n",
    "    \n",
    "    while not q.empty():\n",
    "        print(q.dequeue(), end='  ')"
   ]
  }
 ],
 "metadata": {
  "kernelspec": {
   "display_name": "Python 3",
   "language": "python",
   "name": "python3"
  },
  "language_info": {
   "codemirror_mode": {
    "name": "ipython",
    "version": 3
   },
   "file_extension": ".py",
   "mimetype": "text/x-python",
   "name": "python",
   "nbconvert_exporter": "python",
   "pygments_lexer": "ipython3",
   "version": "3.5.3"
  }
 },
 "nbformat": 4,
 "nbformat_minor": 2
}
