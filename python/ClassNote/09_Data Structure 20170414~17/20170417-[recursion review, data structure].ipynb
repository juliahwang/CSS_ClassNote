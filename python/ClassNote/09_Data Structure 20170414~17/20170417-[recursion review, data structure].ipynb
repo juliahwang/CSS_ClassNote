{
 "cells": [
  {
   "cell_type": "code",
   "execution_count": 1,
   "metadata": {
    "collapsed": true
   },
   "outputs": [],
   "source": [
    "# binary search recursion문제 \n",
    "# 마지막 하나 값까지 비교를 해야 하므로 start값이 end보다 커야(같지 않고) recursion이 끝난다.\n",
    "# 마지막에 return을 써야 재귀함수의 리턴값을 받으면서 마칠 수 있다."
   ]
  },
  {
   "cell_type": "code",
   "execution_count": 2,
   "metadata": {
    "collapsed": true
   },
   "outputs": [],
   "source": [
    "# bubble sort\n",
    "# insertion sort\n",
    "# quicksort\n",
    "# 'whats the fastest way to alphabetize your bookcase?' - ted ed"
   ]
  },
  {
   "cell_type": "code",
   "execution_count": null,
   "metadata": {
    "collapsed": true
   },
   "outputs": [],
   "source": [
    "'''\n",
    "data structure\n",
    "tree - \n",
    "heap - 유일하게 배열 기반\n",
    "\n",
    "# 이벤트드리븐 프로그래밍 예제 찾아보기\n",
    "\n",
    "\n",
    "# 자료구조 왜 배우나?\n",
    ": 데이터를 어떻게 저장하고, 탐색하고, 지워야 가장 효율적인지 탐구\n",
    "\n",
    "# 알고리즘?\n",
    ": 문제를 해결하는 방법론\n",
    "  ex) 집에 가는 방법(=알고리즘)은 여러가지. 최단경로?\n",
    "\n",
    "# 자료구조의 알고리즘\n",
    ": 자료구조를 구현하기 위해서는 알고리즘이 필요하다. \n",
    ": 데이터를 저장하고 탐색하는 방법에 대한 고민들\n",
    "\n",
    "# 자료구조를 이용한 알고리즘\n",
    "\n",
    "\n",
    "## 자료구조 \n",
    "- insert 데이터 입력\n",
    "- search 데이터 탐색\n",
    "- delete 필요없는 데이터 삭제\n",
    "\n",
    "\n",
    "(1) 배열의 원리 - stack에 쌓음\n",
    "배열은 기본적으로 한번 크기가 정해지면 크기를 변경할 수 없다. \n",
    "가변배열 : 배열의 길이가 변하는 배열\n",
    "가끔 가변배열처럼 보이는 것들도 있는데 다음의 경우이다.\n",
    "길이가 4인 배열 선언 but 6인 배열 필요할 경우?\n",
    "\n",
    "6개의 공간을 찾아 할당\n",
    "4개 복사하기\n",
    "4개 지우기\n",
    "총 3번의 작업이 필요하므로 리소스 낭비.\n",
    "\n",
    "\n",
    "만약 배열의 길이가 얼마일지 모르는 상태일 경우? \n",
    "linked list 사용 - heap에 저장\n",
    "길이가 4인 linked list 선언\n",
    "but 6인 배열이 필요하다면?\n",
    "\n",
    "끝에 2개의 노드만 추가적으로 붙이면 끝.\n",
    "탐색, 할당, 복사, 삭제 등의 리소스 낭비가 전혀 없음.\n",
    "매우 효율적이다. \n",
    "\n",
    "linked list도 약점이 있다. \n",
    "순차성을 보장하지 않음. (spacial locality보장x)\n",
    "스택처럼 쌓는 것이 아니라 heap처럼 메모리공간이 있는 곳에 \n",
    "저장하므로 cache miss가 날 경우 \n",
    "\n",
    "배열은 유관데이터를 메모리에 순차적으로 쭉 나열할 수 있다.\n",
    "이렇게 cache hit의 가능성이 커져서 성능에 큰 도움이 된다.\n",
    "\n",
    "상황에 따라 맞는 것을 써야한다. \n",
    "'''"
   ]
  }
 ],
 "metadata": {
  "kernelspec": {
   "display_name": "Python 3",
   "language": "python",
   "name": "python3"
  },
  "language_info": {
   "codemirror_mode": {
    "name": "ipython",
    "version": 3
   },
   "file_extension": ".py",
   "mimetype": "text/x-python",
   "name": "python",
   "nbconvert_exporter": "python",
   "pygments_lexer": "ipython3",
   "version": "3.5.3"
  }
 },
 "nbformat": 4,
 "nbformat_minor": 2
}
