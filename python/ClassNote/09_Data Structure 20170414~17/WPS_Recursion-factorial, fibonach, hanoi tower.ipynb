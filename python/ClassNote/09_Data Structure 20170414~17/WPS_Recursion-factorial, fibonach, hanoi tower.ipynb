{
 "cells": [
  {
   "cell_type": "code",
   "execution_count": 5,
   "metadata": {},
   "outputs": [
    {
     "name": "stdout",
     "output_type": "stream",
     "text": [
      "24\n"
     ]
    }
   ],
   "source": [
    "### factorial\n",
    "\n",
    "def factorial(n):\n",
    "    # 탈출조건 - (0!=1!=1 이용)\n",
    "    if n <= 1:\n",
    "        return 1\n",
    "    return n * factorial(n-1)\n",
    "\n",
    "if __name__ == \"__main__\":\n",
    "    n = 4\n",
    "    print(factorial(n))"
   ]
  },
  {
   "cell_type": "code",
   "execution_count": 12,
   "metadata": {},
   "outputs": [
    {
     "name": "stdout",
     "output_type": "stream",
     "text": [
      "1  "
     ]
    }
   ],
   "source": [
    "### fibonach\n",
    "\n",
    "def fibo(n):\n",
    "    # n이 0, 1일 때 1 반환\n",
    "    if n == 0 or n == 1:\n",
    "        return 1\n",
    "    return fibo(n-2) + fibo(n-1)\n",
    "\n",
    "if __name__ == \"__main__\":\n",
    "    n = 1\n",
    "    for i in range(fibo(n)):\n",
    "        print(fibo(n), end=\"  \")"
   ]
  },
  {
   "cell_type": "code",
   "execution_count": 15,
   "metadata": {},
   "outputs": [
    {
     "name": "stdout",
     "output_type": "stream",
     "text": [
      "1  1  2  3  5  8  13  21  34  55  "
     ]
    }
   ],
   "source": [
    "\"\"\"\n",
    "### 제너레이터를 활용한 fibonach 알고리즘\n",
    "\n",
    "# 게으른 연산\n",
    "제너레이터 : next로 출력할 때만 값을 연산하여 출력해준다.\n",
    "또한 한번 next()로 제너레이터를 출력한 경우에는 이미 실행되었으므로\n",
    "\"StopIteration\" 에러가 난다.\n",
    "\n",
    "이외에도 \"코루틴\"을 살펴보는 것이 좋다.\n",
    "\"\"\"\n",
    "\n",
    "def fibo_gen(n):\n",
    "    a = b = 1\n",
    "    \n",
    "    for i in range(n):\n",
    "        yield a\n",
    "        a, b = b, a + b\n",
    "        \n",
    "if __name__ == \"__main__\":\n",
    "    f = fibo_gen(10)\n",
    "    for i in range(10):\n",
    "        print(next(f), end=\"  \")"
   ]
  },
  {
   "cell_type": "code",
   "execution_count": null,
   "metadata": {},
   "outputs": [
    {
     "name": "stdout",
     "output_type": "stream",
     "text": [
      "원반의 개수를 입력하세요(종료: 0): 2\n",
      "A에서 B로 1번째 원반 이동\n",
      "A에서 C로 2번째 원반 이동\n",
      "B에서 C로 1번째 원반 이동\n"
     ]
    }
   ],
   "source": [
    "### Hanoi Tower\n",
    "\n",
    "def hanoi(num, _from, _by, _to):\n",
    "    # 마지막에 옮기는 가장 아래 원반.\n",
    "    if num == 1:\n",
    "        print(\"{}에서 {}로 {}번째 원반 이동\".format(_from, _to, num))\n",
    "        return\n",
    "    \n",
    "    hanoi(num-1, _from, _to, _by)\n",
    "    print(\"{}에서 {}로 {}번째 원반 이동\".format(_from, _to, num))\n",
    "    hanoi(num-1, _by, _from, _to)\n",
    "    \n",
    "if __name__ == \"__main__\":\n",
    "    while 1:\n",
    "        numOfTray = int(input(\"원반의 개수를 입력하세요(종료: 0): \"))\n",
    "        if numOfTray == 0:\n",
    "            break\n",
    "        hanoi(numOfTray, 'A', 'B', 'C')"
   ]
  }
 ],
 "metadata": {
  "kernelspec": {
   "display_name": "Python 3",
   "language": "python",
   "name": "python3"
  },
  "language_info": {
   "codemirror_mode": {
    "name": "ipython",
    "version": 3
   },
   "file_extension": ".py",
   "mimetype": "text/x-python",
   "name": "python",
   "nbconvert_exporter": "python",
   "pygments_lexer": "ipython3",
   "version": "3.5.3"
  }
 },
 "nbformat": 4,
 "nbformat_minor": 2
}
