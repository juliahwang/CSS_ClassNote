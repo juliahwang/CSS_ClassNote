{
 "cells": [
  {
   "cell_type": "code",
   "execution_count": 1,
   "metadata": {},
   "outputs": [],
   "source": [
    "class Node:\n",
    "    def __init__(self, data):\n",
    "        self.data = data\n",
    "        self.next = None\n",
    "# Node 생성하는 생성자 만들기\n",
    "# data 생성\n",
    "# data의 next는 아직 없으므로 None\n",
    "\n",
    "        \n",
    "class LinkedList():\n",
    "    def __init__(self):\n",
    "        dummy = Node(\"dummy\")\n",
    "        \n",
    "        self.head = dummy\n",
    "        self.tail = dummy\n",
    "        \n",
    "        self.before = None\n",
    "        self.current = None\n",
    "        \n",
    "        self.num_of_data = 0\n",
    "        \n",
    "# LinkedList 함수 작성 \n",
    "# 초기화함수에는 더미노드를 생성한다.\n",
    "# 이외 head, tail, before, current 값을 지정해준다. \n",
    "# 데이터 갯수의 초기값도 0으로 놓는다. \n",
    "\n",
    "\n",
    "    def append(self, data):\n",
    "        new_node = Node(data)\n",
    "        self.tail.next = new_node\n",
    "        self.tail = new_node\n",
    "        self.num_of_data += 1\n",
    "        \n",
    "# node 생성\n",
    "# tail이 생성된 new_node 참조\n",
    "# tail을 new_node로 옮기기(tail은 마지막 데이터(none바로앞)를 참조한다.)\n",
    "# data개수 1 증가\n",
    "\n",
    "    def first(self):\n",
    "        if self.num_of_data == 0:\n",
    "            return None\n",
    "        \n",
    "        self.before = self.head\n",
    "        self.current = self.head.next\n",
    "        \n",
    "        return self.current.data\n",
    "    \n",
    "# 데이터가 없을 경우 - num_of_data가 0인 경우에는 None반환\n",
    "# 데이터가 있을 경우 - before값은 head를 참조, current가 첫번째 데이터값을 반환하도록.\n",
    "#                  current의 데이터 값 반환 \n",
    "# first() 함수는 언제든지 처음부터 순회하고 싶을 때 사용할 수 있다. \n",
    "\n",
    "\n",
    "    def next_(self):\n",
    "        if not self.current.next:\n",
    "            return None\n",
    "        \n",
    "        self.before = self.current\n",
    "        self.current = self.current.next\n",
    "        \n",
    "        return self.current.data\n",
    "# current 다음 링크된 데이터가 없으면 - if 문으로 None 반환\n",
    "# current 다음 링크된 데이터가 있으면 - before값은 current로, current값은 current.next로 이동\n",
    "#                                current의 데이터값 반환\n",
    "\n",
    "\n",
    "    def delete(self):\n",
    "        ret_data = self.current.data \n",
    "        \n",
    "        if self.current == self.tail:\n",
    "            self.tail = self.before\n",
    "            \n",
    "        self.before.next = self.current.next\n",
    "        self.current = self.before\n",
    "        self.num_of_data -= 1\n",
    "        \n",
    "        return ret_data"
   ]
  },
  {
   "cell_type": "code",
   "execution_count": 2,
   "metadata": {
    "collapsed": true
   },
   "outputs": [],
   "source": [
    "d_list = LinkedList()"
   ]
  },
  {
   "cell_type": "code",
   "execution_count": 3,
   "metadata": {},
   "outputs": [],
   "source": [
    "d_list.append(2)\n",
    "d_list.append(3)\n",
    "d_list.append(1)\n",
    "d_list.append(5)\n",
    "d_list.append(2)\n",
    "d_list.append(10)\n",
    "d_list.append(7)\n",
    "d_list.append(2)"
   ]
  },
  {
   "cell_type": "code",
   "execution_count": 4,
   "metadata": {},
   "outputs": [
    {
     "name": "stdout",
     "output_type": "stream",
     "text": [
      "the num of data : <__main__.LinkedList object at 0x1105325c0>\n",
      "2  "
     ]
    }
   ],
   "source": [
    "data = d_list.first()\n",
    "print(\"the num of data : {}\".format(d_list, end='  '))\n",
    "\n",
    "if data:\n",
    "    print(data, end='  ')\n",
    "else:\n",
    "    print(\"There's no data\")"
   ]
  },
  {
   "cell_type": "code",
   "execution_count": 5,
   "metadata": {},
   "outputs": [
    {
     "name": "stdout",
     "output_type": "stream",
     "text": [
      "3  "
     ]
    }
   ],
   "source": [
    "data = d_list.next_()\n",
    "if data:\n",
    "    print(data, end='  ')\n",
    "else:\n",
    "    print(\"theres no more data\")"
   ]
  },
  {
   "cell_type": "code",
   "execution_count": 6,
   "metadata": {},
   "outputs": [
    {
     "name": "stdout",
     "output_type": "stream",
     "text": [
      "2  3  1  5  2  10  7  2  "
     ]
    }
   ],
   "source": [
    "# first 함수 사용, next 함수 사용하여 리스트 끝까지 불러오기\n",
    "data = d_list.first()\n",
    "if data:\n",
    "    print(data, end = \"  \")\n",
    "    while True:\n",
    "        data = d_list.next_()\n",
    "        if data:\n",
    "            print(data, end = \"  \")\n",
    "        else: \n",
    "            break"
   ]
  },
  {
   "cell_type": "code",
   "execution_count": 7,
   "metadata": {},
   "outputs": [
    {
     "name": "stdout",
     "output_type": "stream",
     "text": [
      "deleted  3  1  5  deleted  10  7  deleted  "
     ]
    }
   ],
   "source": [
    "# delete()함수를 사용하여 리스트 순회하며 특정 숫자 지우기\n",
    "data = d_list.first()\n",
    "\n",
    "if data:\n",
    "    if data == 2:\n",
    "        d_list.delete()\n",
    "        print(\"deleted\", end=\"  \")\n",
    "    while True:\n",
    "        data = d_list.next_()\n",
    "        if data == 2:\n",
    "            print(\"deleted\", end= \"  \")\n",
    "        elif data:\n",
    "            print(data, end= \"  \")\n",
    "        else:\n",
    "            break"
   ]
  },
  {
   "cell_type": "code",
   "execution_count": null,
   "metadata": {
    "collapsed": true
   },
   "outputs": [],
   "source": []
  },
  {
   "cell_type": "code",
   "execution_count": null,
   "metadata": {
    "collapsed": true
   },
   "outputs": [],
   "source": []
  }
 ],
 "metadata": {
  "kernelspec": {
   "display_name": "Python 3",
   "language": "python",
   "name": "python3"
  },
  "language_info": {
   "codemirror_mode": {
    "name": "ipython",
    "version": 3
   },
   "file_extension": ".py",
   "mimetype": "text/x-python",
   "name": "python",
   "nbconvert_exporter": "python",
   "pygments_lexer": "ipython3",
   "version": "3.5.3"
  }
 },
 "nbformat": 4,
 "nbformat_minor": 2
}
