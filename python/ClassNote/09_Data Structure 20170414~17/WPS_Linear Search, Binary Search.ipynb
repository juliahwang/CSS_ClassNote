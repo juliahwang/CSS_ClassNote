{
 "cells": [
  {
   "cell_type": "code",
   "execution_count": 70,
   "metadata": {},
   "outputs": [
    {
     "name": "stdout",
     "output_type": "stream",
     "text": [
      "sorted_list:  None\n",
      "mid:  3\n",
      "result:  5\n"
     ]
    }
   ],
   "source": [
    "li = [2, 1, 6, 5, 4, 3]\n",
    "\n",
    "def binary_search(li, n):\n",
    "    sorted_list = li.sort()\n",
    "    print('sorted_list: ', sorted_list)\n",
    "    start = 0\n",
    "    end = len(li) - 1\n",
    "    mid = len(li) // 2\n",
    "    print(\"mid: \", mid)\n",
    "    while True:\n",
    "        if n == li[mid]:\n",
    "            return mid\n",
    "            break\n",
    "        elif n < li[mid]:\n",
    "            end = mid - 1\n",
    "            mid = end // 2\n",
    "        else: \n",
    "            end = len(li) - 1\n",
    "            start = mid + 1\n",
    "            mid = (start + end) // 2\n",
    "            \n",
    "print('result: ', binary_search(li, 6))"
   ]
  },
  {
   "cell_type": "code",
   "execution_count": 11,
   "metadata": {},
   "outputs": [
    {
     "name": "stdout",
     "output_type": "stream",
     "text": [
      "찾으려는 5의 데이터 인덱스는 5입니다.\n",
      "Help on function binary_search in module __main__:\n",
      "\n",
      "binary_search(data, target)\n",
      "    데이터가 정렬된 상태로 전달되어야 합니다.\n",
      "\n",
      "None\n"
     ]
    }
   ],
   "source": [
    "# 선생님 풀이\n",
    "\n",
    "def binary_search(data, target):\n",
    "    \"\"\"\n",
    "    데이터가 정렬된 상태로 전달되어야 합니다.\n",
    "    \"\"\"\n",
    "    start = 0\n",
    "    end = len(data) - 1\n",
    "\n",
    "    # start와 end가 교차될 때까지, 즉 end가 start보다 작아질 때까지 \n",
    "    while start <= end:\n",
    "        mid = (start + end) // 2\n",
    "        \n",
    "        if target == data[mid]:\n",
    "            return mid\n",
    "        elif target < data[mid]:\n",
    "            end = mid - 1\n",
    "        else:\n",
    "            start = mid + 1\n",
    "            \n",
    "    return None\n",
    "            \n",
    "\n",
    "if __name__ == \"__main__\":\n",
    "    li = [i for i in range(11)]\n",
    "    target = 5\n",
    "    \n",
    "    idx = binary_search(li, target)\n",
    "    if idx:\n",
    "        print('찾으려는 {}의 데이터 인덱스는 {}입니다.'.format(\n",
    "        target, li[idx]))\n",
    "    else:\n",
    "        print('There is no such data.')\n",
    "        \n",
    "    print(help(binary_search))"
   ]
  },
  {
   "cell_type": "code",
   "execution_count": 33,
   "metadata": {},
   "outputs": [
    {
     "name": "stdout",
     "output_type": "stream",
     "text": [
      "0\n"
     ]
    }
   ],
   "source": [
    "def bi_recursion(data, target):\n",
    "    start = 0\n",
    "    end = len(data) - 1\n",
    "    mid = (start + end) // 2\n",
    "    if start > end:\n",
    "        return False\n",
    "    \n",
    "    if target == data[mid]:\n",
    "        return mid\n",
    "    elif target < data[mid]:\n",
    "        return bi_recursion(data[:mid], target)\n",
    "    else:\n",
    "        return bi_recursion(data[mid + 1:], target)    \n",
    "    return None\n",
    "        \n",
    "# if __name__ == \"__main__\":\n",
    "li = [i for i in range(11)]\n",
    "target = 4\n",
    "print(bi_recursion(li, target))"
   ]
  },
  {
   "cell_type": "code",
   "execution_count": 59,
   "metadata": {},
   "outputs": [
    {
     "name": "stdout",
     "output_type": "stream",
     "text": [
      "result: 1\n"
     ]
    }
   ],
   "source": [
    "def bi_recursion(data, target, start=0, end=None):\n",
    "    end = end or (len(data) - 1)\n",
    "    mid = (start + end) // 2\n",
    "    if start > end:\n",
    "        return False\n",
    "    \n",
    "    if target == data[mid]:\n",
    "        return print('result:', mid)\n",
    "    elif target < data[mid]:\n",
    "        return bi_recursion(data, target, start, (mid - 1))\n",
    "    else:\n",
    "        return bi_recursion(data, target, (mid + 1), end)    \n",
    "    return None\n",
    "        \n",
    "if __name__ == \"__main__\":\n",
    "    start = 0\n",
    "    end = 4\n",
    "    bi_recursion(range(4), 1, start, end)"
   ]
  },
  {
   "cell_type": "code",
   "execution_count": null,
   "metadata": {
    "collapsed": true
   },
   "outputs": [],
   "source": [
    "# 선생님 풀이\n",
    "# while문으로 해결할 수 있는 알고리즘은 재귀함수를 사용하지 않는다. \n",
    "def binary_search(target, start, end, data):\n",
    "    if start > end:\n",
    "        return None\n",
    "    \n",
    "    mid = (start + end) // 2\n",
    "    \n",
    "    if target == data[mid]:\n",
    "        return mid\n",
    "    elif target < data[mid]:\n",
    "        end = mid - 1\n",
    "    else:\n",
    "        start = mid + 1\n",
    "        \n",
    "    return binary_search(target, start, end, data)\n",
    "\n",
    "# 재귀함수 중복 사용을 줄였다."
   ]
  }
 ],
 "metadata": {
  "kernelspec": {
   "display_name": "Python 3",
   "language": "python",
   "name": "python3"
  },
  "language_info": {
   "codemirror_mode": {
    "name": "ipython",
    "version": 3
   },
   "file_extension": ".py",
   "mimetype": "text/x-python",
   "name": "python",
   "nbconvert_exporter": "python",
   "pygments_lexer": "ipython3",
   "version": "3.5.3"
  }
 },
 "nbformat": 4,
 "nbformat_minor": 2
}
