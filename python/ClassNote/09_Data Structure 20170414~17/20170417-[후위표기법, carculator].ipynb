{
 "cells": [
  {
   "cell_type": "code",
   "execution_count": 1,
   "metadata": {
    "collapsed": false,
    "deletable": true,
    "editable": true
   },
   "outputs": [
    {
     "data": {
      "text/plain": [
       "'\\n후위표기법\\n피연산자를 먼저쓰고 연산자를 뒤에 쓰는 방식\\n컴퓨터가 계산하기 쉬운 수식. 괄호가 없다. \\n대신 괄호가 적용이 된다.\\n각 연산자마다 가중치가 있다. \\n\\n\\n중위표기법 : 우리가 아는 수식\\n\\n'"
      ]
     },
     "execution_count": 1,
     "metadata": {},
     "output_type": "execute_result"
    }
   ],
   "source": [
    "'''\n",
    "후위표기법\n",
    "피연산자를 먼저쓰고 연산자를 뒤에 쓰는 방식\n",
    "컴퓨터가 계산하기 쉬운 수식. 괄호가 없다. \n",
    "대신 괄호가 적용이 된다.\n",
    "각 연산자마다 가중치가 있다. \n",
    "\n",
    "\n",
    "중위표기법 : 우리가 아는 수식\n",
    "\n",
    "'''\n"
   ]
  },
  {
   "cell_type": "code",
   "execution_count": null,
   "metadata": {
    "collapsed": true
   },
   "outputs": [],
   "source": [
    "lil ="
   ]
  }
 ],
 "metadata": {
  "kernelspec": {
   "display_name": "Python 3",
   "language": "python",
   "name": "python3"
  },
  "language_info": {
   "codemirror_mode": {
    "name": "ipython",
    "version": 3
   },
   "file_extension": ".py",
   "mimetype": "text/x-python",
   "name": "python",
   "nbconvert_exporter": "python",
   "pygments_lexer": "ipython3",
   "version": "3.6.0"
  }
 },
 "nbformat": 4,
 "nbformat_minor": 2
}
