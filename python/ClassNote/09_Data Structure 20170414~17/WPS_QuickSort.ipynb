{
 "cells": [
  {
   "cell_type": "markdown",
   "metadata": {},
   "source": [
    "### 단순 알고리즘 \n",
    "\n",
    "1. bubble sort (버블 정렬)\n",
    "2. insertion sort (삽입 정렬)\n",
    "3. selection sort (선택 정렬\n",
    "\n",
    "\n",
    "### 분할정복기법 (divide and conquer)\n",
    "\n",
    "해결하기 어려운 문제를 쪼개서(divide) 해결(conquer)한다.\n",
    "\n",
    "1. quick sort (퀵 소트) - O(nlogn)\n",
    "2. merge sort (머지 소트)"
   ]
  },
  {
   "cell_type": "markdown",
   "metadata": {},
   "source": [
    "## 퀵소트"
   ]
  },
  {
   "cell_type": "code",
   "execution_count": 5,
   "metadata": {},
   "outputs": [],
   "source": [
    "def quick_sort(data, start, end):\n",
    "    # 탈출조건\n",
    "    if start > end:\n",
    "        return \n",
    "\n",
    "    left = start\n",
    "    right = end\n",
    "    pivot = data[(start + end) // 2]\n",
    "    \n",
    "    # left와 right가 교차할 때까지 반복문 실행\n",
    "    while left <= right:\n",
    "        while data[left] < pivot:\n",
    "            left += 1\n",
    "        while data[right] > pivot:\n",
    "            right -= 1\n",
    "            \n",
    "        # 반드시 left와 right가 교차되었는지 확인, 안됐으면 해줌\n",
    "        if left <= right:\n",
    "            data[left], data[right] = data[right], data[left]\n",
    "            # 교환한 다음 left, right 각각 한칸씩 이동한다.\n",
    "            left += 1\n",
    "            right -= 1\n",
    "        \n",
    "    # 다시 반으로 쪼개 start ~ right에서 재귀함수 실행\n",
    "    quick_sort(data, start, right)\n",
    "    # 다시 반으로 쪼개 left ~ end에서 재귀함수 실행    \n",
    "    quick_sort(data, left, end)"
   ]
  },
  {
   "cell_type": "code",
   "execution_count": 7,
   "metadata": {},
   "outputs": [
    {
     "name": "stdout",
     "output_type": "stream",
     "text": [
      "[1, 2, 3, 4, 6, 8, 9]\n"
     ]
    }
   ],
   "source": [
    "# 파이썬은 실행할 주체파일에만 __main__이라는 이름을 할당해준다.\n",
    "# 따라서 import한 파일은 main이 아니므로 실행되지 않고\n",
    "# 현재실행하고싶은 주체파일만 실행된다.\n",
    "if __name__ == \"__main__\":\n",
    "    data = [1, 8, 4, 6, 3, 2, 9]\n",
    "    quick_sort(data, 0, len(data)-1)\n",
    "    print(data)"
   ]
  },
  {
   "cell_type": "code",
   "execution_count": null,
   "metadata": {},
   "outputs": [],
   "source": []
  }
 ],
 "metadata": {
  "kernelspec": {
   "display_name": "Python 3",
   "language": "python",
   "name": "python3"
  },
  "language_info": {
   "codemirror_mode": {
    "name": "ipython",
    "version": 3
   },
   "file_extension": ".py",
   "mimetype": "text/x-python",
   "name": "python",
   "nbconvert_exporter": "python",
   "pygments_lexer": "ipython3",
   "version": "3.5.3"
  }
 },
 "nbformat": 4,
 "nbformat_minor": 2
}
