{
 "cells": [
  {
   "cell_type": "markdown",
   "metadata": {},
   "source": [
    "## 컴파일러 언어와 인터프리터 언어의 구분기준\n",
    "\n",
    "인풋타임의 시점과 런타임의 유무\n",
    "\n",
    "### 컴파일러 언어\n",
    "\n",
    "지금의 컴파일러 언어 = 컴파일러(-어셈블리어) + 어셈블러(-기계어)\n",
    "(예전에는 따로 구분하였다.)\n",
    "\n",
    "컴파일러 언어의 최종 목적코드(object_code)은 언어에 따라 다르다.\n",
    "\n",
    "    C 소스코드 -- 컴파일러 ---> 기계어   ---- 실행(런타임에 data(input)가 들어가 .exe가 실행된다.) -----> C\n",
    "    java 소스코드 -- 컴파일러 --> 바이트 코드 -- VM(virtual machine)에서 input을 받아 .cls 실행 -----> java \n",
    "    \n",
    "언어를 컴파일했을 때 최종 목적이 기계어가 아니라고 해서 인터프리터 언어로 정의하는 것은 잘못된 것.\n",
    "ex_ 자바는 컴파일러 언어지만 최종 컴파일 형태가 byte 코드이다.\n",
    "\n",
    "\n",
    "### 인터프리터 언어 \n",
    "\n",
    "컴파일러 언어는 컴파일 타임이 따로 있기 때문에 소스코드를 먼저 처리하고 인풋(데이터)를 나중에 받아 처리한다.\n",
    "따라서 컴파일러 언어는 컴파일링 도중에 문법 에러가 생길 수 있다.\n",
    "인터프리터 언어는 데이터와 소스코드를 동시에 받아 처리하므로 실행 도중 에러가 날 수 있다.\n",
    "\n",
    "    파이썬의 소스코드 + input(data) --- 컴파일러 ---> 바이트코드 ---> VM ---> 결과\n",
    "  \n",
    "  \n",
    "### 그렇다면 왜 파이썬은 `__pycache__`(compiled python file)을 생성하는가??\n",
    "\n",
    "lexer, parser가 있다면 컴파일러언어라 할 수 있다. 파이썬에도 컴파일러가 존재한다. \n",
    "\n",
    "#### lexer\n",
    "\n",
    "코드 구문을 분석하여 트리로 생성한다. 이 트리는 AST라고 부른다.\n",
    "\n",
    "\n",
    "#### parser\n",
    "\n",
    "lexer가 잘게 쪼개어 생성한 트리를 가지고 symbol table을 생성한다.\n",
    "\n"
   ]
  },
  {
   "cell_type": "markdown",
   "metadata": {},
   "source": [
    "\n"
   ]
  },
  {
   "cell_type": "code",
   "execution_count": 1,
   "metadata": {},
   "outputs": [
    {
     "name": "stdout",
     "output_type": "stream",
     "text": [
      "c : 30\n",
      "LOAD_FAST\n",
      "LOAD_FAST\n",
      "BINARY_ADD\n",
      "STORE_FAST\n",
      "LOAD_FAST\n",
      "RETURN_VALUE\n"
     ]
    }
   ],
   "source": [
    "## 파이썬 연산의 메모리 엑세스\n",
    "# LOAD_FAST : 연산할 데이터를 레지스터를 거쳐 스텍에 저장\n",
    "\n",
    "\n",
    "def adder(a, b):\n",
    "    c = a + b \n",
    "    return c\n",
    "\n",
    "def main():\n",
    "    a = 10\n",
    "    b = 20\n",
    "    c = adder(a, b)\n",
    "    print(\"c : {}\".format(c))\n",
    "    \n",
    "\n",
    "if __name__ == \"__main__\":\n",
    "    main()\n",
    "    \n",
    "    import dis\n",
    "    \n",
    "    bytecode = dis.Bytecode(adder)\n",
    "    for instruction in bytecode:\n",
    "        print(instruction.opname)"
   ]
  },
  {
   "cell_type": "code",
   "execution_count": null,
   "metadata": {
    "collapsed": true
   },
   "outputs": [],
   "source": [
    "## 상속 : is_a 상태를 구현할 때 사용\n",
    "# Laptop is a computer\n",
    "\n",
    "\n",
    "\n",
    "## 객체 합성 : has_a 상태를 구현할 때 사용\n",
    "# A policeman has a gun\n",
    "# 소유 관계는 객체 합성을 사용한다.\n",
    "\n",
    "\n",
    "class Gun:\n",
    "    def __init__(self, name):\n",
    "        self.name = name\n",
    "        \n",
    "    def shoot(self):\n",
    "        print(\"bbang\")\n",
    "        \n",
    "    \n",
    "class PoliceMan:\n",
    "    def __init__(self, None):\n",
    "        self.gun = None\n",
    "        \n",
    "    def set_gun(self, gun):\n",
    "        self.gun = gun"
   ]
  }
 ],
 "metadata": {
  "kernelspec": {
   "display_name": "Python 3",
   "language": "python",
   "name": "python3"
  },
  "language_info": {
   "codemirror_mode": {
    "name": "ipython",
    "version": 3
   },
   "file_extension": ".py",
   "mimetype": "text/x-python",
   "name": "python",
   "nbconvert_exporter": "python",
   "pygments_lexer": "ipython3",
   "version": "3.5.3"
  }
 },
 "nbformat": 4,
 "nbformat_minor": 2
}
