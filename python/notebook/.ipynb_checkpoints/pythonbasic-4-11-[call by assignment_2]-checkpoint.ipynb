{
 "cells": [
  {
   "cell_type": "code",
   "execution_count": 1,
   "metadata": {
    "collapsed": false
   },
   "outputs": [
    {
     "data": {
      "text/plain": [
       "'\\n1. call by reference vs call by value\\n    c++에서 a와 b의 객체값을 바꾸는 함수를 실행했을 때, call by reference형 함수는 값을 바꾸지만\\n    call by value는 함수를 실행해도 값이 바뀌지 않는다.\\n    call by reference - 값을 가르킨다.\\n    call by value -  값을 복사한다. \\n2. call by assignment\\n3. segmentation\\n4. paging\\n\\nCcpCon 2016: Nicholas Ormrod \"the strange details of std::string at FB\"를 이해할 수 있는가?\\n'"
      ]
     },
     "execution_count": 1,
     "metadata": {},
     "output_type": "execute_result"
    }
   ],
   "source": [
    "'''\n",
    "1. call by reference vs call by value\n",
    "    c++에서 a와 b의 객체값을 바꾸는 함수를 실행했을 때, call by reference형 함수는 값을 바꾸지만\n",
    "    call by value는 함수를 실행해도 값이 바뀌지 않는다.\n",
    "    call by reference - 값을 가르킨다.\n",
    "    call by value -  값을 복사한다. \n",
    "2. call by assignment\n",
    "3. segmentation\n",
    "4. paging\n",
    "\n",
    "CcpCon 2016: Nicholas Ormrod \"the strange details of std::string at FB\"를 이해할 수 있는가?\n",
    "'''"
   ]
  },
  {
   "cell_type": "code",
   "execution_count": 7,
   "metadata": {
    "collapsed": false
   },
   "outputs": [],
   "source": [
    "# call by assignment\n",
    "#  파이썬은 call by reference도 아니고 call by value도 아니다. \n",
    "\n",
    "def func(x, y):\n",
    "    print(id(x), id(y), \"in function_before\")\n",
    "    x = 7\n",
    "    y = 11\n",
    "    print(id(x), id(y), \"in function_after\")"
   ]
  },
  {
   "cell_type": "code",
   "execution_count": 8,
   "metadata": {
    "collapsed": false
   },
   "outputs": [
    {
     "name": "stdout",
     "output_type": "stream",
     "text": [
      "4429099872 4429100192\n",
      "4429099872 4429100192 in function_before\n",
      "4429099776 4429099904 in function_after\n"
     ]
    }
   ],
   "source": [
    "a = 10\n",
    "b = 20\n",
    "print(id(a), id(b))\n",
    "\n",
    "func(a, b)\n",
    "# 밖에서 출력한 값과 함수 안의 a, b가 같은 id를 가진다."
   ]
  },
  {
   "cell_type": "code",
   "execution_count": 10,
   "metadata": {
    "collapsed": false
   },
   "outputs": [
    {
     "name": "stdout",
     "output_type": "stream",
     "text": [
      "[1, 2, 15, 4]\n"
     ]
    }
   ],
   "source": [
    "# list의 경우(mutable, dict도 마찬가지 )\n",
    "\n",
    "def func2(x):\n",
    "    x[2] = 15\n",
    "    # 인덱스로 요소 변경 - 적용됨\n",
    "    \n",
    "li = [1, 2, 3, 4]\n",
    "\n",
    "func2(li)\n",
    "print(li)\n",
    "# 리스트는 상수 객체와 다르게 mutable하다. "
   ]
  },
  {
   "cell_type": "code",
   "execution_count": 11,
   "metadata": {
    "collapsed": false
   },
   "outputs": [
    {
     "name": "stdout",
     "output_type": "stream",
     "text": [
      "[1, 2, 3, 4]\n"
     ]
    }
   ],
   "source": [
    "def func2(x):\n",
    "    x = [5, 6, 7, 8]\n",
    "    # 새로 리스트 할당 - 적용안됨\n",
    "    \n",
    "li = [1, 2, 3, 4]\n",
    "\n",
    "func2(li)\n",
    "print(li)"
   ]
  },
  {
   "cell_type": "code",
   "execution_count": 12,
   "metadata": {
    "collapsed": false
   },
   "outputs": [
    {
     "name": "stdout",
     "output_type": "stream",
     "text": [
      "20 10\n"
     ]
    }
   ],
   "source": [
    "a = 10\n",
    "b = 20\n",
    "a, b = b, a\n",
    "print(a, b)\n",
    "# 파이썬에서만 가능한 문법"
   ]
  },
  {
   "cell_type": "code",
   "execution_count": 25,
   "metadata": {
    "collapsed": true
   },
   "outputs": [],
   "source": [
    "def change(a, b):\n",
    "    a, b = b, a"
   ]
  },
  {
   "cell_type": "code",
   "execution_count": 26,
   "metadata": {
    "collapsed": false
   },
   "outputs": [
    {
     "name": "stdout",
     "output_type": "stream",
     "text": [
      "7 11\n"
     ]
    }
   ],
   "source": [
    "a = 7\n",
    "b = 11\n",
    "change(a, b)\n",
    "print(a, b)\n",
    "# 변경이 안됨. "
   ]
  },
  {
   "cell_type": "code",
   "execution_count": 27,
   "metadata": {
    "collapsed": true
   },
   "outputs": [],
   "source": [
    "# 파이썬에서 소개하는 콜바이 레퍼런스 사용법\n",
    "\n",
    "def change_re(a, b):\n",
    "    a, b = b, a\n",
    "    return a, b\n",
    "# 리턴 값을 받아서 튜플로 사용하면 콜바이 레퍼런스로 사용할 수 있다. "
   ]
  },
  {
   "cell_type": "code",
   "execution_count": 29,
   "metadata": {
    "collapsed": false
   },
   "outputs": [
    {
     "name": "stdout",
     "output_type": "stream",
     "text": [
      "11 7\n"
     ]
    }
   ],
   "source": [
    "a = 7\n",
    "b = 11\n",
    "a, b = change_re(a, b)\n",
    "print(a, b)\n",
    "# 튜플로 리턴값을 받으면 변경됨. "
   ]
  },
  {
   "cell_type": "code",
   "execution_count": 30,
   "metadata": {
    "collapsed": true
   },
   "outputs": [],
   "source": [
    "# 일반 함수에서는 값을 바꿔줘도 변하지 않는다.\n",
    "# 함수가 실행되자마자 메모리가 없어지므로 n이라는 상수객체를 줘도 함수가 끝나면 주어진 상수 객체의 값도 적용되지 않는다.\n",
    "\n",
    "def func(a, n):\n",
    "    a = n"
   ]
  },
  {
   "cell_type": "code",
   "execution_count": 34,
   "metadata": {
    "collapsed": false
   },
   "outputs": [
    {
     "data": {
      "text/plain": [
       "7"
      ]
     },
     "execution_count": 34,
     "metadata": {},
     "output_type": "execute_result"
    }
   ],
   "source": [
    "a = 7\n",
    "func(a, 11)\n",
    "a\n",
    "# print(func(a, 11))을 하면 None이 출력된다. 값이 사라졌으므로"
   ]
  },
  {
   "cell_type": "code",
   "execution_count": 35,
   "metadata": {
    "collapsed": true
   },
   "outputs": [],
   "source": [
    "class Base:\n",
    "    def __init__(self, n):\n",
    "        self.a = n\n",
    "        \n",
    "    def method(self, n):   # 클래스 메소드\n",
    "        self.a = n\n",
    "\n",
    "b = Base(1)"
   ]
  },
  {
   "cell_type": "code",
   "execution_count": 36,
   "metadata": {
    "collapsed": false
   },
   "outputs": [
    {
     "data": {
      "text/plain": [
       "1"
      ]
     },
     "execution_count": 36,
     "metadata": {},
     "output_type": "execute_result"
    }
   ],
   "source": [
    "b.a"
   ]
  },
  {
   "cell_type": "code",
   "execution_count": 37,
   "metadata": {
    "collapsed": true
   },
   "outputs": [],
   "source": [
    "b.method(33)\n",
    "# 메소드는 값이 바뀐다."
   ]
  },
  {
   "cell_type": "code",
   "execution_count": 38,
   "metadata": {
    "collapsed": false
   },
   "outputs": [
    {
     "data": {
      "text/plain": [
       "33"
      ]
     },
     "execution_count": 38,
     "metadata": {},
     "output_type": "execute_result"
    }
   ],
   "source": [
    "b.a"
   ]
  },
  {
   "cell_type": "code",
   "execution_count": 39,
   "metadata": {
    "collapsed": false
   },
   "outputs": [
    {
     "data": {
      "text/plain": [
       "4459466512"
      ]
     },
     "execution_count": 39,
     "metadata": {},
     "output_type": "execute_result"
    }
   ],
   "source": [
    "id(1000) # 어떤 공간에 상수객체를 만들고 id 확인"
   ]
  },
  {
   "cell_type": "code",
   "execution_count": 40,
   "metadata": {
    "collapsed": false
   },
   "outputs": [
    {
     "data": {
      "text/plain": [
       "4459466512"
      ]
     },
     "execution_count": 40,
     "metadata": {},
     "output_type": "execute_result"
    }
   ],
   "source": [
    "a = 1000\n",
    "id(a)\n"
   ]
  },
  {
   "cell_type": "code",
   "execution_count": null,
   "metadata": {
    "collapsed": true
   },
   "outputs": [],
   "source": []
  }
 ],
 "metadata": {
  "kernelspec": {
   "display_name": "Python 3",
   "language": "python",
   "name": "python3"
  },
  "language_info": {
   "codemirror_mode": {
    "name": "ipython",
    "version": 3
   },
   "file_extension": ".py",
   "mimetype": "text/x-python",
   "name": "python",
   "nbconvert_exporter": "python",
   "pygments_lexer": "ipython3",
   "version": "3.6.0"
  }
 },
 "nbformat": 4,
 "nbformat_minor": 2
}
