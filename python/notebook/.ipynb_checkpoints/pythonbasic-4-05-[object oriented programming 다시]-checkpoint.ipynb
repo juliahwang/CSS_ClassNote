{
 "cells": [
  {
   "cell_type": "code",
   "execution_count": 2,
   "metadata": {
    "collapsed": true
   },
   "outputs": [],
   "source": [
    "# 절차지향 프로그래밍\n",
    "# (1) 딕셔너리로 만들어준다. \n",
    "my_name = \"greg\"\n",
    "my_age = 18\n",
    "my_money = 5000\n",
    "\n",
    "# my_dic = dict(name = \"greg\", age = 18, money = 5000)\n",
    "# 나와 관련된 데이터들을 딕셔너리로 한 곳에 모았다. \n",
    "# \"연관성\" 있는 데이터를 모아놓았다. = 클래스의 존재 의미와 같음. \n",
    "\n",
    "\n",
    "your_name = \"matt\"\n",
    "your_age = 25\n",
    "your_money = 1000\n",
    "\n",
    "# your_dic = {name: \"matt\", age: 25, money: 1000}"
   ]
  },
  {
   "cell_type": "code",
   "execution_count": 15,
   "metadata": {
    "collapsed": false
   },
   "outputs": [],
   "source": [
    "my_dic = dict(name = \"greg\", age = 18, money = 5000)\n",
    "your_dic = {\"name\": \"matt\", \"age\": 25, \"money\": 1000}\n",
    "\n",
    "# 함수는 재사용이 가능한 기능의 구현. 내 행동을 표현하는 함수 1개를 만든다.\n",
    "def give_money(give_dic, receive_dic, money):\n",
    "    # 클래스를 참고하면 self_dic, other_dic 함수 인자이름 변경이 가능하다. \n",
    "    \n",
    "    give_dic[\"money\"] = give_dic[\"money\"] - money\n",
    "    receive_dic[\"money\"] = receive_dic[\"money\"] + money\n",
    "    # 바로 윗줄은 이렇게도 쓴다. \n",
    "    # receive_dic.update[{\"money\": receive_dic.get(\"money\") + money}]"
   ]
  },
  {
   "cell_type": "code",
   "execution_count": 16,
   "metadata": {
    "collapsed": false
   },
   "outputs": [],
   "source": [
    "give_money(my_dic, your_dic, 2000)"
   ]
  },
  {
   "cell_type": "code",
   "execution_count": 17,
   "metadata": {
    "collapsed": false
   },
   "outputs": [
    {
     "data": {
      "text/plain": [
       "{'age': 18, 'money': 3000, 'name': 'greg'}"
      ]
     },
     "execution_count": 17,
     "metadata": {},
     "output_type": "execute_result"
    }
   ],
   "source": [
    "my_dic"
   ]
  },
  {
   "cell_type": "code",
   "execution_count": 18,
   "metadata": {
    "collapsed": false
   },
   "outputs": [
    {
     "data": {
      "text/plain": [
       "{'age': 25, 'money': 3000, 'name': 'matt'}"
      ]
     },
     "execution_count": 18,
     "metadata": {},
     "output_type": "execute_result"
    }
   ],
   "source": [
    "your_dic"
   ]
  },
  {
   "cell_type": "code",
   "execution_count": 19,
   "metadata": {
    "collapsed": true
   },
   "outputs": [],
   "source": [
    "my_dic[\"func_1\"] = give_money\n",
    "# 함수를 딕셔너리에 넣었다."
   ]
  },
  {
   "cell_type": "code",
   "execution_count": 20,
   "metadata": {
    "collapsed": false
   },
   "outputs": [
    {
     "data": {
      "text/plain": [
       "{'age': 18,\n",
       " 'func_1': <function __main__.give_money>,\n",
       " 'money': 3000,\n",
       " 'name': 'greg'}"
      ]
     },
     "execution_count": 20,
     "metadata": {},
     "output_type": "execute_result"
    }
   ],
   "source": [
    "my_dic\n",
    "\n",
    "# 나의 정보에 member변수 뿐만 아니라 함수(기능)까지 포함되어 있는 것을\n",
    "# 한눈에 볼 수 있다. \"연관성\"있는 변수와 함수를 한 곳에 모아놓았다. "
   ]
  },
  {
   "cell_type": "code",
   "execution_count": 21,
   "metadata": {
    "collapsed": true
   },
   "outputs": [],
   "source": [
    "my_dic[\"func_1\"](my_dic, your_dic, 2000)\n",
    "# 딕셔너리에서 함수를 키값으로 호출하여 사용가능."
   ]
  },
  {
   "cell_type": "code",
   "execution_count": 22,
   "metadata": {
    "collapsed": false
   },
   "outputs": [
    {
     "data": {
      "text/plain": [
       "{'age': 25, 'money': 5000, 'name': 'matt'}"
      ]
     },
     "execution_count": 22,
     "metadata": {},
     "output_type": "execute_result"
    }
   ],
   "source": [
    "your_dic"
   ]
  },
  {
   "cell_type": "code",
   "execution_count": 24,
   "metadata": {
    "collapsed": false
   },
   "outputs": [],
   "source": [
    "your_dic[\"func_1\"] = give_money"
   ]
  },
  {
   "cell_type": "code",
   "execution_count": 25,
   "metadata": {
    "collapsed": false
   },
   "outputs": [
    {
     "data": {
      "text/plain": [
       "{'age': 25,\n",
       " 'func_1': <function __main__.give_money>,\n",
       " 'money': 5000,\n",
       " 'name': 'matt'}"
      ]
     },
     "execution_count": 25,
     "metadata": {},
     "output_type": "execute_result"
    }
   ],
   "source": [
    "your_dic\n",
    "# your_dic에도 같은 기능을 하는(돈을 줄 수 있는) 함수를 넣어주었다. "
   ]
  },
  {
   "cell_type": "code",
   "execution_count": 27,
   "metadata": {
    "collapsed": true
   },
   "outputs": [],
   "source": [
    "# 연관성 있는 데이터를 하나의 딕셔너리에 넣는 기능을 하는 함수를 만들었다. \n",
    "# 딕셔너리가 가지고 있는 정보와 func는 초기화되어서 들어간다.\n",
    "\n",
    "def initialize_person_dic(name, age, money, func):\n",
    "    dic = {}               # 메모리 할당 \n",
    "    dic[\"name\"] = name     # 변수들 딕셔너리에 집어넣기 \n",
    "    dic[\"age\"] = age\n",
    "    dic[\"money\"] = money\n",
    "    dic[\"func\"] = func\n",
    "    return dic"
   ]
  },
  {
   "cell_type": "code",
   "execution_count": 28,
   "metadata": {
    "collapsed": true
   },
   "outputs": [],
   "source": [
    "his_dic = initialize_person_dic(\"sam\", 11, 200, give_money)\n",
    "# his_dic 이라는 딕셔너리에 함수를 적용하면 바로 딕셔너리가 만들어진다."
   ]
  },
  {
   "cell_type": "code",
   "execution_count": 29,
   "metadata": {
    "collapsed": false
   },
   "outputs": [
    {
     "data": {
      "text/plain": [
       "{'age': 11,\n",
       " 'func': <function __main__.give_money>,\n",
       " 'money': 200,\n",
       " 'name': 'sam'}"
      ]
     },
     "execution_count": 29,
     "metadata": {},
     "output_type": "execute_result"
    }
   ],
   "source": [
    "his_dic"
   ]
  },
  {
   "cell_type": "code",
   "execution_count": 39,
   "metadata": {
    "collapsed": true
   },
   "outputs": [],
   "source": [
    "# 위와 같은 사전준비를(틀을 만드는 작업) class로 구현한다.\n",
    "# 클래스 : 사람을 만들어내는 틀. 연관성있는 함수와 변수를 모아놓은 틀. \n",
    "# __(함수명)__ : 파이썬에서 이미 만들어놓은 함수이므로 절대 같은 이름으로 타 함수를 만들면 안된다. \n",
    "class Person:\n",
    "    def __init__(self, name, age, money):    # <-생성자 : 인스턴스가 실행될 때 반드시 호출된다.  \n",
    "    # 상단에서 기본값을 줄 수도 있다. ex_ (name = \"greg\", age, money = 10000)\n",
    "    # func는 class 안에 추가된다. \n",
    "        self.name = name\n",
    "        self.age = age\n",
    "        self.money = money\n",
    "    \n",
    "    def __del__(self):  # 소멸자 : 객체가 없어질 때 반드시 호출된다. \n",
    "        print(\"소멸자 호출\")\n",
    "        \n",
    "    # 연관성 있는 함수들은 모두 class에 넣어 묶을 수 있다. \n",
    "    def Givemoney(self, other, money):\n",
    "        self.money -= money\n",
    "        other.money += money\n",
    "\n",
    "# 방금 위에서 만든 class는 사람이 아니라 틀을 만든 것. "
   ]
  },
  {
   "cell_type": "code",
   "execution_count": 40,
   "metadata": {
    "collapsed": true
   },
   "outputs": [],
   "source": [
    "# 인스턴스를 생성할 때 반드시 위의 class 내 __init__함수가 반드시 실행된다.\n",
    "# 이렇게 자동으로 불러오는 함수를 생성자(Constructer)라고 한다. \n",
    "per_1 = Person(\"greg\", 100, 10000000)"
   ]
  },
  {
   "cell_type": "code",
   "execution_count": 41,
   "metadata": {
    "collapsed": false
   },
   "outputs": [
    {
     "name": "stdout",
     "output_type": "stream",
     "text": [
      "소멸자 호출\n"
     ]
    }
   ],
   "source": [
    "del per_1\n",
    "\n",
    "# 객체가 하나 삭제되면서 소멸자(__del__) 가 실행된다.\n",
    "# 객체가 삭제되면서 실행해야할 조건이 있을 경우 사용할 수 있으나 \n",
    "# garbage collecting을 대신 사용하기 때문에 자주 사용하지 않는다."
   ]
  },
  {
   "cell_type": "code",
   "execution_count": 42,
   "metadata": {
    "collapsed": false
   },
   "outputs": [
    {
     "name": "stdout",
     "output_type": "stream",
     "text": [
      "소멸자 호출\n"
     ]
    }
   ],
   "source": [
    "per_2 = Person(\"matt\", 20, 5000)\n",
    "\n"
   ]
  },
  {
   "cell_type": "code",
   "execution_count": 38,
   "metadata": {
    "collapsed": false
   },
   "outputs": [
    {
     "name": "stdout",
     "output_type": "stream",
     "text": [
      "5000\n",
      "<__main__.Person object at 0x10c2fb5c0>\n"
     ]
    }
   ],
   "source": [
    "print(per_2.money)\n",
    "# 클래스 생성자에서 기본값을 10000으로 주었지만 금액을 쓰면 나중에 쓴 값으로 대체된다. \n",
    "print(per_2)\n",
    "# 디폴트값은 생성자의 인자 오른쪽에서 왼쪽으로 입력해야 한다. \n",
    "# def __init__(self, name = \"matt\", age, money = 10000 )\n",
    "\n",
    "# 모든 변수선언은 initialize(__init__)해주는 것이 OOP적인 것이다. \n",
    "# 따로 함수를 뺴서 만들지 말고 인터페이스에서 모든 변수가 드러나도록 해야한다."
   ]
  },
  {
   "cell_type": "code",
   "execution_count": 52,
   "metadata": {
    "collapsed": false
   },
   "outputs": [
    {
     "ename": "SyntaxError",
     "evalue": "can't assign to function call (<ipython-input-52-066859570f3b>, line 3)",
     "output_type": "error",
     "traceback": [
      "\u001b[0;36m  File \u001b[0;32m\"<ipython-input-52-066859570f3b>\"\u001b[0;36m, line \u001b[0;32m3\u001b[0m\n\u001b[0;31m    per_2.a(car) = \"hyundai\"\u001b[0m\n\u001b[0m                            ^\u001b[0m\n\u001b[0;31mSyntaxError\u001b[0m\u001b[0;31m:\u001b[0m can't assign to function call\n"
     ]
    }
   ],
   "source": [
    "# 모든 변수는 함수로 초기화해주는 것이 좋다.\n",
    "# 아래처럼 쓰게 되면 per_2에만 생성이 되고 다른 변수에는 적용할 수가 없으므로 OOP적이지 않다. \n",
    "per_2.a(car)\n",
    "per_2.a"
   ]
  },
  {
   "cell_type": "code",
   "execution_count": 43,
   "metadata": {
    "collapsed": true
   },
   "outputs": [],
   "source": [
    "'''\n",
    "reference counting(가비지 컬렉터. garbage collector)\n",
    "a = 5에서 5는 변수가 아니라 값 객체이며, a는 이름이라고 부른다.\n",
    "a라는 공간에 5를 넣는 것이 아니라 a가 5를 향해 가르키고(참조) 있는 것.\n",
    "a 는 5라는 하나의 객체를 가르키고 있으므로 r.c는 1이다.\n",
    "a ----> 5\n",
    "'''\n",
    "\n",
    "a = 5   # a ----> 5\n",
    "b = 5   # b ----> 5"
   ]
  },
  {
   "cell_type": "code",
   "execution_count": 46,
   "metadata": {
    "collapsed": false
   },
   "outputs": [
    {
     "name": "stdout",
     "output_type": "stream",
     "text": [
      "4459553472 4459553472\n"
     ]
    }
   ],
   "source": [
    "print(id(a), id(b))\n",
    "# a와 b의 아이디가 동일하다."
   ]
  },
  {
   "cell_type": "code",
   "execution_count": 47,
   "metadata": {
    "collapsed": true
   },
   "outputs": [],
   "source": [
    "del b"
   ]
  },
  {
   "cell_type": "code",
   "execution_count": 48,
   "metadata": {
    "collapsed": false
   },
   "outputs": [
    {
     "data": {
      "text/plain": [
       "5"
      ]
     },
     "execution_count": 48,
     "metadata": {},
     "output_type": "execute_result"
    }
   ],
   "source": [
    "a"
   ]
  },
  {
   "cell_type": "code",
   "execution_count": 49,
   "metadata": {
    "collapsed": true
   },
   "outputs": [],
   "source": [
    "del a"
   ]
  },
  {
   "cell_type": "code",
   "execution_count": 53,
   "metadata": {
    "collapsed": false
   },
   "outputs": [
    {
     "ename": "NameError",
     "evalue": "name 'a' is not defined",
     "output_type": "error",
     "traceback": [
      "\u001b[0;31m---------------------------------------------------------------------------\u001b[0m",
      "\u001b[0;31mNameError\u001b[0m                                 Traceback (most recent call last)",
      "\u001b[0;32m<ipython-input-53-551508accd43>\u001b[0m in \u001b[0;36m<module>\u001b[0;34m()\u001b[0m\n\u001b[0;32m----> 1\u001b[0;31m \u001b[0mprint\u001b[0m\u001b[0;34m(\u001b[0m\u001b[0ma\u001b[0m\u001b[0;34m)\u001b[0m\u001b[0;34m\u001b[0m\u001b[0m\n\u001b[0m\u001b[1;32m      2\u001b[0m \u001b[0;34m\u001b[0m\u001b[0m\n\u001b[1;32m      3\u001b[0m \u001b[0;31m# 이름이 가르키는 참조의 갯수를 레퍼런스 카운팅이라 하며\u001b[0m\u001b[0;34m\u001b[0m\u001b[0;34m\u001b[0m\u001b[0m\n\u001b[1;32m      4\u001b[0m \u001b[0;31m# 가비지 콜렉터가 참조의 갯수를 계산하여 값을 불러오며 갯수가 0이 되면\u001b[0m\u001b[0;34m\u001b[0m\u001b[0;34m\u001b[0m\u001b[0m\n\u001b[1;32m      5\u001b[0m \u001b[0;31m# 파이썬은 자동으로 메모리에서 지워버린다.\u001b[0m\u001b[0;34m\u001b[0m\u001b[0;34m\u001b[0m\u001b[0m\n",
      "\u001b[0;31mNameError\u001b[0m: name 'a' is not defined"
     ]
    }
   ],
   "source": [
    "print(a)\n",
    "\n",
    "# 이름이 가르키는 참조의 갯수를 레퍼런스 카운팅이라 하며 \n",
    "# 가비지 콜렉터가 참조의 갯수를 계산하여 값을 불러오며 갯수가 0이 되면\n",
    "# 파이썬은 자동으로 메모리에서 지워버린다. \n",
    "# c를 제외한 모든 언어는 가비지 콜렉터를 가지고 있다. (포인터(참조)가 없으므로)"
   ]
  },
  {
   "cell_type": "code",
   "execution_count": null,
   "metadata": {
    "collapsed": true
   },
   "outputs": [],
   "source": []
  }
 ],
 "metadata": {
  "kernelspec": {
   "display_name": "Python 3",
   "language": "python",
   "name": "python3"
  },
  "language_info": {
   "codemirror_mode": {
    "name": "ipython",
    "version": 3
   },
   "file_extension": ".py",
   "mimetype": "text/x-python",
   "name": "python",
   "nbconvert_exporter": "python",
   "pygments_lexer": "ipython3",
   "version": "3.6.0"
  }
 },
 "nbformat": 4,
 "nbformat_minor": 2
}
