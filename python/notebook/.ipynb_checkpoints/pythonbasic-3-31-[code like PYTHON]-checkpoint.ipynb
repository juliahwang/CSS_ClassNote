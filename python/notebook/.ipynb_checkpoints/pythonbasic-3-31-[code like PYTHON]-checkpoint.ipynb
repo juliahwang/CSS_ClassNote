{
 "cells": [
  {
   "cell_type": "code",
   "execution_count": 34,
   "metadata": {
    "collapsed": false
   },
   "outputs": [
    {
     "name": "stdout",
     "output_type": "stream",
     "text": [
      "type the first number: 12\n",
      "type the second number: 7\n"
     ]
    }
   ],
   "source": [
    "div = int(input(\"Type the first number: \"))\n",
    "mul = int(input(\"Type the second number: \"))"
   ]
  },
  {
   "cell_type": "code",
   "execution_count": 89,
   "metadata": {
    "collapsed": false
   },
   "outputs": [
    {
     "ename": "SyntaxError",
     "evalue": "'return' outside function (<ipython-input-89-64319952dbdd>, line 4)",
     "output_type": "error",
     "traceback": [
      "\u001b[0;36m  File \u001b[0;32m\"<ipython-input-89-64319952dbdd>\"\u001b[0;36m, line \u001b[0;32m4\u001b[0m\n\u001b[0;31m    return (mul * 2)\u001b[0m\n\u001b[0m    ^\u001b[0m\n\u001b[0;31mSyntaxError\u001b[0m\u001b[0;31m:\u001b[0m 'return' outside function\n"
     ]
    }
   ],
   "source": [
    "result = 0\n",
    "while True:\n",
    "    if div % 2 == 1:\n",
    "    return (mul * 2)\n",
    "    \n",
    "    if div == 1:\n",
    "        print(result)"
   ]
  },
  {
   "cell_type": "code",
   "execution_count": 37,
   "metadata": {
    "collapsed": false
   },
   "outputs": [
    {
     "name": "stdout",
     "output_type": "stream",
     "text": [
      "How many times you want to curse the beast? 30\n",
      "Fusion!!!(29 times left)\n",
      "Fusion!!!(28 times left)\n",
      "Fusion!!!(27 times left)\n",
      "Fusion!!!(26 times left)\n",
      "Fusion!!!(25 times left)\n",
      "Fusion!!!(24 times left)\n",
      "Fusion!!!(23 times left)\n",
      "Fusion!!!(22 times left)\n",
      "Fusion!!!(21 times left)\n",
      "Fusion!!!(20 times left)\n",
      "Fusion!!!(19 times left)\n",
      "Fusion!!!(18 times left)\n",
      "Fusion!!!(17 times left)\n",
      "Fusion!!!(16 times left)\n",
      "Fusion!!!(15 times left)\n",
      "Fusion!!!(14 times left)\n",
      "Fusion!!!(13 times left)\n",
      "Fusion!!!(12 times left)\n",
      "Fusion!!!(11 times left)\n",
      "Fusion!!!(10 times left)\n",
      "Fusion!!!(9 times left)\n",
      "Fusion!!!(8 times left)\n",
      "Fusion!!!(7 times left)\n",
      "Fusion!!!(6 times left)\n",
      "Fusion!!!(5 times left)\n",
      "Fusion!!!(4 times left)\n",
      "Fusion!!!(3 times left)\n",
      "Fusion!!!(2 times left)\n",
      "Fusion!!!(1 times left)\n",
      "Fusion!!!(0 times left)\n",
      "Curse is completed!\n"
     ]
    }
   ],
   "source": [
    "times = int(input(\"How many times you want to curse the beast? \"))\n",
    "\n",
    "def recurse_beast(a):\n",
    "    if a == 0:\n",
    "        print(\"Curse is completed!\")\n",
    "    else:\n",
    "        print(\"Fusion!!!(%d times left)\" % (a-1))\n",
    "        recurse_beast(a-1)\n",
    "        # recursive 함수에서는 자기자신을 리턴에서 불러 함수를 계속한다. \n",
    "        # pythonic한 특징이라 할 수 있음.\n",
    "            \n",
    "recurse_beast(times)"
   ]
  },
  {
   "cell_type": "code",
   "execution_count": 39,
   "metadata": {
    "collapsed": false
   },
   "outputs": [
    {
     "name": "stdout",
     "output_type": "stream",
     "text": [
      "[2, 4, 6, 8, 10]\n"
     ]
    }
   ],
   "source": [
    "# 리스트를 사용하여 새로운 리스트를 생성하거나 sorting을 하고 싶을 때.\n",
    "# 리스트 내에서 연산할 수 있다. \n",
    "old_list = [1, 2, 3, 4, 5]\n",
    "\n",
    "doubled_list = [i * 2 for i in old_list]\n",
    "print(doubled_list)"
   ]
  },
  {
   "cell_type": "code",
   "execution_count": 41,
   "metadata": {
    "collapsed": false
   },
   "outputs": [
    {
     "name": "stdout",
     "output_type": "stream",
     "text": [
      "[2, 4, 6, 8, 10]\n"
     ]
    }
   ],
   "source": [
    "old_list = [1, 2, 3, 4, 5]\n",
    "\n",
    "doubled_list = []\n",
    "for i in old_list:\n",
    "    doubled_list.append(i * 2)\n",
    "    \n",
    "print(doubled_list)"
   ]
  },
  {
   "cell_type": "code",
   "execution_count": 43,
   "metadata": {
    "collapsed": false
   },
   "outputs": [
    {
     "name": "stdout",
     "output_type": "stream",
     "text": [
      "[4, 8]\n"
     ]
    }
   ],
   "source": [
    "# list comprehension - 조건이 있을 때\n",
    "old_list = [1, 2, 3, 4, 5,]\n",
    "\n",
    "doubled_list = []\n",
    "for i in old_list: \n",
    "    if i % 2 == 0:\n",
    "        doubled_list.append(i * 2)\n",
    "    \n",
    "print(doubled_list)"
   ]
  },
  {
   "cell_type": "code",
   "execution_count": 46,
   "metadata": {
    "collapsed": false
   },
   "outputs": [
    {
     "name": "stdout",
     "output_type": "stream",
     "text": [
      "[4, 8]\n"
     ]
    }
   ],
   "source": [
    "# 리스트 내에서 바로 연산. \n",
    "doubled_list = [i * 2 for i in old_list if i % 2 == 0]\n",
    "print(doubled_list)"
   ]
  },
  {
   "cell_type": "code",
   "execution_count": 47,
   "metadata": {
    "collapsed": false
   },
   "outputs": [
    {
     "ename": "NameError",
     "evalue": "name 'filename' is not defined",
     "output_type": "error",
     "traceback": [
      "\u001b[0;31m---------------------------------------------------------------------------\u001b[0m",
      "\u001b[0;31mNameError\u001b[0m                                 Traceback (most recent call last)",
      "\u001b[0;32m<ipython-input-47-a2b459e6b058>\u001b[0m in \u001b[0;36m<module>\u001b[0;34m()\u001b[0m\n\u001b[1;32m      2\u001b[0m \u001b[0;31m# 파일을 한번 열면 반드시 닫아야한다.\u001b[0m\u001b[0;34m\u001b[0m\u001b[0;34m\u001b[0m\u001b[0m\n\u001b[1;32m      3\u001b[0m \u001b[0;34m\u001b[0m\u001b[0m\n\u001b[0;32m----> 4\u001b[0;31m \u001b[0mf\u001b[0m \u001b[0;34m=\u001b[0m \u001b[0mopen\u001b[0m\u001b[0;34m(\u001b[0m\u001b[0mfilename\u001b[0m\u001b[0;34m,\u001b[0m \u001b[0mmode\u001b[0m\u001b[0;34m)\u001b[0m\u001b[0;34m\u001b[0m\u001b[0m\n\u001b[0m\u001b[1;32m      5\u001b[0m \u001b[0;31m# mode : r-읽기모드 / w-새로쓰기모드 / a-원래파일에 새로운내용추가\u001b[0m\u001b[0;34m\u001b[0m\u001b[0;34m\u001b[0m\u001b[0m\n",
      "\u001b[0;31mNameError\u001b[0m: name 'filename' is not defined"
     ]
    }
   ],
   "source": [
    "# 파일 입/출력 (IN/OUT)\n",
    "# 파일을 한번 열면 반드시 닫아야한다. \n",
    "\n",
    "f = open(filename, mode)\n",
    "# mode : r-읽기모드 / w-새로쓰기모드 / a-원래파일에 새로운내용추가"
   ]
  },
  {
   "cell_type": "code",
   "execution_count": 48,
   "metadata": {
    "collapsed": true
   },
   "outputs": [],
   "source": [
    "f = open(\"newfile.txt\", 'w')"
   ]
  },
  {
   "cell_type": "code",
   "execution_count": 49,
   "metadata": {
    "collapsed": true
   },
   "outputs": [],
   "source": [
    "f.close()"
   ]
  },
  {
   "cell_type": "code",
   "execution_count": 52,
   "metadata": {
    "collapsed": true
   },
   "outputs": [],
   "source": [
    "f = open(\"newfile.txt\", 'a')\n",
    "for i in range(1, 11):\n",
    "    txt = \"line %d. \\n\" % i\n",
    "    f.write(txt)\n",
    "f.close()"
   ]
  },
  {
   "cell_type": "code",
   "execution_count": 56,
   "metadata": {
    "collapsed": false
   },
   "outputs": [
    {
     "name": "stdout",
     "output_type": "stream",
     "text": [
      "line 1. \n",
      "\n"
     ]
    }
   ],
   "source": [
    "# 파일에서 1줄을 가져오고 싶을 때.\n",
    "f = open(\"newfile.txt\", 'r')\n",
    "txt = f.readline()\n",
    "print(txt)\n",
    "f.close()"
   ]
  },
  {
   "cell_type": "code",
   "execution_count": 61,
   "metadata": {
    "collapsed": false
   },
   "outputs": [
    {
     "name": "stdout",
     "output_type": "stream",
     "text": [
      "line 1. \n",
      "\n",
      "line 2. \n",
      "\n",
      "line 3. \n",
      "\n",
      "line 4. \n",
      "\n",
      "line 5. \n",
      "\n",
      "line 6. \n",
      "\n",
      "line 7. \n",
      "\n",
      "line 8. \n",
      "\n",
      "line 9. \n",
      "\n",
      "line 10. \n",
      "\n"
     ]
    }
   ],
   "source": [
    "# 파일에서 모든 줄을 가져오고 싶을 때. \n",
    "# 몇 줄이 있는지 모르므로 while 반복문을 쓴다. \n",
    "f = open(\"newfile.txt\", 'r')\n",
    "while True: \n",
    "    txt = f.readline()\n",
    "    if not txt: break\n",
    "    print(txt)\n",
    "f.close()"
   ]
  },
  {
   "cell_type": "code",
   "execution_count": 65,
   "metadata": {
    "collapsed": false
   },
   "outputs": [
    {
     "name": "stdout",
     "output_type": "stream",
     "text": [
      "['line 1. \\n', 'line 2. \\n', 'line 3. \\n', 'line 4. \\n', 'line 5. \\n', 'line 6. \\n', 'line 7. \\n', 'line 8. \\n', 'line 9. \\n', 'line 10. \\n']\n"
     ]
    }
   ],
   "source": [
    "# reading all text using readlines\n",
    "\n",
    "f = open(\"newfile.txt\", 'r')\n",
    "txts = f.readlines()\n",
    "#for txt in txts: 반복하게 된다. \n",
    "print(txts)\n",
    "f.close()"
   ]
  },
  {
   "cell_type": "code",
   "execution_count": 67,
   "metadata": {
    "collapsed": false
   },
   "outputs": [],
   "source": [
    "# 항상 내용 줄의 마지막에 추가하여 쓰고 싶은 경우 \n",
    "f = open(\"newfile.txt\", 'a')\n",
    "for i in range(11, 21):\n",
    "    txt = \"New Line %d \\n\" % i\n",
    "    f.write(txt)\n",
    "f.close()"
   ]
  },
  {
   "cell_type": "code",
   "execution_count": 68,
   "metadata": {
    "collapsed": false
   },
   "outputs": [
    {
     "name": "stdout",
     "output_type": "stream",
     "text": [
      "New Line 20 \n",
      "\n"
     ]
    }
   ],
   "source": [
    "print(txt)"
   ]
  },
  {
   "cell_type": "code",
   "execution_count": 69,
   "metadata": {
    "collapsed": true
   },
   "outputs": [],
   "source": [
    "# f.close() 항상 쓰고 싶지 않을 때 with문을 사용\n",
    "# 액션을 실행하고 자동으로 닫아줌(with)\n",
    "# with를 사용했을 때 파일명이 없다면 생성한다.\n",
    "\n",
    "with open(\"foo.txt\", 'w') as f:\n",
    "    f.write(\"foo is txt dummy\")\n",
    "    \n",
    "    \n",
    "# 파이썬 염소책\n",
    "# 장고 두스푼\n",
    "#think states - 통계학 + 파이선\n",
    "#밑바닥부터 배우는 딥러닝 - 물고기책\n",
    "#깐깐하게 배우는 파이썬 - 파이썬 자체 공부용(but)"
   ]
  },
  {
   "cell_type": "code",
   "execution_count": 70,
   "metadata": {
    "collapsed": false
   },
   "outputs": [
    {
     "ename": "SyntaxError",
     "evalue": "unexpected EOF while parsing (<ipython-input-70-3f11cd1fd0b3>, line 6)",
     "output_type": "error",
     "traceback": [
      "\u001b[0;36m  File \u001b[0;32m\"<ipython-input-70-3f11cd1fd0b3>\"\u001b[0;36m, line \u001b[0;32m6\u001b[0m\n\u001b[0;31m    \u001b[0m\n\u001b[0m    ^\u001b[0m\n\u001b[0;31mSyntaxError\u001b[0m\u001b[0;31m:\u001b[0m unexpected EOF while parsing\n"
     ]
    }
   ],
   "source": [
    "# error handle\n",
    "#테스트 주도 개발과 에러 핸들링이 중요. - 사용자가 할 수 있는 모든 가능성을 열어놓아야.\n",
    "\n",
    "try:  # 실행문을  \n",
    "    \n",
    "\n"
   ]
  },
  {
   "cell_type": "code",
   "execution_count": 79,
   "metadata": {
    "collapsed": false
   },
   "outputs": [
    {
     "name": "stdout",
     "output_type": "stream",
     "text": [
      "Type the number: ee\n",
      "I said TYPE THE NUMBER!\n",
      "invalid literal for int() with base 10: 'ee'\n"
     ]
    }
   ],
   "source": [
    "try:  \n",
    "    some_input = int(input(\"Type the number: \"))\n",
    "except ValueError as e:\n",
    "    print(\"I said TYPE THE NUMBER!\")\n",
    "    print(e)\n",
    "# e를 쓰면 사용자 에러가 어디서 났는지 볼 수 있다. 로그 분석할 때 사용."
   ]
  },
  {
   "cell_type": "code",
   "execution_count": 80,
   "metadata": {
    "collapsed": false
   },
   "outputs": [
    {
     "name": "stdout",
     "output_type": "stream",
     "text": [
      "[Errno 2] No such file or directory: 'error_example.txt'\n"
     ]
    }
   ],
   "source": [
    "try: \n",
    "    f = open('error_example.txt', 'r')\n",
    "except FileNotFoundError as e:\n",
    "    print(e)\n",
    "else:\n",
    "    text = f.read()\n",
    "    f.close()\n",
    "\n",
    "# 파일이 발견되지 않을 경우 에러메세지를 보낸다. "
   ]
  },
  {
   "cell_type": "code",
   "execution_count": 81,
   "metadata": {
    "collapsed": true
   },
   "outputs": [],
   "source": [
    "try:\n",
    "    f = open('error_example.txt', 'r')\n",
    "except FileNotFoundError as e:\n",
    "    pass   # 에러가 있어도 패스할 수 있다.pass하면 else 실행하지 않고 통과해버린다.\n",
    "except ValueError as g:\n",
    "    pass   # 중복으로 사용 가능. \n",
    "else:\n",
    "    text = f.read()\n",
    "    f.close()\n",
    "\n",
    "# try의 조건을 해보고 조건을 만족하지 않으면\n",
    "# (except)의 조건을 수행하라 그리고, else의 조건을 수행하라."
   ]
  },
  {
   "cell_type": "code",
   "execution_count": 85,
   "metadata": {
    "collapsed": false
   },
   "outputs": [
    {
     "name": "stdout",
     "output_type": "stream",
     "text": [
      "hoho\n"
     ]
    }
   ],
   "source": [
    "try:\n",
    "    f = open(\"error_example2.txt\", 'r')\n",
    "except FileNotFoundError as e:\n",
    "    pass   # else는 패스한다. \n",
    "else: \n",
    "    print(\"haha\")\n",
    "print(\"hoho\")"
   ]
  },
  {
   "cell_type": "code",
   "execution_count": 91,
   "metadata": {
    "collapsed": false
   },
   "outputs": [
    {
     "name": "stdout",
     "output_type": "stream",
     "text": [
      "5\n"
     ]
    }
   ],
   "source": [
    "def solveMeFirst(a,b):\n",
    "    a = int(input(\"Type the number: \"))\n",
    "    b = int(input(\"Type the number: \"))\n",
    "    return a + b\n",
    "print(solveMeFirst(2,3))"
   ]
  },
  {
   "cell_type": "code",
   "execution_count": 92,
   "metadata": {
    "collapsed": false
   },
   "outputs": [
    {
     "ename": "TypeError",
     "evalue": "'str' object does not support item assignment",
     "output_type": "error",
     "traceback": [
      "\u001b[0;31m---------------------------------------------------------------------------\u001b[0m",
      "\u001b[0;31mTypeError\u001b[0m                                 Traceback (most recent call last)",
      "\u001b[0;32m<ipython-input-92-7423a06af0ff>\u001b[0m in \u001b[0;36m<module>\u001b[0;34m()\u001b[0m\n\u001b[1;32m      1\u001b[0m \u001b[0msome_string\u001b[0m \u001b[0;34m=\u001b[0m \u001b[0;34m\"python\"\u001b[0m\u001b[0;34m\u001b[0m\u001b[0m\n\u001b[0;32m----> 2\u001b[0;31m \u001b[0msome_string\u001b[0m\u001b[0;34m[\u001b[0m\u001b[0;34m:\u001b[0m\u001b[0;34m:\u001b[0m\u001b[0;34m]\u001b[0m \u001b[0;34m=\u001b[0m \u001b[0msome_string\u001b[0m\u001b[0;34m[\u001b[0m\u001b[0;36m0\u001b[0m\u001b[0;34m:\u001b[0m\u001b[0mlen\u001b[0m\u001b[0;34m(\u001b[0m\u001b[0msome_string\u001b[0m\u001b[0;34m)\u001b[0m\u001b[0;34m:\u001b[0m\u001b[0;36m1\u001b[0m\u001b[0;34m]\u001b[0m\u001b[0;34m\u001b[0m\u001b[0m\n\u001b[0m",
      "\u001b[0;31mTypeError\u001b[0m: 'str' object does not support item assignment"
     ]
    }
   ],
   "source": [
    "some_string = \"python\"\n",
    "some_string[::] = some_string[0:len(some_string):1]"
   ]
  },
  {
   "cell_type": "code",
   "execution_count": 93,
   "metadata": {
    "collapsed": false
   },
   "outputs": [
    {
     "name": "stdout",
     "output_type": "stream",
     "text": [
      "1 1\n"
     ]
    }
   ],
   "source": [
    "x = 1\n",
    "y = 2\n",
    "\n",
    "temp = x\n",
    "y = x\n",
    "y = temp\n",
    "(x, y) = (y, x)\n",
    "print(x, y)"
   ]
  },
  {
   "cell_type": "code",
   "execution_count": 95,
   "metadata": {
    "collapsed": false
   },
   "outputs": [
    {
     "data": {
      "text/plain": [
       "int"
      ]
     },
     "execution_count": 95,
     "metadata": {},
     "output_type": "execute_result"
    }
   ],
   "source": [
    "type(x)"
   ]
  },
  {
   "cell_type": "code",
   "execution_count": 96,
   "metadata": {
    "collapsed": false
   },
   "outputs": [
    {
     "data": {
      "text/plain": [
       "int"
      ]
     },
     "execution_count": 96,
     "metadata": {},
     "output_type": "execute_result"
    }
   ],
   "source": [
    "type(y)"
   ]
  },
  {
   "cell_type": "code",
   "execution_count": 97,
   "metadata": {
    "collapsed": false
   },
   "outputs": [
    {
     "name": "stdout",
     "output_type": "stream",
     "text": [
      "(1,) (1,)\n"
     ]
    }
   ],
   "source": [
    "x = 1,\n",
    "y = 2, \n",
    "\n",
    "temp = x\n",
    "y = x\n",
    "y = temp\n",
    "(x, y) = (y, x)\n",
    "print(x, y)"
   ]
  },
  {
   "cell_type": "code",
   "execution_count": 98,
   "metadata": {
    "collapsed": false
   },
   "outputs": [
    {
     "data": {
      "text/plain": [
       "tuple"
      ]
     },
     "execution_count": 98,
     "metadata": {},
     "output_type": "execute_result"
    }
   ],
   "source": [
    "type(x)"
   ]
  },
  {
   "cell_type": "code",
   "execution_count": 99,
   "metadata": {
    "collapsed": false
   },
   "outputs": [
    {
     "data": {
      "text/plain": [
       "tuple"
      ]
     },
     "execution_count": 99,
     "metadata": {},
     "output_type": "execute_result"
    }
   ],
   "source": [
    "type(y)"
   ]
  },
  {
   "cell_type": "code",
   "execution_count": 100,
   "metadata": {
    "collapsed": false
   },
   "outputs": [
    {
     "data": {
      "text/plain": [
       "0"
      ]
     },
     "execution_count": 100,
     "metadata": {},
     "output_type": "execute_result"
    }
   ],
   "source": [
    "func = \"python is easy programming language\"\n",
    "func.find('p')"
   ]
  },
  {
   "cell_type": "code",
   "execution_count": 104,
   "metadata": {
    "collapsed": false
   },
   "outputs": [
    {
     "name": "stdout",
     "output_type": "stream",
     "text": [
      "Hi there, What's your name?hohhoho\n",
      "Hi, hohhoho Guess the number: 3555\n",
      "That's not what i wanted! The answer was  34\n"
     ]
    }
   ],
   "source": [
    "username = input(\"Hi there, What's your name?\")\n",
    "guess = eval(input(\"Hi, \" + username + \" Guess the number: \"))\n",
    "\n",
    "answer = 34\n",
    "if guess == answer:\n",
    "    print(\"Correct! The answer was\", str(answer))\n",
    "else:\n",
    "    print(\"That's not what i wanted! The answer was \", str(answer))"
   ]
  },
  {
   "cell_type": "code",
   "execution_count": null,
   "metadata": {
    "collapsed": true
   },
   "outputs": [],
   "source": []
  }
 ],
 "metadata": {
  "kernelspec": {
   "display_name": "Python 3",
   "language": "python",
   "name": "python3"
  },
  "language_info": {
   "codemirror_mode": {
    "name": "ipython",
    "version": 3
   },
   "file_extension": ".py",
   "mimetype": "text/x-python",
   "name": "python",
   "nbconvert_exporter": "python",
   "pygments_lexer": "ipython3",
   "version": "3.6.0"
  }
 },
 "nbformat": 4,
 "nbformat_minor": 2
}
