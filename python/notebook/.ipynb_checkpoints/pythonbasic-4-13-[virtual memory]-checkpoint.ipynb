{
 "cells": [
  {
   "cell_type": "code",
   "execution_count": null,
   "metadata": {
    "collapsed": true
   },
   "outputs": [],
   "source": [
    "'''\n",
    "page \n",
    "가상주소공간에 할당된 4G를 4KB(4096byte)단위로 쪼개면 1백만 개의 page로 나누어진다. \n",
    "실제 가상메모리(ram, 물리메모리)도 4G를 4KB(4096byte)단위로 쪼개면 1백만 개의 page frame으로 나누어진다.\n",
    "\n",
    "가상메모리(=진짜 메모리) \n",
    "물리적인 ram + pagefile.sys(하드디스크의 페이징 파일)을 합친 것.\n",
    "페이징 파일은 윈도우에서 ram처럼 사용하는 하드디스크의 일정 영역.\n",
    "\n",
    "page table\n",
    "가상 주소공간에서 실제 사용되는 공간(page)의 데이터만 페이지 테이블(딕셔너리)에 바인딩해놓고, 이를 실제 램(page frame)에 올려 쓴다. \n",
    "\n",
    "'''"
   ]
  }
 ],
 "metadata": {
  "kernelspec": {
   "display_name": "Python 3",
   "language": "python",
   "name": "python3"
  },
  "language_info": {
   "codemirror_mode": {
    "name": "ipython",
    "version": 3
   },
   "file_extension": ".py",
   "mimetype": "text/x-python",
   "name": "python",
   "nbconvert_exporter": "python",
   "pygments_lexer": "ipython3",
   "version": "3.6.0"
  }
 },
 "nbformat": 4,
 "nbformat_minor": 2
}
