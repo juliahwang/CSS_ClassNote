{
 "cells": [
  {
   "cell_type": "code",
   "execution_count": 1,
   "metadata": {
    "collapsed": false,
    "deletable": true,
    "editable": true
   },
   "outputs": [
    {
     "name": "stdout",
     "output_type": "stream",
     "text": [
      "6\n"
     ]
    }
   ],
   "source": [
    "a = 3\n",
    "def example(_a):\n",
    "    return _a * 2 \n",
    "    \n",
    "print(example(a))"
   ]
  },
  {
   "cell_type": "code",
   "execution_count": 3,
   "metadata": {
    "collapsed": false,
    "deletable": true,
    "editable": true
   },
   "outputs": [
    {
     "name": "stdout",
     "output_type": "stream",
     "text": [
      "a = b\n",
      "None\n"
     ]
    }
   ],
   "source": [
    "def print_(a):\n",
    "    print(\"a = b\")\n",
    "    \n",
    "print(print_(a))"
   ]
  },
  {
   "cell_type": "code",
   "execution_count": 4,
   "metadata": {
    "collapsed": false,
    "deletable": true,
    "editable": true
   },
   "outputs": [
    {
     "name": "stdout",
     "output_type": "stream",
     "text": [
      "Type the first number: 12\n",
      "Type the second number: 7\n"
     ]
    }
   ],
   "source": [
    "# Ethiopian Multification"
   ]
  },
  {
   "cell_type": "code",
   "execution_count": 12,
   "metadata": {
    "collapsed": false,
    "deletable": true,
    "editable": true
   },
   "outputs": [
    {
     "name": "stdout",
     "output_type": "stream",
     "text": [
      "Type the number: 12\n",
      "Type another number: 7\n",
      "12 7\n",
      "  12       7 struck\n",
      "   6      14 struck\n",
      "   3      28 keep\n",
      "   1      56 keep\n",
      "The result is 84\n"
     ]
    }
   ],
   "source": [
    "# Define process\n",
    "def half(x):\n",
    "    return x // 2\n",
    "\n",
    "def multiply(x):\n",
    "    return x * 2\n",
    "\n",
    "def even(x):\n",
    "    return not x % 2\n",
    "    # x를 2로 나눈 나머지가 0이면 값을 내지 않는다.\n",
    "\n",
    "\n",
    "# User input\n",
    "fir = eval(input(\"Type the number: \"))\n",
    "sec = eval(input(\"Type another number: \"))\n",
    "print(fir, sec)\n",
    "\n",
    "# Main process\n",
    "def ethi_mul(fir, sec):\n",
    "    result = 0\n",
    "    # 첫번째 수가 0이 될 때까지 반복 진행\n",
    "    while fir >= 1:\n",
    "        # 짝수일 때\n",
    "        if even(fir):     # if even(fir) is true\n",
    "            print(\"%4d %7d struck\" % (fir, sec))\n",
    "        # 홀수일 때    \n",
    "        else:\n",
    "            print(\"%4d %7d keep\" % (fir, sec))\n",
    "            result += sec\n",
    "            \n",
    "        fir = half(fir)\n",
    "        sec = multiply(sec)\n",
    "\n",
    "    print(\"The result is %d\" % result)\n",
    "    \n",
    "    \n",
    "ethi_mul(int(fir), int(sec))"
   ]
  },
  {
   "cell_type": "code",
   "execution_count": 7,
   "metadata": {
    "collapsed": false,
    "deletable": true,
    "editable": true
   },
   "outputs": [
    {
     "name": "stdout",
     "output_type": "stream",
     "text": [
      "Type two number with Space: 13 13\n"
     ]
    }
   ],
   "source": [
    "numberset = str(input(\"Type two number with Space: \")).split"
   ]
  },
  {
   "cell_type": "code",
   "execution_count": 15,
   "metadata": {
    "collapsed": false,
    "deletable": true,
    "editable": true
   },
   "outputs": [
    {
     "name": "stdout",
     "output_type": "stream",
     "text": [
      "Type first number: 12\n",
      "Type second number: 7\n",
      "12 7\n",
      "  12       7  struck\n",
      "   6      14  struck\n",
      "   3      28  keep\n",
      "   1      56  keep\n",
      "The result is 84\n",
      "None\n"
     ]
    }
   ],
   "source": [
    "# Ethiopian Multification\n",
    "'''\n",
    "2개의 수를 입력받아 첫 수를 2로 나눈 값이 홀수일 경우\n",
    "두번째 수에 2를 곱하여 모두 더한 결과값을 산출하라.\n",
    "'''\n",
    "\n",
    "# (1) Define process\n",
    "def devide(x):\n",
    "    return x // 2\n",
    "\n",
    "def multiply(x):\n",
    "    return x * 2\n",
    "\n",
    "def even(x):\n",
    "    return not x % 2\n",
    "    # x가 홀수인지 짝수인지 구분하는 함수\n",
    "    # 2로 나눈 나머지의 반대값이 나온다.\n",
    "    # if x % 2 is false, then True, else False\n",
    "    \n",
    "# (2) User input\n",
    "fir = eval(input(\"Type first number: \"))\n",
    "sec = eval(input(\"Type second number: \"))\n",
    "print(fir, sec)\n",
    "\n",
    "\n",
    "# (3) Main process\n",
    "def ethiopian(fir, sec):\n",
    "    result = 0\n",
    "    while fir >= 1:\n",
    "        if even(fir):   # 2로 나눠서 1이 나올 경우의 반대가 true이다.\n",
    "            print(\"%4d %7d  struck\" % (fir, sec))\n",
    "        else:\n",
    "            print(\"%4d %7d  keep\" % (fir, sec))\n",
    "            result += sec\n",
    "        \n",
    "        fir = devide(fir)\n",
    "        sec = multiply(sec)\n",
    "\n",
    "    print(\"The result is %d\" % result)\n",
    "    \n",
    "    \n",
    "# (4) Print\n",
    "print(ethiopian(fir, sec))"
   ]
  },
  {
   "cell_type": "code",
   "execution_count": 16,
   "metadata": {
    "collapsed": false,
    "deletable": true,
    "editable": true
   },
   "outputs": [
    {
     "name": "stdout",
     "output_type": "stream",
     "text": [
      "Type number1 : 12\n",
      "Type number2 : 7\n",
      "84\n"
     ]
    }
   ],
   "source": [
    "num1 = int(input(\"Type number1 : \"))\n",
    "num2 = int(input(\"Type number2 : \"))\n",
    "\n",
    "result = 0\n",
    "\n",
    "while True: \n",
    "    if num1 % 2 == 1:\n",
    "        result += num2\n",
    "    num1 = num1 // 2\n",
    "    num2 = num2 * 2\n",
    "    \n",
    "    if num1 == 0:\n",
    "        print(result)\n",
    "        break"
   ]
  },
  {
   "cell_type": "code",
   "execution_count": 3,
   "metadata": {
    "collapsed": false,
    "deletable": true,
    "editable": true
   },
   "outputs": [
    {
     "name": "stdout",
     "output_type": "stream",
     "text": [
      "How many times you wanna curse the beast? 12\n",
      "Fusion!(12 times left)\n",
      "Fusion!(11 times left)\n",
      "Fusion!(10 times left)\n",
      "Fusion!(9 times left)\n",
      "Fusion!(8 times left)\n",
      "Fusion!(7 times left)\n",
      "Fusion!(6 times left)\n",
      "Fusion!(5 times left)\n",
      "Fusion!(4 times left)\n",
      "Fusion!(3 times left)\n",
      "Fusion!(2 times left)\n",
      "Fusion!(1 times left)\n",
      "curse complete!\n"
     ]
    }
   ],
   "source": [
    "# recursive 함수\n",
    "times = int(input(\"How many times you wanna curse the beast? \"))\n",
    "\n",
    "def recurse_beast(a):\n",
    "        if a == 0:\n",
    "            print(\"curse complete!\")\n",
    "        else:\n",
    "            print(\"Fusion!(%d times left)\" % a)\n",
    "            recurse_beast(a-1)\n",
    "recurse_beast(times)"
   ]
  },
  {
   "cell_type": "code",
   "execution_count": 4,
   "metadata": {
    "collapsed": false,
    "deletable": true,
    "editable": true
   },
   "outputs": [
    {
     "name": "stdout",
     "output_type": "stream",
     "text": [
      "[2, 4, 6, 8, 10]\n"
     ]
    }
   ],
   "source": [
    "# List comprehension\n",
    "# 리스트 요소에 2를 곱하여 새로운 리스트 생성하기\n",
    "\n",
    "# 예전 방식\n",
    "old_list = [1, 2, 3, 4, 5,]\n",
    "doubled_list = []\n",
    "for i in old_list:\n",
    "    doubled_list.append(i * 2)\n",
    "print(doubled_list)"
   ]
  },
  {
   "cell_type": "code",
   "execution_count": 6,
   "metadata": {
    "collapsed": false,
    "deletable": true,
    "editable": true
   },
   "outputs": [
    {
     "name": "stdout",
     "output_type": "stream",
     "text": [
      "[2, 4, 6, 8, 10]\n"
     ]
    }
   ],
   "source": [
    "doubled_listcomp = [i * 2 for i in old_list]\n",
    "print(doubled_listcomp)"
   ]
  },
  {
   "cell_type": "code",
   "execution_count": 9,
   "metadata": {
    "collapsed": false,
    "deletable": true,
    "editable": true
   },
   "outputs": [
    {
     "name": "stdout",
     "output_type": "stream",
     "text": [
      "[4, 8]\n"
     ]
    }
   ],
   "source": [
    "# 조건이 있을 경우\n",
    "old_list2 = [1, 2, 3, 4, 5]\n",
    "\n",
    "doubled_list2 = []\n",
    "for i in old_list2:\n",
    "    if i % 2 == 0:\n",
    "        doubled_list2.append(i * 2)\n",
    "print(doubled_list2)"
   ]
  },
  {
   "cell_type": "code",
   "execution_count": 12,
   "metadata": {
    "collapsed": false,
    "deletable": true,
    "editable": true
   },
   "outputs": [
    {
     "name": "stdout",
     "output_type": "stream",
     "text": [
      "[4, 8]\n"
     ]
    }
   ],
   "source": [
    "doubled_list2 = [i * 2 for i in old_list2 if i % 2 == 0]\n",
    "print(doubled_list2)"
   ]
  },
  {
   "cell_type": "code",
   "execution_count": 15,
   "metadata": {
    "collapsed": false
   },
   "outputs": [],
   "source": [
    "# 파일 열고 닫기\n",
    "\n",
    "f = open(\"Newfile.txt\", \"w\")\n",
    "f.close()"
   ]
  },
  {
   "cell_type": "code",
   "execution_count": 21,
   "metadata": {
    "collapsed": true
   },
   "outputs": [],
   "source": [
    "# 만든 파일에 텍스트 추가\n",
    "\n",
    "f = open(\"Newfile.txt\", 'a')\n",
    "for i in range(1, 11):\n",
    "    text = \"line %d. \\n\" % i\n",
    "    f.write(text)\n",
    "f.close()"
   ]
  },
  {
   "cell_type": "code",
   "execution_count": 22,
   "metadata": {
    "collapsed": false
   },
   "outputs": [
    {
     "name": "stdout",
     "output_type": "stream",
     "text": [
      "line 1. \n",
      "\n"
     ]
    }
   ],
   "source": [
    "# 텍스트 읽기\n",
    "\n",
    "f = open(\"Newfile.txt\", 'r')\n",
    "text = f.readline()\n",
    "print(text)\n",
    "f.close()"
   ]
  },
  {
   "cell_type": "code",
   "execution_count": 23,
   "metadata": {
    "collapsed": false
   },
   "outputs": [
    {
     "name": "stdout",
     "output_type": "stream",
     "text": [
      "line 1. \n",
      "\n",
      "line 2. \n",
      "\n",
      "line 3. \n",
      "\n",
      "line 4. \n",
      "\n",
      "line 5. \n",
      "\n",
      "line 6. \n",
      "\n",
      "line 7. \n",
      "\n",
      "line 8. \n",
      "\n",
      "line 9. \n",
      "\n",
      "line 10. \n",
      "\n"
     ]
    }
   ],
   "source": [
    "# 반복문으로 파일 내용 모두 불러오기\n",
    "\n",
    "f = open(\"Newfile.txt\", 'r')\n",
    "while True:\n",
    "    text = f.readline()\n",
    "    if not text:\n",
    "        break\n",
    "    print(text)\n",
    "f.close()    "
   ]
  },
  {
   "cell_type": "code",
   "execution_count": 24,
   "metadata": {
    "collapsed": false
   },
   "outputs": [
    {
     "name": "stdout",
     "output_type": "stream",
     "text": [
      "['line 1. \\n', 'line 2. \\n', 'line 3. \\n', 'line 4. \\n', 'line 5. \\n', 'line 6. \\n', 'line 7. \\n', 'line 8. \\n', 'line 9. \\n', 'line 10. \\n']\n"
     ]
    }
   ],
   "source": [
    "f = open(\"Newfile.txt\", 'r')\n",
    "text = f.readlines()\n",
    "print(text)"
   ]
  },
  {
   "cell_type": "code",
   "execution_count": 27,
   "metadata": {
    "collapsed": false
   },
   "outputs": [
    {
     "name": "stdout",
     "output_type": "stream",
     "text": [
      "line 1. \n",
      "\n",
      "line 2. \n",
      "\n",
      "line 3. \n",
      "\n",
      "line 4. \n",
      "\n",
      "line 5. \n",
      "\n",
      "line 6. \n",
      "\n",
      "line 7. \n",
      "\n",
      "line 8. \n",
      "\n",
      "line 9. \n",
      "\n",
      "line 10. \n",
      "\n"
     ]
    }
   ],
   "source": [
    "f = open(\"Newfile.txt\", 'r')\n",
    "texts = f.readlines()\n",
    "for text in texts:\n",
    "    print(text)    "
   ]
  },
  {
   "cell_type": "code",
   "execution_count": 29,
   "metadata": {
    "collapsed": false
   },
   "outputs": [
    {
     "name": "stdout",
     "output_type": "stream",
     "text": [
      "New lines. 11 \n",
      "\n",
      "New lines. 12 \n",
      "\n",
      "New lines. 13 \n",
      "\n",
      "New lines. 14 \n",
      "\n",
      "New lines. 15 \n",
      "\n",
      "New lines. 16 \n",
      "\n",
      "New lines. 17 \n",
      "\n",
      "New lines. 18 \n",
      "\n",
      "New lines. 19 \n",
      "\n",
      "New lines. 20 \n",
      "\n"
     ]
    }
   ],
   "source": [
    "f = open(\"Newfile.txt\", 'a')\n",
    "for i in range(11, 21):\n",
    "    text = \"New lines. %d \\n\" % i\n",
    "    print(text)\n",
    "f.close()"
   ]
  },
  {
   "cell_type": "code",
   "execution_count": 30,
   "metadata": {
    "collapsed": true
   },
   "outputs": [],
   "source": [
    "with open(\"foo2.txt\", 'w') as f:\n",
    "    f.write(\"foo is text dummy\")"
   ]
  },
  {
   "cell_type": "code",
   "execution_count": 33,
   "metadata": {
    "collapsed": false
   },
   "outputs": [
    {
     "name": "stdout",
     "output_type": "stream",
     "text": [
      "type number: d\n",
      "r u idiot? type the num\n"
     ]
    }
   ],
   "source": [
    "# error handling\n",
    "\n",
    "try:\n",
    "    some_input = int(input(\"type number: \"))\n",
    "except ValueError:\n",
    "        print(\"r u idiot? type the num\")"
   ]
  },
  {
   "cell_type": "code",
   "execution_count": 41,
   "metadata": {
    "collapsed": false
   },
   "outputs": [
    {
     "name": "stdout",
     "output_type": "stream",
     "text": [
      "Type num: e\n",
      "invalid literal for int() with base 10: 'e'\n",
      "i said num!\n"
     ]
    }
   ],
   "source": [
    "# 에러 내용을 \n",
    "try: \n",
    "    some_string = int(input(\"Type num: \"))\n",
    "except ValueError as e:\n",
    "    print(e)\n",
    "    print(\"i said num!\")"
   ]
  },
  {
   "cell_type": "code",
   "execution_count": 37,
   "metadata": {
    "collapsed": false
   },
   "outputs": [
    {
     "name": "stdout",
     "output_type": "stream",
     "text": [
      "[Errno 2] No such file or directory: 'error.txt'\n"
     ]
    }
   ],
   "source": [
    "# 에러 내용(로그)를 출력하고 싶을 때는 except (에러종류) as e를 사용\n",
    "\n",
    "try:\n",
    "    f = open(\"error.txt\", 'r')\n",
    "except FileNotFoundError as e:\n",
    "    print(e)\n",
    "else: \n",
    "    text = f.read()\n",
    "    f.close()"
   ]
  },
  {
   "cell_type": "code",
   "execution_count": 38,
   "metadata": {
    "collapsed": false
   },
   "outputs": [
    {
     "name": "stdout",
     "output_type": "stream",
     "text": [
      "hoho\n"
     ]
    }
   ],
   "source": [
    "# pass error\n",
    "# 에러를 통과하고 넘어간다. \n",
    "\n",
    "try:\n",
    "    f = open(\"ganada.txt\", 'r')\n",
    "except FileNotFoundError as e:\n",
    "    pass\n",
    "else:\n",
    "    print(\"haha\")\n",
    "    f.close()\n",
    "print(\"hoho\")"
   ]
  },
  {
   "cell_type": "code",
   "execution_count": 42,
   "metadata": {
    "collapsed": false
   },
   "outputs": [
    {
     "name": "stdout",
     "output_type": "stream",
     "text": [
      "hoho\n"
     ]
    }
   ],
   "source": [
    "try:\n",
    "    f = open(\"ganada.txt\", 'r')\n",
    "except FileNotFoundError as e:\n",
    "    pass\n",
    "except NameError:\n",
    "    pass\n",
    "except ValueError:\n",
    "    pass\n",
    "else:\n",
    "    print(\"haha\")\n",
    "    f.close()\n",
    "print(\"hoho\")\n"
   ]
  },
  {
   "cell_type": "code",
   "execution_count": null,
   "metadata": {
    "collapsed": true
   },
   "outputs": [],
   "source": []
  }
 ],
 "metadata": {
  "kernelspec": {
   "display_name": "Python 3",
   "language": "python",
   "name": "python3"
  },
  "language_info": {
   "codemirror_mode": {
    "name": "ipython",
    "version": 3
   },
   "file_extension": ".py",
   "mimetype": "text/x-python",
   "name": "python",
   "nbconvert_exporter": "python",
   "pygments_lexer": "ipython3",
   "version": "3.6.0"
  }
 },
 "nbformat": 4,
 "nbformat_minor": 2
}
