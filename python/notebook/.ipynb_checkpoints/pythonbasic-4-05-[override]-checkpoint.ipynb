{
 "cells": [
  {
   "cell_type": "code",
   "execution_count": 1,
   "metadata": {
    "collapsed": true
   },
   "outputs": [],
   "source": [
    "# 심볼테이블 : 변수를 저장해놓은 공간."
   ]
  },
  {
   "cell_type": "code",
   "execution_count": 8,
   "metadata": {
    "collapsed": true
   },
   "outputs": [],
   "source": [
    "# 클래스 멤버(정보) 변수는 모든 객체가 공유한다. \n",
    "class Point:\n",
    "    a = 10\n",
    "    def __init__(self, _x, _y):\n",
    "        self.x = _x\n",
    "        self.y = _y\n",
    "        \n",
    "    def showInfo(self):\n",
    "        print( \"({}, {})\".format(self.x, self.y))"
   ]
  },
  {
   "cell_type": "code",
   "execution_count": 9,
   "metadata": {
    "collapsed": false
   },
   "outputs": [
    {
     "name": "stdout",
     "output_type": "stream",
     "text": [
      "(1, 1)\n",
      "{'x': 1, 'y': 1}\n"
     ]
    }
   ],
   "source": [
    "p1 = Point(1, 1)\n",
    "p1.showInfo()\n",
    "print(p1.__dict__)\n",
    "\n",
    "# 심볼테이블에 저장된 데이터는 딕셔너리 형태로 저장된다. \n",
    "# p1.__dict__는 p1의 딕셔너리 요소를 보여주는 것"
   ]
  },
  {
   "cell_type": "code",
   "execution_count": 10,
   "metadata": {
    "collapsed": false
   },
   "outputs": [
    {
     "name": "stdout",
     "output_type": "stream",
     "text": [
      "{'x': 1, 'y': 1, 'a': 5}\n"
     ]
    }
   ],
   "source": [
    "p1.a = 5\n",
    "print(p1.__dict__)\n",
    "\n",
    "# 저장공간(심볼테이블) 안에 변수가 하나 더 추가되었다. \n",
    "# 이 방법은 사용하지 않는 것이 좋다."
   ]
  },
  {
   "cell_type": "code",
   "execution_count": 11,
   "metadata": {
    "collapsed": false
   },
   "outputs": [
    {
     "data": {
      "text/plain": [
       "mappingproxy({'__dict__': <attribute '__dict__' of 'Point' objects>,\n",
       "              '__doc__': None,\n",
       "              '__init__': <function __main__.Point.__init__>,\n",
       "              '__module__': '__main__',\n",
       "              '__weakref__': <attribute '__weakref__' of 'Point' objects>,\n",
       "              'a': 10,\n",
       "              'b': 5,\n",
       "              'showInfo': <function __main__.Point.showInfo>})"
      ]
     },
     "execution_count": 11,
     "metadata": {},
     "output_type": "execute_result"
    }
   ],
   "source": [
    "# class 내에 a = 10이라는 값을 주면 a = 10은 class가 가지는 변수이다. \n",
    "# 인스턴스 객체 뿐만 아니라 class도 객체이므로 심볼테이블 적용이 가능하다. \n",
    "\n",
    "Point.b = 5\n",
    "# class는 한번 생성하면 이후에 건드리면 안된다. \n",
    "Point.__dict__"
   ]
  },
  {
   "cell_type": "code",
   "execution_count": 13,
   "metadata": {
    "collapsed": false
   },
   "outputs": [
    {
     "data": {
      "text/plain": [
       "{'a': 5, 'x': 1, 'y': 1}"
      ]
     },
     "execution_count": 13,
     "metadata": {},
     "output_type": "execute_result"
    }
   ],
   "source": [
    "p1.__dict__\n",
    "# 스코프의 개념에 따라 a = 10은 class안에 있지만 함수 __init__ 밖에 있으므로\n",
    "# p1의 안에 들어있지 않다. "
   ]
  },
  {
   "cell_type": "code",
   "execution_count": 17,
   "metadata": {
    "collapsed": false
   },
   "outputs": [],
   "source": [
    "# override\n",
    "a = 10\n",
    "\n",
    "def func1():\n",
    "    b = 5 \n",
    "    c = 3\n",
    "    def func2():\n",
    "        a = 100\n",
    "        b = 50\n",
    "        c = 3\n",
    "        print(a, b, c)\n",
    "    func2()\n"
   ]
  },
  {
   "cell_type": "code",
   "execution_count": 18,
   "metadata": {
    "collapsed": false
   },
   "outputs": [
    {
     "name": "stdout",
     "output_type": "stream",
     "text": [
      "100 50 3\n",
      "None\n"
     ]
    }
   ],
   "source": [
    "print(func1())\n",
    "# 마지막으로 연산된 값은 func2()이므로"
   ]
  },
  {
   "cell_type": "code",
   "execution_count": null,
   "metadata": {
    "collapsed": false
   },
   "outputs": [],
   "source": [
    "# 클래스 멤버를 참조 : 인스턴스를 통해서도 가능\n",
    "# 클래스 멤버를 수정(변경) : 클래스로 통해서만 가능. \n",
    "# 파이썬에서만 가능한 문법임."
   ]
  },
  {
   "cell_type": "code",
   "execution_count": 34,
   "metadata": {
    "collapsed": false
   },
   "outputs": [],
   "source": [
    "class Base: \n",
    "    a = 10\n",
    "    def __init__(self, x):\n",
    "        self.x = x"
   ]
  },
  {
   "cell_type": "code",
   "execution_count": 35,
   "metadata": {
    "collapsed": false
   },
   "outputs": [
    {
     "data": {
      "text/plain": [
       "{'x': 1}"
      ]
     },
     "execution_count": 35,
     "metadata": {},
     "output_type": "execute_result"
    }
   ],
   "source": [
    "b1 = Base(1)\n",
    "b2 = Base(2)\n",
    "b1.__dict__"
   ]
  },
  {
   "cell_type": "code",
   "execution_count": 36,
   "metadata": {
    "collapsed": false
   },
   "outputs": [
    {
     "data": {
      "text/plain": [
       "10"
      ]
     },
     "execution_count": 36,
     "metadata": {},
     "output_type": "execute_result"
    }
   ],
   "source": [
    "b1.a"
   ]
  },
  {
   "cell_type": "code",
   "execution_count": 38,
   "metadata": {
    "collapsed": true
   },
   "outputs": [],
   "source": [
    "b1.a = 20"
   ]
  },
  {
   "cell_type": "code",
   "execution_count": 41,
   "metadata": {
    "collapsed": false
   },
   "outputs": [
    {
     "data": {
      "text/plain": [
       "20"
      ]
     },
     "execution_count": 41,
     "metadata": {},
     "output_type": "execute_result"
    }
   ],
   "source": [
    "b1.a"
   ]
  },
  {
   "cell_type": "code",
   "execution_count": 39,
   "metadata": {
    "collapsed": true
   },
   "outputs": [],
   "source": [
    "b2 = Base(2)"
   ]
  },
  {
   "cell_type": "code",
   "execution_count": 40,
   "metadata": {
    "collapsed": false
   },
   "outputs": [
    {
     "data": {
      "text/plain": [
       "10"
      ]
     },
     "execution_count": 40,
     "metadata": {},
     "output_type": "execute_result"
    }
   ],
   "source": [
    "b2.a"
   ]
  },
  {
   "cell_type": "code",
   "execution_count": 42,
   "metadata": {
    "collapsed": false
   },
   "outputs": [
    {
     "data": {
      "text/plain": [
       "20"
      ]
     },
     "execution_count": 42,
     "metadata": {},
     "output_type": "execute_result"
    }
   ],
   "source": [
    "b1.a"
   ]
  },
  {
   "cell_type": "code",
   "execution_count": null,
   "metadata": {
    "collapsed": true
   },
   "outputs": [],
   "source": []
  }
 ],
 "metadata": {
  "kernelspec": {
   "display_name": "Python 3",
   "language": "python",
   "name": "python3"
  },
  "language_info": {
   "codemirror_mode": {
    "name": "ipython",
    "version": 3
   },
   "file_extension": ".py",
   "mimetype": "text/x-python",
   "name": "python",
   "nbconvert_exporter": "python",
   "pygments_lexer": "ipython3",
   "version": "3.6.0"
  }
 },
 "nbformat": 4,
 "nbformat_minor": 2
}
