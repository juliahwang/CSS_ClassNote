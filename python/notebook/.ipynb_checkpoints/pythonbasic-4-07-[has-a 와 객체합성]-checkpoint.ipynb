{
 "cells": [
  {
   "cell_type": "code",
   "execution_count": 15,
   "metadata": {
    "collapsed": true
   },
   "outputs": [],
   "source": [
    "'''\n",
    "\"has a\"\n",
    "A policeman has a gun\n",
    "class gun\n",
    "    ...\n",
    "    \n",
    "class police(gun)\n",
    "    ...\n",
    "\n",
    "has a(상속 아님) 에서 상속을 썼으나 요즘에는 객체합성이라는 방법으로 대체한다. \n",
    "gun이라는 부모클래스를 만들면 자식클래스가 받아 쓸수 있지 않을까? 라고 해서 만들어짐.\n",
    "그러나 요즘에는 쓰지 않는 방법이고 그 대신에 객체합성을 쓴다. \n",
    "'''\n",
    "\n",
    "\n",
    "class Gun:\n",
    "    def __init__(self, kind):\n",
    "        self.kind = kind\n",
    "        # 총 종류를 넣는 부분\n",
    "    \n",
    "    def bang(self):\n",
    "        print(\"BANG BANG\")\n",
    "        # 총을 쏘는 행동을 묘사\n",
    "    \n",
    "    def get_gun(self, gun_kind):\n",
    "        self.gun = Gun(gun_kind)\n",
    "\n",
    "        \n",
    "# 객체합성\n",
    "class Police:\n",
    "    def __init__(self, gun_kind = ''):\n",
    "        if gun_kind:\n",
    "            self.gun = Gun(gun_kind)\n",
    "        # 인스턴스의 멤버로 객체(gun_kind)를 가지고 있다는 뜻.  \n",
    "        else:\n",
    "            self.gun = None\n",
    "\n",
    "    def shoot(self):\n",
    "        if self.gun:\n",
    "            self.gun.bang()\n",
    "        else:\n",
    "            print(\"you dont have a gun\")"
   ]
  },
  {
   "cell_type": "code",
   "execution_count": 16,
   "metadata": {
    "collapsed": true
   },
   "outputs": [],
   "source": [
    "p1 = Police(\"revolver\")"
   ]
  },
  {
   "cell_type": "code",
   "execution_count": 17,
   "metadata": {
    "collapsed": false
   },
   "outputs": [
    {
     "name": "stdout",
     "output_type": "stream",
     "text": [
      "BANG BANG\n"
     ]
    }
   ],
   "source": [
    "p1.shoot()"
   ]
  },
  {
   "cell_type": "code",
   "execution_count": 18,
   "metadata": {
    "collapsed": true
   },
   "outputs": [],
   "source": [
    "p2 = Police()"
   ]
  },
  {
   "cell_type": "code",
   "execution_count": 19,
   "metadata": {
    "collapsed": false
   },
   "outputs": [
    {
     "name": "stdout",
     "output_type": "stream",
     "text": [
      "you dont have a gun\n"
     ]
    }
   ],
   "source": [
    "p2.shoot()"
   ]
  },
  {
   "cell_type": "code",
   "execution_count": 20,
   "metadata": {
    "collapsed": false
   },
   "outputs": [],
   "source": [
    "p2 = Police(\"기관총\")"
   ]
  },
  {
   "cell_type": "code",
   "execution_count": 21,
   "metadata": {
    "collapsed": false
   },
   "outputs": [
    {
     "name": "stdout",
     "output_type": "stream",
     "text": [
      "BANG BANG\n"
     ]
    }
   ],
   "source": [
    "p2.shoot()"
   ]
  },
  {
   "cell_type": "code",
   "execution_count": null,
   "metadata": {
    "collapsed": true
   },
   "outputs": [],
   "source": []
  }
 ],
 "metadata": {
  "kernelspec": {
   "display_name": "Python 3",
   "language": "python",
   "name": "python3"
  },
  "language_info": {
   "codemirror_mode": {
    "name": "ipython",
    "version": 3
   },
   "file_extension": ".py",
   "mimetype": "text/x-python",
   "name": "python",
   "nbconvert_exporter": "python",
   "pygments_lexer": "ipython3",
   "version": "3.6.0"
  }
 },
 "nbformat": 4,
 "nbformat_minor": 2
}
