{
 "cells": [
  {
   "cell_type": "code",
   "execution_count": 16,
   "metadata": {
    "collapsed": false
   },
   "outputs": [],
   "source": [
    "class Point:\n",
    "    def __init__(self, x, y):\n",
    "        self.x = x\n",
    "        self.y = y\n",
    "    \n",
    "    #연산자 오버로딩 - 연산자에 대한 기능을 클래스에 넣어주어 원하는 방식으로 연산가능하게 해줌\n",
    "    def __add__(self, n):\n",
    "        return Point(self.x + n, self.y + n)\n",
    "    \n",
    "    \n",
    "    def __radd__(self, n):\n",
    "        return Point(self.x + n, self.y + n)\n",
    "    # reverse + add 함수 - 연산의 순서를 바꾸어 더하는 연산자 오버로딩 정의해줌. \n",
    "    \n",
    "    def __sub__(self, n):\n",
    "        return Point(self.x - n, self.y - n)\n",
    "\n",
    "    def __rsub__(self, n):\n",
    "        return Point(n - self.x, n - self.y)\n",
    "    \n",
    "    def __repr__(self):\n",
    "    # represent함수, __str__과 비슷하지만 차이가 있다. \n",
    "        return \"({x}, {y})\".format(x = self.x, y = self.y)"
   ]
  },
  {
   "cell_type": "code",
   "execution_count": 17,
   "metadata": {
    "collapsed": false
   },
   "outputs": [
    {
     "data": {
      "text/plain": [
       "15"
      ]
     },
     "execution_count": 17,
     "metadata": {},
     "output_type": "execute_result"
    }
   ],
   "source": [
    "# 연산자 : +, -, *, /, //\n",
    "a = 5\n",
    "b = 10\n",
    "c = a + b\n",
    "c"
   ]
  },
  {
   "cell_type": "code",
   "execution_count": 18,
   "metadata": {
    "collapsed": false
   },
   "outputs": [],
   "source": [
    "p = Point(1, 1)\n",
    "p2 = p + 2\n",
    "# p2를 (3, 3)으로 만들려면 클래스에 연산자 오버로딩을 해줘야한다. \n"
   ]
  },
  {
   "cell_type": "code",
   "execution_count": 19,
   "metadata": {
    "collapsed": false
   },
   "outputs": [
    {
     "name": "stdout",
     "output_type": "stream",
     "text": [
      "(3, 3)\n"
     ]
    }
   ],
   "source": [
    "print(p2)"
   ]
  },
  {
   "cell_type": "code",
   "execution_count": 20,
   "metadata": {
    "collapsed": false
   },
   "outputs": [],
   "source": [
    "p3 = 3 + p\n",
    "# (4, 4)가 나오도록 하려면? __radd__()를 쓴다. "
   ]
  },
  {
   "cell_type": "code",
   "execution_count": 21,
   "metadata": {
    "collapsed": false
   },
   "outputs": [
    {
     "name": "stdout",
     "output_type": "stream",
     "text": [
      "(4, 4)\n"
     ]
    }
   ],
   "source": [
    "print(p3)"
   ]
  },
  {
   "cell_type": "code",
   "execution_count": 22,
   "metadata": {
    "collapsed": true
   },
   "outputs": [],
   "source": [
    "p5 = 5 - p3"
   ]
  },
  {
   "cell_type": "code",
   "execution_count": 23,
   "metadata": {
    "collapsed": false
   },
   "outputs": [
    {
     "name": "stdout",
     "output_type": "stream",
     "text": [
      "(1, 1)\n"
     ]
    }
   ],
   "source": [
    "print(p5)"
   ]
  },
  {
   "cell_type": "code",
   "execution_count": null,
   "metadata": {
    "collapsed": true
   },
   "outputs": [],
   "source": [
    "# 함수들은 그때그때 원하는 방식을 찾아서 사용한다. 모두 외울 필요는 없음. "
   ]
  }
 ],
 "metadata": {
  "kernelspec": {
   "display_name": "Python 3",
   "language": "python",
   "name": "python3"
  },
  "language_info": {
   "codemirror_mode": {
    "name": "ipython",
    "version": 3
   },
   "file_extension": ".py",
   "mimetype": "text/x-python",
   "name": "python",
   "nbconvert_exporter": "python",
   "pygments_lexer": "ipython3",
   "version": "3.6.0"
  }
 },
 "nbformat": 4,
 "nbformat_minor": 2
}
