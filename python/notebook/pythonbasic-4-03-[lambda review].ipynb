{
 "cells": [
  {
   "cell_type": "code",
   "execution_count": 1,
   "metadata": {
    "collapsed": false,
    "deletable": true,
    "editable": true
   },
   "outputs": [
    {
     "data": {
      "text/plain": [
       "[10, 10, 10, 10, 10]"
      ]
     },
     "execution_count": 1,
     "metadata": {},
     "output_type": "execute_result"
    }
   ],
   "source": [
    "# 가변인자(s, t, r, q)를 사용하여 다수의 리스트를 한번에 몰아서 처리할 수 있다.\n",
    "# .map함수 : 여러 리스트에 동시 적용 가능하다. 예제 찾아보기\n",
    "\n",
    "a = [1, 1, 1, 1, 1,]\n",
    "b = [2, 2, 2, 2, 2,]\n",
    "c = [3, 3, 3, 3, 3,]\n",
    "d = [4, 4, 4, 4, 4,]\n",
    "\n",
    "list(map(lambda s, t, r, q: s + t + r + q, a, b, c, d))"
   ]
  },
  {
   "cell_type": "code",
   "execution_count": 2,
   "metadata": {
    "collapsed": true,
    "deletable": true,
    "editable": true
   },
   "outputs": [],
   "source": [
    "from functools import reduce"
   ]
  },
  {
   "cell_type": "code",
   "execution_count": 3,
   "metadata": {
    "collapsed": false,
    "deletable": true,
    "editable": true
   },
   "outputs": [
    {
     "data": {
      "text/plain": [
       "'edcba'"
      ]
     },
     "execution_count": 3,
     "metadata": {},
     "output_type": "execute_result"
    }
   ],
   "source": [
    "reduce(lambda a, b: b + a, 'abcde')\n",
    "# 식을 반대로 쓰면 반대의 단어가 출력된다. "
   ]
  },
  {
   "cell_type": "code",
   "execution_count": 7,
   "metadata": {
    "collapsed": false,
    "deletable": true,
    "editable": true
   },
   "outputs": [
    {
     "data": {
      "text/plain": [
       "{'a': 3, 'b': 2}"
      ]
     },
     "execution_count": 7,
     "metadata": {},
     "output_type": "execute_result"
    }
   ],
   "source": [
    "data = ['a', 'b', 'a', 'b', 'a']\n",
    "reduce(lambda r, e:\n",
    "      r.update({e: r.get(e, 0) + 1}) or r, data, {})"
   ]
  },
  {
   "cell_type": "code",
   "execution_count": null,
   "metadata": {
    "collapsed": true,
    "deletable": true,
    "editable": true
   },
   "outputs": [],
   "source": [
    "# 정규분포\n",
    "# (1) f(x) >= 0 을 반드시 충족하여야 한다.\n",
    "# (2) 모든 확률(정규분포의 넓이)을 더했을 때 1이 나와야 한다. \n",
    "# (3) 표준편차는 편차를 제곱한 값이다.(다 더하면 0이 되므로)\n"
   ]
  }
 ],
 "metadata": {
  "kernelspec": {
   "display_name": "Python 3",
   "language": "python",
   "name": "python3"
  },
  "language_info": {
   "codemirror_mode": {
    "name": "ipython",
    "version": 3
   },
   "file_extension": ".py",
   "mimetype": "text/x-python",
   "name": "python",
   "nbconvert_exporter": "python",
   "pygments_lexer": "ipython3",
   "version": "3.6.0"
  }
 },
 "nbformat": 4,
 "nbformat_minor": 2
}
