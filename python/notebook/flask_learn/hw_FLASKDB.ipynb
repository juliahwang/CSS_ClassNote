{
 "cells": [
  {
   "cell_type": "code",
   "execution_count": 1,
   "metadata": {
    "collapsed": false
   },
   "outputs": [
    {
     "name": "stdout",
     "output_type": "stream",
     "text": [
      "(1, '박철민', 23, '컴공과', 821027593459)\n"
     ]
    }
   ],
   "source": [
    "# DB생성 \n",
    "import sqlite3 as lite\n",
    "\n",
    "# DB연결\n",
    "conn = lite.connect(\"dongari.db\")\n",
    "\n",
    "cur = conn.cursor()\n",
    "cur.execute(\"SELECT * FROM members\")\n",
    "rows = cur.fetchall()\n",
    "\n",
    "for row in rows:\n",
    "    print(row)\n",
    "\n",
    "conn.close()"
   ]
  },
  {
   "cell_type": "code",
   "execution_count": 4,
   "metadata": {
    "collapsed": false
   },
   "outputs": [
    {
     "name": "stdout",
     "output_type": "stream",
     "text": [
      "(1, '박철민', 23, '컴공과', 821027593459)\n",
      "(2, '이혜진', 23, '사회학과', 1029329344)\n",
      "(3, '박희진', 22, '국문학과', 1039894839)\n",
      "(4, '박민수', 25, '사회학과', 1090389232)\n",
      "(5, '최지혜', 24, '컴공과', 1078374234)\n",
      "(6, '김경진', 23, '컴공과', 1039402941)\n",
      "(7, '김기철', 23, '국문학과', 1090378872)\n",
      "(8, '오민식', 26, '컴공과', 1083984924)\n",
      "(9, '이민지', 24, '사회학과', 1032894328)\n",
      "(10, '민지현', 22, '국문학과', 1023940329)\n",
      "(11, '임원희', 25, '사회학과', 1029344435)\n",
      "(12, '곽민지', 22, '국문학과', 1090993758)\n",
      "(13, '최성원', 24, '컴공과', 1082763453)\n",
      "(14, '정은비', 25, '컴공과', 1063049530)\n",
      "(15, '이수원', 24, '국문학과', 1090908273)\n"
     ]
    }
   ],
   "source": [
    "conn = lite.connect(\"dongari.db\")\n",
    "\n",
    "cur = conn.cursor()\n",
    "\n",
    "cur.execute(\"INSERT INTO members (name, age, major, phone_number) \\\n",
    "VALUES('이혜진', 23, '사회학과', 01029329344)\")\n",
    "cur.execute(\"INSERT INTO members (name, age, major, phone_number) \\\n",
    "VALUES('박희진', 22, '국문학과', 01039894839)\")\n",
    "cur.execute(\"INSERT INTO members (name, age, major, phone_number) \\\n",
    "VALUES('박민수', 25, '사회학과', 01090389232)\")\n",
    "cur.execute(\"INSERT INTO members (name, age, major, phone_number) \\\n",
    "VALUES('최지혜', 24, '컴공과', 01078374234)\")\n",
    "cur.execute(\"INSERT INTO members (name, age, major, phone_number) \\\n",
    "VALUES('김경진', 23, '컴공과', 01039402941)\")\n",
    "cur.execute(\"INSERT INTO members (name, age, major, phone_number) \\\n",
    "VALUES('김기철', 23, '국문학과', 01090378872)\")\n",
    "cur.execute(\"INSERT INTO members (name, age, major, phone_number) \\\n",
    "VALUES('오민식', 26, '컴공과', 01083984924)\")\n",
    "cur.execute(\"INSERT INTO members (name, age, major, phone_number) \\\n",
    "VALUES('이민지', 24, '사회학과', 01032894328)\")\n",
    "cur.execute(\"INSERT INTO members (name, age, major, phone_number) \\\n",
    "VALUES('민지현', 22, '국문학과', 01023940329)\")\n",
    "cur.execute(\"INSERT INTO members (name, age, major, phone_number) \\\n",
    "VALUES('임원희', 25, '사회학과', 01029344435)\")\n",
    "cur.execute(\"INSERT INTO members (name, age, major, phone_number) \\\n",
    "VALUES('곽민지', 22, '국문학과', 01090993758)\")\n",
    "cur.execute(\"INSERT INTO members (name, age, major, phone_number) \\\n",
    "VALUES('최성원', 24, '컴공과', 01082763453)\")\n",
    "cur.execute(\"INSERT INTO members (name, age, major, phone_number) \\\n",
    "VALUES('정은비', 25, '컴공과', 01063049530)\")\n",
    "cur.execute(\"INSERT INTO members (name, age, major, phone_number) \\\n",
    "VALUES('이수원', 24, '국문학과', 01090908273)\")\n",
    "\n",
    "cur.execute(\"SELECT * from members\")\n",
    "rows = cur.fetchall()\n",
    "\n",
    "for row in rows:\n",
    "    print(row)\n",
    "conn.commit()\n",
    "conn.close()"
   ]
  },
  {
   "cell_type": "code",
   "execution_count": 5,
   "metadata": {
    "collapsed": false
   },
   "outputs": [
    {
     "name": "stdout",
     "output_type": "stream",
     "text": [
      "id =  1\n",
      "age =  23\n",
      "major =  컴공과\n",
      "phone_number =  821027593459 \n",
      "\n",
      "id =  2\n",
      "age =  23\n",
      "major =  사회학과\n",
      "phone_number =  1029329344 \n",
      "\n",
      "id =  3\n",
      "age =  22\n",
      "major =  국문학과\n",
      "phone_number =  1039894839 \n",
      "\n",
      "id =  4\n",
      "age =  25\n",
      "major =  사회학과\n",
      "phone_number =  1090389232 \n",
      "\n",
      "id =  5\n",
      "age =  24\n",
      "major =  컴공과\n",
      "phone_number =  1078374234 \n",
      "\n",
      "id =  6\n",
      "age =  23\n",
      "major =  컴공과\n",
      "phone_number =  1039402941 \n",
      "\n",
      "id =  7\n",
      "age =  23\n",
      "major =  국문학과\n",
      "phone_number =  1090378872 \n",
      "\n",
      "id =  8\n",
      "age =  26\n",
      "major =  컴공과\n",
      "phone_number =  1083984924 \n",
      "\n",
      "id =  9\n",
      "age =  24\n",
      "major =  사회학과\n",
      "phone_number =  1032894328 \n",
      "\n",
      "id =  10\n",
      "age =  22\n",
      "major =  국문학과\n",
      "phone_number =  1023940329 \n",
      "\n",
      "id =  11\n",
      "age =  25\n",
      "major =  사회학과\n",
      "phone_number =  1029344435 \n",
      "\n",
      "id =  12\n",
      "age =  22\n",
      "major =  국문학과\n",
      "phone_number =  1090993758 \n",
      "\n",
      "id =  13\n",
      "age =  24\n",
      "major =  컴공과\n",
      "phone_number =  1082763453 \n",
      "\n",
      "id =  14\n",
      "age =  25\n",
      "major =  컴공과\n",
      "phone_number =  1063049530 \n",
      "\n",
      "id =  15\n",
      "age =  24\n",
      "major =  국문학과\n",
      "phone_number =  1090908273 \n",
      "\n",
      "print closed\n"
     ]
    }
   ],
   "source": [
    "conn = lite.connect(\"dongari.db\")\n",
    "\n",
    "with conn:\n",
    "    cur = conn.execute(\"select id name, age, major, phone_number from members\")\n",
    "    for row in cur:\n",
    "        print(\"id = \",row[0])\n",
    "        print(\"age = \", row[1])\n",
    "        print(\"major = \", row[2])\n",
    "        print(\"phone_number = \", row[3], \"\\n\")\n",
    "        \n",
    "print(\"print closed\")\n",
    "conn.close()"
   ]
  },
  {
   "cell_type": "code",
   "execution_count": null,
   "metadata": {
    "collapsed": false
   },
   "outputs": [],
   "source": []
  },
  {
   "cell_type": "code",
   "execution_count": null,
   "metadata": {
    "collapsed": true
   },
   "outputs": [],
   "source": []
  }
 ],
 "metadata": {
  "kernelspec": {
   "display_name": "Python 3",
   "language": "python",
   "name": "python3"
  },
  "language_info": {
   "codemirror_mode": {
    "name": "ipython",
    "version": 3
   },
   "file_extension": ".py",
   "mimetype": "text/x-python",
   "name": "python",
   "nbconvert_exporter": "python",
   "pygments_lexer": "ipython3",
   "version": "3.6.0"
  }
 },
 "nbformat": 4,
 "nbformat_minor": 2
}
