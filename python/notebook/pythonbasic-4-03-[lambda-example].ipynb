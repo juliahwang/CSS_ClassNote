{
 "cells": [
  {
   "cell_type": "code",
   "execution_count": 1,
   "metadata": {
    "collapsed": false,
    "deletable": true,
    "editable": true
   },
   "outputs": [
    {
     "name": "stdout",
     "output_type": "stream",
     "text": [
      "The Zen of Python, by Tim Peters\n",
      "\n",
      "Beautiful is better than ugly.\n",
      "Explicit is better than implicit.\n",
      "Simple is better than complex.\n",
      "Complex is better than complicated.\n",
      "Flat is better than nested.\n",
      "Sparse is better than dense.\n",
      "Readability counts.\n",
      "Special cases aren't special enough to break the rules.\n",
      "Although practicality beats purity.\n",
      "Errors should never pass silently.\n",
      "Unless explicitly silenced.\n",
      "In the face of ambiguity, refuse the temptation to guess.\n",
      "There should be one-- and preferably only one --obvious way to do it.\n",
      "Although that way may not be obvious at first unless you're Dutch.\n",
      "Now is better than never.\n",
      "Although never is often better than *right* now.\n",
      "If the implementation is hard to explain, it's a bad idea.\n",
      "If the implementation is easy to explain, it may be a good idea.\n",
      "Namespaces are one honking great idea -- let's do more of those!\n"
     ]
    }
   ],
   "source": [
    "import this"
   ]
  },
  {
   "cell_type": "code",
   "execution_count": 2,
   "metadata": {
    "collapsed": false,
    "deletable": true,
    "editable": true
   },
   "outputs": [
    {
     "data": {
      "text/plain": [
       "'python'"
      ]
     },
     "execution_count": 2,
     "metadata": {},
     "output_type": "execute_result"
    }
   ],
   "source": [
    "some_string = \"python\"\n",
    "some_string[::]"
   ]
  },
  {
   "cell_type": "code",
   "execution_count": 3,
   "metadata": {
    "collapsed": false,
    "deletable": true,
    "editable": true
   },
   "outputs": [
    {
     "data": {
      "text/plain": [
       "'python'"
      ]
     },
     "execution_count": 3,
     "metadata": {},
     "output_type": "execute_result"
    }
   ],
   "source": [
    "some_string[0:len(some_string):1]"
   ]
  },
  {
   "cell_type": "code",
   "execution_count": 4,
   "metadata": {
    "collapsed": false,
    "deletable": true,
    "editable": true
   },
   "outputs": [
    {
     "data": {
      "text/plain": [
       "3"
      ]
     },
     "execution_count": 4,
     "metadata": {},
     "output_type": "execute_result"
    }
   ],
   "source": [
    "# lambda example\n",
    "\n",
    "def add_two(a, b):\n",
    "    return a + b\n",
    "\n",
    "# 1. 함수 객체를 만들고\n",
    "# 2. add_two 이름(메모리) 할당\n",
    "\n",
    "f = add_two\n",
    "f(1, 2)\n",
    "\n",
    "# 함수는 다시 호출하려고 쓰지만 한번만 쓰고싶을 때가 있다. \n",
    "# 그럴 때 람다를 사용한다. "
   ]
  },
  {
   "cell_type": "code",
   "execution_count": 18,
   "metadata": {
    "collapsed": false,
    "deletable": true,
    "editable": true
   },
   "outputs": [
    {
     "data": {
      "text/plain": [
       "3"
      ]
     },
     "execution_count": 18,
     "metadata": {},
     "output_type": "execute_result"
    }
   ],
   "source": [
    "# 익명 함수 - 이름이 없는 함수\n",
    "# 한번 쓰는 함수 : 메모리 아끼고 가독성도 좋아지고 간결해(파이썬의 철학)지기 때문.\n",
    "# 위의 함수를 람다형으로 바꿔본다. \n",
    "# map, filter, reduce 함수를 쓰기 위한 기초\n",
    "\n",
    "f = lambda a, b: a + b\n",
    "f(1, 2)"
   ]
  },
  {
   "cell_type": "code",
   "execution_count": 31,
   "metadata": {
    "collapsed": false,
    "deletable": true,
    "editable": true
   },
   "outputs": [],
   "source": [
    "# 1. map\n",
    "# 2. filter\n",
    "# 3. reduce\n",
    "\n",
    "li = [1, 2, 3,]\n",
    "\n",
    "result = []\n",
    "for i in li:\n",
    "    result.append(i**2)\n",
    "# for문에서는 기본적으로 빈 리스트를 만들어 결과요소를 집어넣어야 한다."
   ]
  },
  {
   "cell_type": "code",
   "execution_count": 27,
   "metadata": {
    "collapsed": false,
    "deletable": true,
    "editable": true
   },
   "outputs": [
    {
     "data": {
      "text/plain": [
       "[1, 4, 9]"
      ]
     },
     "execution_count": 27,
     "metadata": {},
     "output_type": "execute_result"
    }
   ],
   "source": [
    "# list(map())\n",
    "# 1. 조건식(func)\n",
    "# 2. iterable = 자료형 중에 하나하나 참조하여 값을 도출할 수 있는 것.\n",
    "#    순환으로 조회 가능. list, dict 모두 iterable 객체임. \n",
    "#    iterable 의 의미는 member를 하나씩 차례로 반환 가능한 object를 말한다. \n",
    "#    iterable 의 예로는 sequence type인 list, str, tuple 이 대표적이다. \n",
    "\n",
    "li = [1, 2, 3,]\n",
    "list(map(lambda e: e**2, li))\n",
    "# 게으른 연산을 진행하여 메모리를 절약할 수 있다. "
   ]
  },
  {
   "cell_type": "code",
   "execution_count": 125,
   "metadata": {
    "collapsed": false,
    "deletable": true,
    "editable": true
   },
   "outputs": [
    {
     "name": "stdout",
     "output_type": "stream",
     "text": [
      "['a', 'b', 'c', 'd', 'e']\n"
     ]
    }
   ],
   "source": [
    "s = 'abcde'\n",
    "l = list(s)\n",
    "print(l)"
   ]
  },
  {
   "cell_type": "code",
   "execution_count": 1,
   "metadata": {
    "collapsed": false,
    "deletable": true,
    "editable": true
   },
   "outputs": [
    {
     "name": "stdout",
     "output_type": "stream",
     "text": [
      "a가 10보다 크다\n",
      "a가 10보다 크다\n"
     ]
    }
   ],
   "source": [
    "def func(a):\n",
    "    if a > 10:\n",
    "        return \"a가 10보다 크다\"\n",
    "    else:\n",
    "        return \"a가 10보다 작다\"\n",
    "print(func(11))\n",
    "\n",
    "\n",
    "def func2(a):\n",
    "    return \"a가 10보다 크다\" if a > 10 else \"a가 10보다 작다\"\n",
    "\n",
    "print(func2(11))"
   ]
  },
  {
   "cell_type": "code",
   "execution_count": 2,
   "metadata": {
    "collapsed": false,
    "deletable": true,
    "editable": true
   },
   "outputs": [
    {
     "data": {
      "text/plain": [
       "['음수', '음수', '0', '양수', '양수']"
      ]
     },
     "execution_count": 2,
     "metadata": {},
     "output_type": "execute_result"
    }
   ],
   "source": [
    "li = [-3, -2, 0, 6, 8,]\n",
    "list(map(\n",
    "    lambda a:\n",
    "    \"양수\" if a > 0 else (\"0\" if a == 0 else \"음수\"), li))\n",
    "\n",
    "# 원화표시 (맥에서는 백슬래쉬 : \\)\n",
    "# return \"양수\" if a > 0 else (\"0\" if a == 0\\\n",
    "# else \"음수\"), li))\n",
    "# 함수가 길어서 줄바꿈을 할 때 붙이면 컴퓨터는 한줄로 인식하지만 사용자는 두 줄에\n",
    "# 걸쳐서 작성할 수 있다. \n",
    "\n",
    "# map() - 자료구조에서 map = dict = table 완벽히 같은 개념임. \n",
    "# 전통적인 자료형에서 dictionary는 자료형이 아니다. int, ascii 등이 있었지만\n",
    "# 파이썬을 만든 귀도 반로썸이 dict을 자료형에 포함시킨 것. "
   ]
  },
  {
   "cell_type": "code",
   "execution_count": 6,
   "metadata": {
    "collapsed": false,
    "deletable": true,
    "editable": true
   },
   "outputs": [
    {
     "ename": "SyntaxError",
     "evalue": "invalid syntax (<ipython-input-6-431f868a5b8b>, line 7)",
     "output_type": "error",
     "traceback": [
      "\u001b[0;36m  File \u001b[0;32m\"<ipython-input-6-431f868a5b8b>\"\u001b[0;36m, line \u001b[0;32m7\u001b[0m\n\u001b[0;31m    obj =\u001b[0m\n\u001b[0m          ^\u001b[0m\n\u001b[0;31mSyntaxError\u001b[0m\u001b[0;31m:\u001b[0m invalid syntax\n"
     ]
    }
   ],
   "source": [
    "# 게으른 연산\n",
    "# li = [1, 2, 3,]\n",
    "# map(lambda x: x ** 2, li)\n",
    "# 함수를 실행할 때마다 리스트를 만드는 것은 메모리의 낭비이므로 함수 실행시\n",
    "# 그때그때 각각의 결과를 도출하는 것을 게으른 연산이라 한다. \n",
    "\n",
    "\n",
    "# iterator(반복자) 객체 = 메모리를 아끼기 위해서 그때그때 연산을 하기 때문에\n",
    "# stopiteration을 출력하는 객체(값을 저장하지 않았던)를 이터레이터 객체라 한다.\n",
    "# Iterator 는 next() 메소드로 데이터를 순차적으로 호출 가능한 object 이다.\n",
    "# 만약 next() 로 마지막 데이터를 불러온 경우 다음 데이터를 불러오라고 하면\n",
    "# (가장 마지막 데이터인 경우) StopIteration exception을 발생시킨다. \n",
    "\n",
    " # 그렇다면, iterable 한 object들은 iterator 인가?\n",
    " # 결론부터 말하자면, iterable 이라고 해서 반드시 iterator 라는 것은 아니다. \n",
    " # ex_ list\n",
    "\n",
    "# 보통은 인덱싱에서 찾는  방법을 주로 쓴다. 이터러블 객체는 1회성으로 찾을 때 사용.\n",
    "# (※ 반복 가능한 자료형이란 for문으로 그 값을 출력할 수 있는 것을 의미한다. \n",
    "# 리스트, 튜플, 문자열, 딕셔너리, 집합 등이 있다.)"
   ]
  },
  {
   "cell_type": "code",
   "execution_count": 134,
   "metadata": {
    "collapsed": false,
    "deletable": true,
    "editable": true
   },
   "outputs": [
    {
     "data": {
      "text/plain": [
       "list_iterator"
      ]
     },
     "execution_count": 134,
     "metadata": {},
     "output_type": "execute_result"
    }
   ],
   "source": [
    "li = [1, 2, 3]\n",
    "obj = iter(li)\n",
    "type(li)\n",
    "type(obj)\n",
    "# list는 iter함수를 사용.\n",
    "# 위와 같이 iter() 함수를 사용하여 list 를 listiterator 타입으로 변경 가능하다. "
   ]
  },
  {
   "cell_type": "code",
   "execution_count": 8,
   "metadata": {
    "collapsed": false,
    "deletable": true,
    "editable": true
   },
   "outputs": [
    {
     "data": {
      "text/plain": [
       "['__class__',\n",
       " '__delattr__',\n",
       " '__dir__',\n",
       " '__doc__',\n",
       " '__eq__',\n",
       " '__format__',\n",
       " '__ge__',\n",
       " '__getattribute__',\n",
       " '__gt__',\n",
       " '__hash__',\n",
       " '__init__',\n",
       " '__init_subclass__',\n",
       " '__iter__',\n",
       " '__le__',\n",
       " '__length_hint__',\n",
       " '__lt__',\n",
       " '__ne__',\n",
       " '__new__',\n",
       " '__next__',\n",
       " '__reduce__',\n",
       " '__reduce_ex__',\n",
       " '__repr__',\n",
       " '__setattr__',\n",
       " '__setstate__',\n",
       " '__sizeof__',\n",
       " '__str__',\n",
       " '__subclasshook__']"
      ]
     },
     "execution_count": 8,
     "metadata": {},
     "output_type": "execute_result"
    }
   ],
   "source": [
    "dir(obj)\n",
    "# dir은 객체가 자체적으로 가지고 있는 변수나 함수를 보여 준다."
   ]
  },
  {
   "cell_type": "code",
   "execution_count": 9,
   "metadata": {
    "collapsed": false,
    "deletable": true,
    "editable": true
   },
   "outputs": [
    {
     "data": {
      "text/plain": [
       "1"
      ]
     },
     "execution_count": 9,
     "metadata": {},
     "output_type": "execute_result"
    }
   ],
   "source": [
    "next(obj)"
   ]
  },
  {
   "cell_type": "code",
   "execution_count": 10,
   "metadata": {
    "collapsed": false,
    "deletable": true,
    "editable": true
   },
   "outputs": [
    {
     "data": {
      "text/plain": [
       "2"
      ]
     },
     "execution_count": 10,
     "metadata": {},
     "output_type": "execute_result"
    }
   ],
   "source": [
    "next(obj)"
   ]
  },
  {
   "cell_type": "code",
   "execution_count": 12,
   "metadata": {
    "collapsed": false,
    "deletable": true,
    "editable": true
   },
   "outputs": [],
   "source": [
    "def func(a, b):\n",
    "    return a + b\n",
    "# lambda는 이름이 없으므로 참조를 할 수 없다. \n",
    "# heap - private heap(=virtual machine) 메모리에서 lambda는 자동으로 사라진다."
   ]
  },
  {
   "cell_type": "code",
   "execution_count": 136,
   "metadata": {
    "collapsed": false,
    "deletable": true,
    "editable": true
   },
   "outputs": [
    {
     "data": {
      "text/plain": [
       "['양수', '양수', '음수', '양수', '0']"
      ]
     },
     "execution_count": 136,
     "metadata": {},
     "output_type": "execute_result"
    }
   ],
   "source": [
    "# 리스트를 lambda 함수로 값변환\n",
    "li1 = [-3, -2, 0, 6, 8]\n",
    "list(map(\n",
    "    lambda x:\n",
    "        \"양수\" if x > 0 else (\"음수\" if x < 0 else '0'),\n",
    "        li1\n",
    "))\n",
    "\n",
    "li2 = [3, 6, -2, 9, 0]\n",
    "list(map(\n",
    "        lambda y:\n",
    "        \"양수\" if y > 0 else (\"음수\" if y < 0 else \"0\"),\n",
    "        li2\n",
    "))\n",
    "# 삼항연산자 = (if-조건-실행문-else-실행문)를 한줄에 실행할 수 있는 것 ex_lambda"
   ]
  },
  {
   "cell_type": "code",
   "execution_count": 137,
   "metadata": {
    "collapsed": false,
    "deletable": true,
    "editable": true
   },
   "outputs": [
    {
     "data": {
      "text/plain": [
       "['음수', '음수', '양수', '양수']"
      ]
     },
     "execution_count": 137,
     "metadata": {},
     "output_type": "execute_result"
    }
   ],
   "source": [
    "# 튜플을 lambda 함수로 값변환\n",
    "tu = (-3, -2, 6, 8,)\n",
    "list(map(\n",
    "    lambda a:\n",
    "        \"양수\" if a > 0 else \"음수\", \n",
    "        tu # or (-3, -2, 6, 8)\n",
    "))"
   ]
  },
  {
   "cell_type": "code",
   "execution_count": 139,
   "metadata": {
    "collapsed": false,
    "deletable": true,
    "editable": true
   },
   "outputs": [
    {
     "name": "stdout",
     "output_type": "stream",
     "text": [
      "[]\n"
     ]
    }
   ],
   "source": [
    "# filter\n",
    "li = [-2, -3, 5, 6]\n",
    "\n",
    "def ft(li):\n",
    "    result = []                  # 결과 요소를 집어넣을 수 있는 새로운 리스트를 만들어둔다.\n",
    "    for ele in li:\n",
    "        if ele > 0:\n",
    "            result.append(ele)   # 만들어둔 result 리스트형에 집어넣기\n",
    "        else:\n",
    "            pass\n",
    "        return result\n",
    "\n",
    "result = ft(li)\n",
    "print(result)"
   ]
  },
  {
   "cell_type": "code",
   "execution_count": 42,
   "metadata": {
    "collapsed": false,
    "deletable": true,
    "editable": true
   },
   "outputs": [
    {
     "data": {
      "text/plain": [
       "[5, 6]"
      ]
     },
     "execution_count": 42,
     "metadata": {},
     "output_type": "execute_result"
    }
   ],
   "source": [
    "# list 변수객체 중 양수인 것만 필터링하여 출력하기\n",
    "\n",
    "li = [-2, -3, 5, 6]\n",
    "list(filter(lambda x: x > 0, li))"
   ]
  },
  {
   "cell_type": "code",
   "execution_count": 142,
   "metadata": {
    "collapsed": true,
    "deletable": true,
    "editable": true
   },
   "outputs": [],
   "source": [
    "li = [element * 2 for element in range(10) if element % 2 == 0]"
   ]
  },
  {
   "cell_type": "code",
   "execution_count": 145,
   "metadata": {
    "collapsed": false,
    "deletable": true,
    "editable": true
   },
   "outputs": [],
   "source": [
    "# 0부터 9까지 돌면서 2로 나누었을 때 나머지가 0이면 요소에 2를 곱해서 넣어라.\n",
    "li = [e * 2 for e in range(1, 11) if e % 2 == 0]"
   ]
  },
  {
   "cell_type": "code",
   "execution_count": 143,
   "metadata": {
    "collapsed": false,
    "deletable": true,
    "editable": true
   },
   "outputs": [
    {
     "data": {
      "text/plain": [
       "[0, 4, 8, 12, 16]"
      ]
     },
     "execution_count": 143,
     "metadata": {},
     "output_type": "execute_result"
    }
   ],
   "source": [
    "li"
   ]
  },
  {
   "cell_type": "code",
   "execution_count": 146,
   "metadata": {
    "collapsed": false,
    "deletable": true,
    "editable": true
   },
   "outputs": [],
   "source": [
    "li2 = [k * 4 for k in range(1,20) if k % 3 == 1]\n",
    "# k는 1부터 19까지 범위에서 3으로 나누었을 때 나머지 1이 나오는 수를 곱하기 4해라."
   ]
  },
  {
   "cell_type": "code",
   "execution_count": 147,
   "metadata": {
    "collapsed": false,
    "deletable": true,
    "editable": true
   },
   "outputs": [
    {
     "data": {
      "text/plain": [
       "[4, 16, 28, 40, 52, 64, 76]"
      ]
     },
     "execution_count": 147,
     "metadata": {},
     "output_type": "execute_result"
    }
   ],
   "source": [
    "li2"
   ]
  },
  {
   "cell_type": "code",
   "execution_count": 51,
   "metadata": {
    "collapsed": true,
    "deletable": true,
    "editable": true
   },
   "outputs": [],
   "source": [
    "li3 = [hel \n",
    "           for hel in range(5) \n",
    "               if hel % 2 == 0]\n",
    "# 하나의 대괄호에 묶여있으므로 백슬래쉬 없이 줄바꿈이 가능하다.한 줄로 쓰는 것이 더 좋음.\n",
    "\n",
    "def add(a, b):\n",
    "    return a +\\\n",
    "b\n",
    "# 전체를 묶어주는 괄호가 없으므로 백슬래쉬를 쓰고 줄을 띄운다. "
   ]
  },
  {
   "cell_type": "code",
   "execution_count": 52,
   "metadata": {
    "collapsed": false,
    "deletable": true,
    "editable": true
   },
   "outputs": [
    {
     "data": {
      "text/plain": [
       "[0, 2, 4]"
      ]
     },
     "execution_count": 52,
     "metadata": {},
     "output_type": "execute_result"
    }
   ],
   "source": [
    "li3"
   ]
  },
  {
   "cell_type": "code",
   "execution_count": 53,
   "metadata": {
    "collapsed": true,
    "deletable": true,
    "editable": true
   },
   "outputs": [],
   "source": [
    "# reduce 함수\n",
    "# 본래 내장함수에서 사라졌음. import해줘야 한다. \n",
    "\n",
    "from functools import reduce "
   ]
  },
  {
   "cell_type": "code",
   "execution_count": 5,
   "metadata": {
    "collapsed": false,
    "deletable": true,
    "editable": true
   },
   "outputs": [
    {
     "data": {
      "text/plain": [
       "55"
      ]
     },
     "execution_count": 5,
     "metadata": {},
     "output_type": "execute_result"
    }
   ],
   "source": [
    "li = [i for i in range(1, 11)]\n",
    "\n",
    "def sum_list(e):\n",
    "    sum = 0\n",
    "    for e in li:\n",
    "        sum += e\n",
    "    return sum\n",
    "sum_list(li)\n",
    "\n",
    "# reduce함수를 적용했을 때 li리스트의 첫번째 요소가 a가 된다.\n",
    "# 1(a) + 2(b) = 3(a가 됨) + 3(b) = 6(a가 됨) + 4(b) = 10(a가 됨) ----\n",
    "# 아니면 li 리스트 뒤에 초기값을 넣어줘도 된다."
   ]
  },
  {
   "cell_type": "code",
   "execution_count": 4,
   "metadata": {
    "collapsed": false
   },
   "outputs": [
    {
     "ename": "NameError",
     "evalue": "name 'reduce' is not defined",
     "output_type": "error",
     "traceback": [
      "\u001b[0;31m---------------------------------------------------------------------------\u001b[0m",
      "\u001b[0;31mNameError\u001b[0m                                 Traceback (most recent call last)",
      "\u001b[0;32m<ipython-input-4-97ad696c1b79>\u001b[0m in \u001b[0;36m<module>\u001b[0;34m()\u001b[0m\n\u001b[0;32m----> 1\u001b[0;31m result = reduce(lambda a, b: a + b,\n\u001b[0m\u001b[1;32m      2\u001b[0m                 li, 0)\n\u001b[1;32m      3\u001b[0m \u001b[0mprint\u001b[0m\u001b[0;34m(\u001b[0m\u001b[0mresult\u001b[0m\u001b[0;34m)\u001b[0m\u001b[0;34m\u001b[0m\u001b[0m\n",
      "\u001b[0;31mNameError\u001b[0m: name 'reduce' is not defined"
     ]
    }
   ],
   "source": [
    "result = reduce(lambda a, b: a + b,\n",
    "                li, 0)\n",
    "print(result)"
   ]
  },
  {
   "cell_type": "code",
   "execution_count": 57,
   "metadata": {
    "collapsed": false,
    "deletable": true,
    "editable": true
   },
   "outputs": [
    {
     "data": {
      "text/plain": [
       "25"
      ]
     },
     "execution_count": 57,
     "metadata": {},
     "output_type": "execute_result"
    }
   ],
   "source": [
    "li = [10, 25, 2, 6, 7, 5]\n",
    "\n",
    "def maxi(li):\n",
    "    default = 0\n",
    "    for e in li:\n",
    "        if default < e:\n",
    "            default = e\n",
    "    return default\n",
    "maxi(li)"
   ]
  },
  {
   "cell_type": "code",
   "execution_count": 74,
   "metadata": {
    "collapsed": false,
    "deletable": true,
    "editable": true
   },
   "outputs": [
    {
     "data": {
      "text/plain": [
       "25"
      ]
     },
     "execution_count": 74,
     "metadata": {},
     "output_type": "execute_result"
    }
   ],
   "source": [
    "li = [10, 25, 2, 6, 7, 5]\n",
    "\n",
    "result = reduce(lambda a, b: a if a > b else b,\n",
    "            [10, 25, 2, 6, 7, 5])\n",
    "result\n",
    "\n",
    "# else 뒤에는 조건이 붙지 않는다. 결과값만 도출. "
   ]
  },
  {
   "cell_type": "code",
   "execution_count": 85,
   "metadata": {
    "collapsed": false,
    "deletable": true,
    "editable": true
   },
   "outputs": [
    {
     "data": {
      "text/plain": [
       "[36, 144]"
      ]
     },
     "execution_count": 85,
     "metadata": {},
     "output_type": "execute_result"
    }
   ],
   "source": [
    "li2 = [-3, -2, 0, 6, 12]\n",
    "\n",
    "list(map(lambda e: e ** 2, filter(lambda e: e > 0, li2)))\n",
    "# filter를 사용하여 e가 0보다 큰 수만 고르고, map을 통해 제곱한 결과를 묶어서 리스트로 받는다.\n",
    "# map() = f, iterable은 함수 f와 반복 가능한 iterable 자료형을 입력으로 받는다. \n",
    "#       map은 입력받은 자료형의 각 요소가 함수 f에 의해 수행된 결과를 묶어서 리턴하는 함수.  "
   ]
  },
  {
   "cell_type": "code",
   "execution_count": 86,
   "metadata": {
    "collapsed": false,
    "deletable": true,
    "editable": true
   },
   "outputs": [
    {
     "data": {
      "text/plain": [
       "[1, 2, 3]"
      ]
     },
     "execution_count": 86,
     "metadata": {},
     "output_type": "execute_result"
    }
   ],
   "source": [
    "# reduce 예제\n",
    "li = [1, 2, 3]\n",
    "li or []\n",
    "# 자료형의 참/거짓 - 빈 리스트는 거짓이므로 요소가 있는 li 가 출력된다."
   ]
  },
  {
   "cell_type": "code",
   "execution_count": 87,
   "metadata": {
    "collapsed": false,
    "deletable": true,
    "editable": true
   },
   "outputs": [
    {
     "data": {
      "text/plain": [
       "[1, 2, 3]"
      ]
     },
     "execution_count": 87,
     "metadata": {},
     "output_type": "execute_result"
    }
   ],
   "source": [
    "li = [1, 2, 3]\n",
    "li or None"
   ]
  },
  {
   "cell_type": "code",
   "execution_count": 7,
   "metadata": {
    "collapsed": false,
    "deletable": true,
    "editable": true
   },
   "outputs": [
    {
     "data": {
      "text/plain": [
       "{'one': 1, 'three': 3, 'two': 2}"
      ]
     },
     "execution_count": 7,
     "metadata": {},
     "output_type": "execute_result"
    }
   ],
   "source": [
    "# dict함수는 key:value를 딕셔너리에 추가할 수 있는 함수이다.\n",
    "\n",
    "dic = dict(one = 1, two = 2, three =3)\n",
    "dic"
   ]
  },
  {
   "cell_type": "code",
   "execution_count": 8,
   "metadata": {
    "collapsed": false,
    "deletable": true,
    "editable": true
   },
   "outputs": [
    {
     "data": {
      "text/plain": [
       "3"
      ]
     },
     "execution_count": 8,
     "metadata": {},
     "output_type": "execute_result"
    }
   ],
   "source": [
    "dic.get('three')\n",
    "# 중요"
   ]
  },
  {
   "cell_type": "code",
   "execution_count": 9,
   "metadata": {
    "collapsed": false
   },
   "outputs": [
    {
     "data": {
      "text/plain": [
       "1"
      ]
     },
     "execution_count": 9,
     "metadata": {},
     "output_type": "execute_result"
    }
   ],
   "source": [
    "dic.get('one', 1)"
   ]
  },
  {
   "cell_type": "code",
   "execution_count": 10,
   "metadata": {
    "collapsed": false,
    "deletable": true,
    "editable": true
   },
   "outputs": [
    {
     "ename": "KeyError",
     "evalue": "'four'",
     "output_type": "error",
     "traceback": [
      "\u001b[0;31m---------------------------------------------------------------------------\u001b[0m",
      "\u001b[0;31mKeyError\u001b[0m                                  Traceback (most recent call last)",
      "\u001b[0;32m<ipython-input-10-f8d7e6f2fe30>\u001b[0m in \u001b[0;36m<module>\u001b[0;34m()\u001b[0m\n\u001b[0;32m----> 1\u001b[0;31m \u001b[0mdic\u001b[0m\u001b[0;34m[\u001b[0m\u001b[0;34m'four'\u001b[0m\u001b[0;34m]\u001b[0m\u001b[0;34m\u001b[0m\u001b[0m\n\u001b[0m",
      "\u001b[0;31mKeyError\u001b[0m: 'four'"
     ]
    }
   ],
   "source": [
    "dic['four']"
   ]
  },
  {
   "cell_type": "code",
   "execution_count": 11,
   "metadata": {
    "collapsed": false,
    "deletable": true,
    "editable": true
   },
   "outputs": [],
   "source": [
    "# 있는 키값이라면 값을 내되, 없다면 무시하고 싶을 때 .get을 쓴다. \n",
    "dic.get('four')"
   ]
  },
  {
   "cell_type": "code",
   "execution_count": 12,
   "metadata": {
    "collapsed": false,
    "deletable": true,
    "editable": true
   },
   "outputs": [
    {
     "data": {
      "text/plain": [
       "4"
      ]
     },
     "execution_count": 12,
     "metadata": {},
     "output_type": "execute_result"
    }
   ],
   "source": [
    "# 값이 없을 때 값을 명시해주어 그 값을 출력할 수도 있다.\n",
    "dic.get('four', 4)"
   ]
  },
  {
   "cell_type": "code",
   "execution_count": 99,
   "metadata": {
    "collapsed": false,
    "deletable": true,
    "editable": true
   },
   "outputs": [
    {
     "data": {
      "text/plain": [
       "{'five': 5, 'one': 1, 'six': 6, 'three': 3, 'two': 2}"
      ]
     },
     "execution_count": 99,
     "metadata": {},
     "output_type": "execute_result"
    }
   ],
   "source": [
    "# dictionary에 key:value 요소 추가 \n",
    "dic.update({\"five\":5, \"six\":6})\n",
    "dic"
   ]
  },
  {
   "cell_type": "code",
   "execution_count": 13,
   "metadata": {
    "collapsed": false,
    "deletable": true,
    "editable": true
   },
   "outputs": [
    {
     "name": "stdout",
     "output_type": "stream",
     "text": [
      "None\n"
     ]
    }
   ],
   "source": [
    "result = dic.update({\"five\":5, \"six\":6})\n",
    "print(result)"
   ]
  },
  {
   "cell_type": "code",
   "execution_count": 102,
   "metadata": {
    "collapsed": true,
    "deletable": true,
    "editable": true
   },
   "outputs": [],
   "source": [
    "dic = dict(one = 1, two = 2)"
   ]
  },
  {
   "cell_type": "code",
   "execution_count": 103,
   "metadata": {
    "collapsed": false,
    "deletable": true,
    "editable": true
   },
   "outputs": [
    {
     "data": {
      "text/plain": [
       "{'one': 1, 'two': 2}"
      ]
     },
     "execution_count": 103,
     "metadata": {},
     "output_type": "execute_result"
    }
   ],
   "source": [
    "dic"
   ]
  },
  {
   "cell_type": "code",
   "execution_count": 105,
   "metadata": {
    "collapsed": false,
    "deletable": true,
    "editable": true
   },
   "outputs": [
    {
     "data": {
      "text/plain": [
       "{'one': 1, 'three': 3, 'two': 2}"
      ]
     },
     "execution_count": 105,
     "metadata": {},
     "output_type": "execute_result"
    }
   ],
   "source": [
    "dic.update({\"three\": 3}) or dic\n",
    "# dic의 딕셔너리가 채워져있으므로(참이므로) dic을 출력한다. "
   ]
  },
  {
   "cell_type": "code",
   "execution_count": 110,
   "metadata": {
    "collapsed": false,
    "deletable": true,
    "editable": true
   },
   "outputs": [
    {
     "data": {
      "text/plain": [
       "{'a': 3, 'b': 2, 'c': 3}"
      ]
     },
     "execution_count": 110,
     "metadata": {},
     "output_type": "execute_result"
    }
   ],
   "source": [
    "data = ['a', 'a', 'a', 'b', 'b', 'c', 'c', 'c']\n",
    "\n",
    "data1 = dict(a = 3, b = 2, c = 3)\n",
    "data1"
   ]
  },
  {
   "cell_type": "code",
   "execution_count": 122,
   "metadata": {
    "collapsed": false,
    "deletable": true,
    "editable": true
   },
   "outputs": [],
   "source": [
    "data = ['a', 'a', 'a', 'b', 'b', 'c', 'c', 'c']"
   ]
  },
  {
   "cell_type": "code",
   "execution_count": 124,
   "metadata": {
    "collapsed": false,
    "deletable": true,
    "editable": true
   },
   "outputs": [
    {
     "data": {
      "text/plain": [
       "{'a': 3, 'b': 2, 'c': 3}"
      ]
     },
     "execution_count": 124,
     "metadata": {},
     "output_type": "execute_result"
    }
   ],
   "source": [
    "reduce(\n",
    "    lambda r, e:\n",
    "        r.update({e : r.get(e, 0) + 1}) or r,\n",
    "    data,\n",
    "    {}\n",
    ")\n",
    "\n",
    "# r - result\n",
    "# e - element\n",
    "\n",
    "# 값이 없을 때 값을 명시해주어 그 값을 출력할 수도 있다.\n",
    "# dic.get('four', 4)\n",
    "# r의 엘리멘트의 value값은 0부터 시작한다.\n",
    "# r.get(e, 0)을 통해 값을 0으로 놓고, 하나의 요소를 셌으므로 1을 더해준다.\n",
    "# r.update({e : r.get(e,0) + 1})을 통해 딕셔너리 요소를 업데이트 해준다.\n",
    "# lambda의 초기값을 {}로 두는 이유는 딕셔너리로 도출하기 위해서이다. \n",
    "# 따라서 초기값 {}의 딕셔너리 밸류 값을 0으로 둔 것이다. \n",
    "\n",
    "# 이해하기>>\n",
    "# r.update({'a': r.get('a', 0) + 1}) -> {'a': 1}\n",
    "# r.update({'a': r.get('a')+ 1}) -> {'a': 2}\n",
    "# ...\n"
   ]
  },
  {
   "cell_type": "code",
   "execution_count": 152,
   "metadata": {
    "collapsed": false,
    "deletable": true,
    "editable": true
   },
   "outputs": [
    {
     "data": {
      "text/plain": [
       "{'a': 3, 'b': 2, 'c': 3}"
      ]
     },
     "execution_count": 152,
     "metadata": {},
     "output_type": "execute_result"
    }
   ],
   "source": [
    "reduce(lambda r, e: r.update({e: r.get(e, 0) + 1}) or r, data, {})"
   ]
  },
  {
   "cell_type": "code",
   "execution_count": null,
   "metadata": {
    "collapsed": false,
    "deletable": true,
    "editable": true
   },
   "outputs": [],
   "source": []
  },
  {
   "cell_type": "code",
   "execution_count": null,
   "metadata": {
    "collapsed": true,
    "deletable": true,
    "editable": true
   },
   "outputs": [],
   "source": []
  },
  {
   "cell_type": "code",
   "execution_count": null,
   "metadata": {
    "collapsed": true,
    "deletable": true,
    "editable": true
   },
   "outputs": [],
   "source": []
  },
  {
   "cell_type": "code",
   "execution_count": null,
   "metadata": {
    "collapsed": true,
    "deletable": true,
    "editable": true
   },
   "outputs": [],
   "source": []
  }
 ],
 "metadata": {
  "kernelspec": {
   "display_name": "Python 3",
   "language": "python",
   "name": "python3"
  },
  "language_info": {
   "codemirror_mode": {
    "name": "ipython",
    "version": 3
   },
   "file_extension": ".py",
   "mimetype": "text/x-python",
   "name": "python",
   "nbconvert_exporter": "python",
   "pygments_lexer": "ipython3",
   "version": "3.6.0"
  }
 },
 "nbformat": 4,
 "nbformat_minor": 2
}
