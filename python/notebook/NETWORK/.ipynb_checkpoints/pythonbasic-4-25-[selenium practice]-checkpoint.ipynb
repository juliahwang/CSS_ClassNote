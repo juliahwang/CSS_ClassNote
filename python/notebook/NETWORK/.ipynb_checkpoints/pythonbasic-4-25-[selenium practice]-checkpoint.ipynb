{
 "cells": [
  {
   "cell_type": "code",
   "execution_count": 25,
   "metadata": {
    "collapsed": false
   },
   "outputs": [
    {
     "name": "stdout",
     "output_type": "stream",
     "text": [
      "MacBook Air 2016 release date, news and features | TechRadar\n",
      "MacBook Air 식별 방법 - Apple 지원\n",
      "Don't buy Apple's MacBook Air - Business Insider\n",
      "MacBook Air Late 2016 | MacRumors Forums\n",
      "New MacBook Air News: Price, Release Date, Features & Specs ...\n",
      "Watch: Apple's 2016 MacBook vs. 2015 13\" MacBook Air in head-to ...\n",
      "macbook air 2016 late 관련 이미지\n",
      "MacBook Air - Wikipedia\n",
      "Apple MacBook Air 13in (2016) review | Stuff\n",
      "Which MacBook Should I Buy? | The Wirecutter\n"
     ]
    }
   ],
   "source": [
    "# 셀레늄은 한 블록에서 실행하는 것이 좋다. \n",
    "\n",
    "# 안정적으로 진행하려면\n",
    "# [ff_driver.implicitly_wait(10)]를 액션마다 넣어준다. \n",
    "import os\n",
    "from selenium import webdriver\n",
    "from selenium.webdriver.support.ui import WebDriverWait\n",
    "from selenium.webdriver.support import expected_conditions as EC\n",
    "from selenium.webdriver.common.by import By\n",
    "\n",
    "\n",
    "ff_driver = webdriver.Firefox()\n",
    "ff_driver.get(\"https://www.google.com\")\n",
    "# get요청을 보내 파이어폭스로 구글페이지를 연다.\n",
    "\n",
    "query = ff_driver.find_element_by_id(\"lst-ib\")\n",
    "query.send_keys(\"macbook_air 2016\")\n",
    "#검색어를 파이어폭스에 key의 형태로 넘겨준다.\n",
    "ff_driver.implicitly_wait(10)\n",
    "# 검색어가 완전히 검색될 때까지 10ms를 기다리면 훨씬 안정적으로 크롤링 가능.\n",
    "\n",
    "ff_driver.find_element_by_name(\"btnK\").click()\n",
    "#사용자가 google search 버튼을 클릭하는 경우\n",
    "\n",
    "ff_driver.implicitly_wait(10)\n",
    "#페이지가 상당히 빠르게 이동하므로 wait를 중간중간에 걸어둔다.\n",
    "#ms 단위로 기다리게 할 수 있다.\n",
    "\n",
    "#요소검사에서 - 복사하고 싶은 url을 xPATH(=css경로)를 복사해준다.\n",
    "RESULT_LOCATOR = \"//div/h3/a\"\n",
    "\n",
    "WebDriverWait(ff_driver, 10).until(\n",
    "    EC.visibility_of_element_located((By.XPATH, RESULT_LOCATOR)))\n",
    "page1_results = ff_driver.find_elements(By.XPATH, RESULT_LOCATOR)\n",
    "for item in page1_results:\n",
    "    print(item.text)"
   ]
  },
  {
   "cell_type": "code",
   "execution_count": 22,
   "metadata": {
    "collapsed": false
   },
   "outputs": [],
   "source": [
    "'''\n",
    "geckodriver - 파이어폭스 브라우저 실행/제어하는 드라이버\n",
    "chromedriver - 크롬 브라우저 실행/제어하는 드라이버\n",
    "둘 다 사용 가능.\n",
    "'''"
   ]
  },
  {
   "cell_type": "code",
   "execution_count": 38,
   "metadata": {
    "collapsed": false
   },
   "outputs": [],
   "source": [
    "import os\n",
    "from selenium import webdriver\n",
    "from selenium.webdriver.support.ui import WebDriverWait\n",
    "from selenium.webdriver.support import expected_conditions as EC\n",
    "from selenium.webdriver.common.by import By\n",
    "\n",
    "# 네이버 로그인\n",
    "ff_driver = webdriver.Firefox()\n",
    "ff_driver.get(\"https://nid.naver.com/nidlogin.login\")   # 네이버로그인창주소\n",
    "ff_driver.implicitly_wait(10)\n",
    "\n",
    "username = ff_driver.find_element_by_id(\"id\")\n",
    "password = ff_driver.find_element_by_id(\"pw\")\n",
    "\n",
    "username.send_keys(\"lovecar119\")\n",
    "password.send_keys(\"autotag13576\")\n",
    "ff_driver.implicitly_wait(10)\n",
    "\n",
    "ff_driver.find_element_by_class_name(\"btn_global\").click()\n",
    "ff_driver.implicitly_wait(10)\n",
    "\n",
    "\n",
    "# 중고나라에서 검색결과값 가져오기\n",
    "ff_driver.get(\"http://cafe.naver.com/joonggonara\")\n",
    "query = \"맥북에어\"\n",
    "ff_driver.find_element_by_css_selector(\"#topLayerQueryInput\").send_keys(query)\n",
    "# css셀렉터를 이용하여 검색창 찾기 id = # , class = . 위는 id를 불러온 것.\n",
    "ff_driver.execute_script(\"searchBoard();\")\n",
    "# 요소검사 중 onkeydown=\"if (event.keyCode==13)\" -> enter키를 친 경우\n",
    "\n",
    "\n",
    "# 검색 게시판은 html안에 또다른 html로 구성되어 있다. (iframe)\n",
    "# 셀레늄을 통해 iframe 중 cafe_main이라는 id(css셀렉터: #)로 이동한다. \n",
    "ff_driver.switch_to_frame(ff_driver.find_element_by_css_selector(\"iframe#cafe_main\"))\n",
    "# iframe안에 들어왔으면 board-list클래스 내의 m-tcol-c를 클래스로 가지는 텍스트를 가져온다.\n",
    "post_elements = ff_driver.find_elements(By.TAG_NAME, \"td.board-list .m-tcol-c\")\n",
    "len(post_elements)"
   ]
  },
  {
   "cell_type": "code",
   "execution_count": 37,
   "metadata": {
    "collapsed": false
   },
   "outputs": [
    {
     "name": "stdout",
     "output_type": "stream",
     "text": [
      "맥북에어11인치 2012년 고급형 판매합니다.\n",
      "[공식앱] 맥북에어(MacBook Air)2012 11인치 상태A++팝니다.\n",
      "[공식앱] 맥북에어(MacBook Air)2012 11인치 상태A++팝니다.\n",
      "맥북 에어 2015 13인치 cto 팝니다.\n",
      "깨끗한 맥북에어 2015 early 13인치 기본형 판매합니다\n",
      "맥북에어용 슈퍼드라이브 팝니다. 4만!!\n",
      "맥북에어 13인치 2013 256GB\n",
      "맥북에어 11.6인치 팔아요\n",
      "맥북에어 13인치 2012 팝니다[35만]\n",
      "맥북에어 2013 Mid 13인치 CTO 모델 (CPU : i7 , RAM : 8G, SSD : 128G) 찍힘있음\n",
      "맥북에어 2014 13인치 기본형\n",
      "맥북에어 2015early 팝니다.\n",
      "맥북에어13인치 2010년 cto (4g ram) 팝니다.\n",
      "맥북 에어 2015(9613)\n",
      "[ 판매 중 ] 맥북에어 13인치 Early 2014 128GB\n"
     ]
    }
   ],
   "source": [
    "for item in post_elements:\n",
    "    print(item.text)"
   ]
  },
  {
   "cell_type": "code",
   "execution_count": null,
   "metadata": {
    "collapsed": true
   },
   "outputs": [],
   "source": []
  }
 ],
 "metadata": {
  "kernelspec": {
   "display_name": "Python 3",
   "language": "python",
   "name": "python3"
  },
  "language_info": {
   "codemirror_mode": {
    "name": "ipython",
    "version": 3
   },
   "file_extension": ".py",
   "mimetype": "text/x-python",
   "name": "python",
   "nbconvert_exporter": "python",
   "pygments_lexer": "ipython3",
   "version": "3.6.0"
  }
 },
 "nbformat": 4,
 "nbformat_minor": 2
}
