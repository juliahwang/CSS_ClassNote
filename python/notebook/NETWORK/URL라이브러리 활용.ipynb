{
 "cells": [
  {
   "cell_type": "code",
   "execution_count": 1,
   "metadata": {
    "collapsed": true
   },
   "outputs": [],
   "source": [
    "from urllib.request import urlopen"
   ]
  },
  {
   "cell_type": "code",
   "execution_count": 2,
   "metadata": {
    "collapsed": true
   },
   "outputs": [],
   "source": [
    "response = urlopen(\"https://www.google.com\")"
   ]
  },
  {
   "cell_type": "code",
   "execution_count": 3,
   "metadata": {
    "collapsed": false
   },
   "outputs": [
    {
     "data": {
      "text/plain": [
       "<http.client.HTTPResponse at 0x10e89fe48>"
      ]
     },
     "execution_count": 3,
     "metadata": {},
     "output_type": "execute_result"
    }
   ],
   "source": [
    "response\n",
    "# http 프로토콜을 이용하였고 response"
   ]
  },
  {
   "cell_type": "code",
   "execution_count": 4,
   "metadata": {
    "collapsed": false
   },
   "outputs": [
    {
     "data": {
      "text/plain": [
       "b'<!doctype html><html itemscope=\"\" itemtype=\"http://schema.org/WebPage\" lang=\"ko\"><head><meta content=\"text/html; charset=UTF-8\" http-equiv=\"Content-Type\"><meta content=\"/images/branding/googleg/1x/googleg_standard_color_128dp.png\" itemprop=\"image\"><title>Google</title><script>(function(){window.google={kEI:\\'sKX5WJuZFoyb8wW1yrmIBg\\',kEXPI:\\'201761,1352864,1352994,1353038,1353108,3700266,3700347,3700405,4029815,4031109,4032678,4036527,4039268,4040135,4043492,4045841,4048347,4061945,4065787,4071843,4072364,4072776,4076095,4076999,4078430,4079423,4081038,4081164,4083458,4085180,4090550,4090553,4090806,4092182,4092934,4093314,4093499,4094251,4094544,4094837,4095557,4095558,4095910,4095999,4096209,4096324,4096393,4097153,4098721,4098728,4098752,4099829,4099964,4100121,4100128,4100169,4100380,4100825,4101376,4101429,4101654,4101684,4101750,4102020,4102032,4102090,4102099,4102831,4103475,4103849,4103999,4104723,4105085,4105240,4105318,4105470,4105649,4106472,4106949,4107428,4107437,4107450,4107453,4107553,4107628,4107866,4107899,4107956,4107968,4107988,8503585,8507380,8508229,8508707,8508931,8509037,8509373,8509826,10200083,19002006,19002011,19002022,19002023,19002025,41027342\\',authuser:0,kscs:\\'c9c918f0_24\\'};google.kHL=\\'ko\\';})();(function(){google.lc=[];google.li=0;google.getEI=function(a){for(var b;a&&(!a.getAttribute||!(b=a.getAttribute(\"eid\")));)a=a.parentNode;return b||google.kEI};google.getLEI=function(a){for(var b=null;a&&(!a.getAttribute||!(b=a.getAttribute(\"leid\")));)a=a.parentNode;return b};google.https=function(){return\"https:\"==window.location.protocol};google.ml=function(){return null};google.wl=function(a,b){try{google.ml(Error(a),!1,b)}catch(c){}};google.time=function(){return(new Date).getTime()};google.log=function(a,b,c,d,g){a=google.logUrl(a,b,c,d,g);if(\"\"!=a){b=new Image;var e=google.lc,f=google.li;e[f]=b;b.onerror=b.onload=b.onabort=function(){delete e[f]};window.google&&window.google.vel&&window.google.vel.lu&&window.google.vel.lu(a);b.src=a;google.li=f+1}};google.logUrl=function(a,b,c,d,g){var e=\"\",f=google.ls||\"\";c||-1!=b.search(\"&ei=\")||(e=\"&ei=\"+google.getEI(d),-1==b.search(\"&lei=\")&&(d=google.getLEI(d))&&(e+=\"&lei=\"+d));a=c||\"/\"+(g||\"gen_204\")+\"?atyp=i&ct=\"+a+\"&cad=\"+b+e+f+\"&zx=\"+google.time();/^http:/i.test(a)&&google.https()&&(google.ml(Error(\"a\"),!1,{src:a,glmm:1}),a=\"\");return a};google.y={};google.x=function(a,b){google.y[a.id]=[a,b];return!1};google.lq=[];google.load=function(a,b,c){google.lq.push([[a],b,c])};google.loadAll=function(a,b){google.lq.push([a,b])};}).call(this);var a=window.location,b=a.href.indexOf(\"#\");if(0<=b){var c=a.href.substring(b+1);/(^|&)q=/.test(c)&&-1==c.indexOf(\"#\")&&a.replace(\"/search?\"+c.replace(/(^|&)fp=[^&]*/g,\"\")+\"&cad=h\")};</script><style>#gbar,#guser{font-size:13px;padding-top:1px !important;}#gbar{height:22px}#guser{padding-bottom:7px !important;text-align:right}.gbh,.gbd{border-top:1px solid #c9d7f1;font-size:1px}.gbh{height:0;position:absolute;top:24px;width:100%}@media all{.gb1{height:22px;margin-right:.5em;vertical-align:top}#gbar{float:left}}a.gb1,a.gb4{text-decoration:underline !important}a.gb1,a.gb4{color:#00c !important}.gbi .gb4{color:#dd8e27 !important}.gbf .gb4{color:#900 !important}\\n'"
      ]
     },
     "execution_count": 4,
     "metadata": {},
     "output_type": "execute_result"
    }
   ],
   "source": [
    "response.readline()\n",
    "# python에서는 무조건 byte통신을 한다. "
   ]
  },
  {
   "cell_type": "code",
   "execution_count": 5,
   "metadata": {
    "collapsed": false
   },
   "outputs": [
    {
     "data": {
      "text/plain": [
       "'https://www.google.co.kr/?gfe_rd=cr&ei=sKX5WL-tDNLEXoHXj_AJ'"
      ]
     },
     "execution_count": 5,
     "metadata": {},
     "output_type": "execute_result"
    }
   ],
   "source": [
    "response.url\n",
    "# jupyter 로컬호스트를 사용하고 있으나 인터넷 연결이 되어 있지 않으면 아래 값을 받을 수 없다."
   ]
  },
  {
   "cell_type": "code",
   "execution_count": 6,
   "metadata": {
    "collapsed": false
   },
   "outputs": [
    {
     "data": {
      "text/plain": [
       "200"
      ]
     },
     "execution_count": 6,
     "metadata": {},
     "output_type": "execute_result"
    }
   ],
   "source": [
    "response.status\n",
    "# 200, 300 - 정상동작\n",
    "# 301 - 페이지가 바뀐 경우\n",
    "# 400 - 404 fage not found\n",
    "# 500 - 서버가 망가진 경우 "
   ]
  },
  {
   "cell_type": "code",
   "execution_count": 8,
   "metadata": {
    "collapsed": true
   },
   "outputs": [],
   "source": [
    "# error handling\n",
    "\n",
    "from urllib.request import urlopen\n",
    "import urllib.error"
   ]
  },
  {
   "cell_type": "code",
   "execution_count": 10,
   "metadata": {
    "collapsed": false
   },
   "outputs": [
    {
     "name": "stdout",
     "output_type": "stream",
     "text": [
      "status  404\n",
      "reason  Not Found\n",
      "url  https://www.naver.com/sdjflkdsjalskdjiauosadfuoi\n"
     ]
    }
   ],
   "source": [
    "try:\n",
    "    urlopen(\"https://www.naver.com/sdjflkdsjalskdjiauosadfuoi\")\n",
    "    print('success')\n",
    "except urllib.error.HTTPError as e:\n",
    "    print('status ', e.code)\n",
    "    print('reason ', e.reason)\n",
    "    print('url ', e.url)"
   ]
  },
  {
   "cell_type": "code",
   "execution_count": 12,
   "metadata": {
    "collapsed": false
   },
   "outputs": [
    {
     "data": {
      "text/plain": [
       "[('Date', 'Fri, 21 Apr 2017 06:24:48 GMT'),\n",
       " ('Expires', '-1'),\n",
       " ('Cache-Control', 'private, max-age=0'),\n",
       " ('Content-Type', 'text/html; charset=EUC-KR'),\n",
       " ('P3P',\n",
       "  'CP=\"This is not a P3P policy! See https://www.google.com/support/accounts/answer/151657?hl=en for more info.\"'),\n",
       " ('Server', 'gws'),\n",
       " ('X-XSS-Protection', '1; mode=block'),\n",
       " ('X-Frame-Options', 'SAMEORIGIN'),\n",
       " ('Set-Cookie',\n",
       "  'NID=101=N6voZH4107dcnecd2BgTEAG9jm5ElhmMsYcgdDaM8-PLsJPqwwJg8Oil6bhQjca3uZfGFbf0QhA5i9-k10w4pfoMhYzn91XpVJ-Hrw8rJcSmgEw0w50qEzQXygpwPJbU; expires=Sat, 21-Oct-2017 06:24:48 GMT; path=/; domain=.google.co.kr; HttpOnly'),\n",
       " ('Alt-Svc', 'quic=\":443\"; ma=2592000; v=\"37,36,35\"'),\n",
       " ('Accept-Ranges', 'none'),\n",
       " ('Vary', 'Accept-Encoding'),\n",
       " ('Connection', 'close')]"
      ]
     },
     "execution_count": 12,
     "metadata": {},
     "output_type": "execute_result"
    }
   ],
   "source": [
    "response.getheaders()\n",
    "# response 안에 담겨있는 헤더 정보를 읽어올 수 있다."
   ]
  },
  {
   "cell_type": "code",
   "execution_count": null,
   "metadata": {
    "collapsed": true
   },
   "outputs": [],
   "source": []
  }
 ],
 "metadata": {
  "kernelspec": {
   "display_name": "Python 3",
   "language": "python",
   "name": "python3"
  },
  "language_info": {
   "codemirror_mode": {
    "name": "ipython",
    "version": 3
   },
   "file_extension": ".py",
   "mimetype": "text/x-python",
   "name": "python",
   "nbconvert_exporter": "python",
   "pygments_lexer": "ipython3",
   "version": "3.6.0"
  }
 },
 "nbformat": 4,
 "nbformat_minor": 2
}
