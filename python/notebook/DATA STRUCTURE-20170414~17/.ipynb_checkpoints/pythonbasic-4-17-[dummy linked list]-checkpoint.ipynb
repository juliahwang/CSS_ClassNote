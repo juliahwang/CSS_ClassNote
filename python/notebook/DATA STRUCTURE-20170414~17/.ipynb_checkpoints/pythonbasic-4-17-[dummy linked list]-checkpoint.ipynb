{
 "cells": [
  {
   "cell_type": "code",
   "execution_count": 3,
   "metadata": {
    "collapsed": false
   },
   "outputs": [
    {
     "data": {
      "text/plain": [
       "'\\n노드? \\n데이터가 저장되는 곳이며 참조가 붙어있는 것을 노드라 함.\\n저장하고 싶은 데이터 + 다음 노드를 가리키는 참조\\n(파이썬에서는 모든 변수가 객체를 참조)\\n\\n트리?\\n참조가 데이터 양쪽에 붙으면 트리\\n\\n'"
      ]
     },
     "execution_count": 3,
     "metadata": {},
     "output_type": "execute_result"
    }
   ],
   "source": [
    "'''\n",
    "노드? \n",
    "데이터가 저장되는 곳이며 참조가 붙어있는 것을 노드라 함.\n",
    "저장하고 싶은 데이터 + 다음 노드를 가리키는 참조\n",
    "(파이썬에서는 모든 변수가 객체를 참조)\n",
    "\n",
    "트리?\n",
    "참조가 데이터 양쪽에 붙으면 트리\n",
    "\n",
    "'''"
   ]
  },
  {
   "cell_type": "code",
   "execution_count": null,
   "metadata": {
    "collapsed": true
   },
   "outputs": [],
   "source": []
  },
  {
   "cell_type": "code",
   "execution_count": 4,
   "metadata": {
    "collapsed": false
   },
   "outputs": [
    {
     "data": {
      "text/plain": [
       "'\\n# Dummy linked list\\n# 힙 구현 : double linked list 이용하여 구현\\n더미란 실제 데이터를 담고 있는 노드가 아니라 \\n구현의 편의(if문을 생략하기 위해)를 위해 맨 앞에 두는 무의미한 노드입니다. \\n더미를 앞부분에 둘 경우 if문이 확 줄어든다. \\ndummy -> 1 -> 2 -> 3 -> None\\n\\n'"
      ]
     },
     "execution_count": 4,
     "metadata": {},
     "output_type": "execute_result"
    }
   ],
   "source": [
    "'''\n",
    "# Dummy linked list\n",
    "# 힙 구현 : double linked list 이용하여 구현\n",
    "더미란 실제 데이터를 담고 있는 노드가 아니라 \n",
    "구현의 편의(if문을 생략하기 위해)를 위해 맨 앞에 두는 무의미한 노드입니다. \n",
    "더미를 앞부분에 둘 경우 if문이 확 줄어든다. \n",
    "dummy -> 1   ->    2     -> None\n",
    "맨앞  ->현위치전->현재탐색위치 -> 맨뒤\n",
    "head   before -> current -> tail\n",
    "\n",
    "# Dummy linked list의 구현\n",
    "(1) insert - append()\n",
    "(2) search - first(), next()\n",
    "(3) delete - delete()\n",
    "\n",
    "'''"
   ]
  },
  {
   "cell_type": "code",
   "execution_count": 15,
   "metadata": {
    "collapsed": false
   },
   "outputs": [],
   "source": [
    "# Node 구현\n",
    "class Node:\n",
    "    def __init__(self, data):\n",
    "        self.data = data # 데이터 값 할당\n",
    "        self.next = None # 참조값은 일단 None으로 \n",
    "\n",
    "        \n",
    "# 메소드 구현 - 생성자 \n",
    "class LinkedList():\n",
    "    def __init__(self):\n",
    "        dummy = Node(\"dummy\")\n",
    "        \n",
    "        self.head = dummy\n",
    "        self.tail = dummy\n",
    "            \n",
    "        self.current = None\n",
    "        self.before = None \n",
    "            \n",
    "        self.num_of_data = 0\n",
    "        #----생성자 구현 끝---#\n",
    "            \n",
    "# insert 메소드 구현 - append()\n",
    "    def append(self, data):\n",
    "        new_node = Node(data)      # 새로운 데이터 생성\n",
    "        self.tail.next = new_node  # binding : tail의 참조로 새로운 데이터에 연결 \n",
    "        self.tail = new_node       # tail옮기기\n",
    "        self.num_of_data += 1      # 데이터 갯수 1증가\n",
    "        \n",
    "        \n",
    "# search 메소드 구현 - first() and next() \n",
    "    def first(self):     # 첫번째 데이터에 접근하는 함수\n",
    "        if self.num_of_data == 0:\n",
    "            return None\n",
    "        \n",
    "        self.before = self.head\n",
    "        self.current = self.head.next\n",
    "        \n",
    "        return self.current.data\n",
    "        #----first() 구현 끝----#\n",
    "        \n",
    "    def next_(self):\n",
    "        if self.current.next == None:    # if not self.current.next: 와 같다.\n",
    "            return None\n",
    "        \n",
    "        self.before = self.current\n",
    "        self.current = self.current.next\n",
    "        \n",
    "        return self.current.data\n",
    "    \n",
    "    def delete(self):\n",
    "        ret_data = self.current.data     # 사용자에게 지우려는 값을 확인하기 위해.\n",
    "        \n",
    "        if self.current is self.tail:  # is - 같은 객체를 가르키고 있을 경우\n",
    "            self.tail = self.before\n",
    "        \n",
    "        self.before.next = self.current.next\n",
    "        self.current = self.before       # reference counting이 0이 되는 시점\n",
    "        self.num_of_data -= 1\n",
    "        \n",
    "        return ret_data\n",
    "        \n",
    "        \n",
    "# current와 before는 같은 위치를 가르키게 되어도 상관없다. \n",
    "# current 앞에 항상 before가 와야하는 규칙은 이때 코드 내에서 자동으로 구현된다. \n",
    "\n",
    "    def size(self):\n",
    "        return self.num_of_data"
   ]
  },
  {
   "cell_type": "code",
   "execution_count": 16,
   "metadata": {
    "collapsed": false
   },
   "outputs": [
    {
     "name": "stdout",
     "output_type": "stream",
     "text": [
      "the number of data: 0\n"
     ]
    }
   ],
   "source": [
    "d_list = LinkedList()\n",
    "\n",
    "print(\"the number of data: {}\".format(d_list.size()))"
   ]
  },
  {
   "cell_type": "code",
   "execution_count": 17,
   "metadata": {
    "collapsed": false
   },
   "outputs": [
    {
     "name": "stdout",
     "output_type": "stream",
     "text": [
      "2\n",
      "3   1   5   2   10   7   2   "
     ]
    }
   ],
   "source": [
    "# insert\n",
    "d_list.append(2)\n",
    "d_list.append(3)\n",
    "d_list.append(1)\n",
    "d_list.append(5)\n",
    "d_list.append(2)\n",
    "d_list.append(10)\n",
    "d_list.append(7)\n",
    "d_list.append(2)\n",
    "\n",
    "data = d_list.first()\n",
    "if data:\n",
    "    print(data)\n",
    "    while True:\n",
    "        data = d_list.next_()\n",
    "        if data:\n",
    "            print(data, end=\"   \")\n",
    "        else:\n",
    "            break"
   ]
  },
  {
   "cell_type": "code",
   "execution_count": 14,
   "metadata": {
    "collapsed": false
   },
   "outputs": [
    {
     "name": "stdout",
     "output_type": "stream",
     "text": [
      "deleted   3  1  5  deleted  10  7  deleted  deleted  3  1  5  deleted  10  7  deleted  deleted  3  1  5  deleted  10  7  deleted  "
     ]
    }
   ],
   "source": [
    "data = d_list.first()\n",
    "\n",
    "if data:\n",
    "    if data == 2:\n",
    "        d_list.delete()\n",
    "        print(\"deleted\", end='   ')\n",
    "        while True:\n",
    "            data = d_list.next_()\n",
    "            if data == 2:\n",
    "                d_list.delete()\n",
    "                print(\"deleted\", end='  ')\n",
    "            elif data:\n",
    "                print(data, end='  ')\n",
    "            else:\n",
    "                break\n",
    "\n",
    "# first()와 next()가 없다면? \n",
    "# 위 반복문에서 순회할 때 search하고 데이터 2를 지울때마다 다시 처음부터 순회를 해야한다. \n",
    "# 따라서 first함수와 next함수를 분리하여 delete()한 이후에도 다시 첨부터 돌아가서 연산 하지 않도록.\n",
    "\n",
    "# current"
   ]
  },
  {
   "cell_type": "code",
   "execution_count": null,
   "metadata": {
    "collapsed": true
   },
   "outputs": [],
   "source": []
  }
 ],
 "metadata": {
  "kernelspec": {
   "display_name": "Python 3",
   "language": "python",
   "name": "python3"
  },
  "language_info": {
   "codemirror_mode": {
    "name": "ipython",
    "version": 3
   },
   "file_extension": ".py",
   "mimetype": "text/x-python",
   "name": "python",
   "nbconvert_exporter": "python",
   "pygments_lexer": "ipython3",
   "version": "3.6.0"
  }
 },
 "nbformat": 4,
 "nbformat_minor": 2
}
