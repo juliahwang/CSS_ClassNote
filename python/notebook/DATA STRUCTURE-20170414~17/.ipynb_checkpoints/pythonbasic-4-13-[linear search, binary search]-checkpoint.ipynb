{
 "cells": [
  {
   "cell_type": "code",
   "execution_count": 4,
   "metadata": {
    "collapsed": true
   },
   "outputs": [],
   "source": [
    "# linear search - 성능평가\n",
    "# 알고리즘 성능평가 - worst case\n",
    "# \n",
    "def linear_search(target, data):\n",
    "    for i in range(len(data)):\n",
    "        if target == data[i]:\n",
    "            return i\n",
    "    return None"
   ]
  },
  {
   "cell_type": "code",
   "execution_count": 5,
   "metadata": {
    "collapsed": true
   },
   "outputs": [],
   "source": [
    "li = [4, 7, 1, 3, 12, 9, 42, 7,]\n",
    "# 리니어 서치는 순차적으로 값을 보내므로 정렬이 안되어있어도 상관없다.\n",
    "# 바이너리 서치는 리스트 변수가 정렬된 상태에서 시작해야한다. "
   ]
  },
  {
   "cell_type": "code",
   "execution_count": 10,
   "metadata": {
    "collapsed": false
   },
   "outputs": [
    {
     "name": "stdout",
     "output_type": "stream",
     "text": [
      "Data 2 is not in the list\n"
     ]
    }
   ],
   "source": [
    "target = 2\n",
    "idx = linear_search(target, li)\n",
    "if idx:\n",
    "    print(li[idx])\n",
    "else:\n",
    "    print(\"Data {} is not in the list\".format(target))\n",
    "    \n",
    "# 데이터가 있을 / 없을 경우 \n",
    "# \"{}\".format(들어갈변수) -> %s, %d 등 파이썬 2.7의 스트링 대입방법을 대체"
   ]
  },
  {
   "cell_type": "code",
   "execution_count": 37,
   "metadata": {
    "collapsed": true
   },
   "outputs": [],
   "source": [
    "# binary search 연습문제 \n",
    "# 정렬된 상태의 데이터 필요.\n",
    "# 바이너리 서치를 쓰려면 반드시 데이터가 정렬되어 있어야 합니다. \n",
    "    \n",
    "\n",
    "def binary_search(target, data):\n",
    "    start = 0\n",
    "    end = len(data) - 1\n",
    "    bi_mid = (start + end) // 2\n",
    "    \n",
    "    while True:\n",
    "        if target == data[bi_mid]:\n",
    "            return target\n",
    "            break\n",
    "        elif target > data[bi_mid]:\n",
    "            start = bi_mid + 1\n",
    "        else:\n",
    "            end = bi_mid - 1"
   ]
  },
  {
   "cell_type": "code",
   "execution_count": 51,
   "metadata": {
    "collapsed": false
   },
   "outputs": [],
   "source": [
    "# 해결코드 \n",
    "\n",
    "def binary_search_answer(target, data):\n",
    "    start = 0\n",
    "    end = len(data) - 1\n",
    "    \n",
    "    while start <= end:   # start가 항상 end보다 \"같거나\" 작을 때 연산을 계속한다.\n",
    "        mid = (start + end) // 2\n",
    "        \n",
    "        if target == data[mid]:\n",
    "            return mid\n",
    "        elif target > data[mid]:\n",
    "            start = mid + 1\n",
    "        elif target < data[mid]:\n",
    "            end = mid - 1\n",
    "    return None\n",
    "    # 함수를 나가려면 return None / break를 하면 while문만 빠져나간다."
   ]
  },
  {
   "cell_type": "code",
   "execution_count": 55,
   "metadata": {
    "collapsed": false
   },
   "outputs": [
    {
     "name": "stdout",
     "output_type": "stream",
     "text": [
      "4\n"
     ]
    }
   ],
   "source": [
    "data = [i for i in range(11)]\n",
    "target = 4\n",
    "\n",
    "idx = binary_search_answer(target, data)\n",
    "\n",
    "if idx:\n",
    "    print(data[idx])\n",
    "else:\n",
    "    print(\"Target {} is not in the data.\".format(target))"
   ]
  },
  {
   "cell_type": "code",
   "execution_count": null,
   "metadata": {
    "collapsed": false
   },
   "outputs": [],
   "source": []
  },
  {
   "cell_type": "code",
   "execution_count": null,
   "metadata": {
    "collapsed": true
   },
   "outputs": [],
   "source": []
  }
 ],
 "metadata": {
  "kernelspec": {
   "display_name": "Python 3",
   "language": "python",
   "name": "python3"
  },
  "language_info": {
   "codemirror_mode": {
    "name": "ipython",
    "version": 3
   },
   "file_extension": ".py",
   "mimetype": "text/x-python",
   "name": "python",
   "nbconvert_exporter": "python",
   "pygments_lexer": "ipython3",
   "version": "3.6.0"
  }
 },
 "nbformat": 4,
 "nbformat_minor": 2
}
