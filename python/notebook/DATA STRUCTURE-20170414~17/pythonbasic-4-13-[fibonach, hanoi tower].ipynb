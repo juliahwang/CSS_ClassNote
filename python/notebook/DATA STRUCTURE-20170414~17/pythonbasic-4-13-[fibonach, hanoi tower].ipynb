{
 "cells": [
  {
   "cell_type": "code",
   "execution_count": 4,
   "metadata": {
    "collapsed": false
   },
   "outputs": [
    {
     "data": {
      "text/plain": [
       "55"
      ]
     },
     "execution_count": 4,
     "metadata": {},
     "output_type": "execute_result"
    }
   ],
   "source": [
    "# 재귀함수\n",
    "# 함수 정의 내에 같은 이름의 함수가 나올 때 이를 재귀함수라 합니다.\n",
    "# 단, \"탈출 조건\"이 있어서 나오는 타이밍이 있어야 한다. (stack이 터지는 걸 막아야 하므로)\n",
    "# 재귀함수는 \"같은 행위가 반복될 때\" 짤 수 있다.\n",
    "\n",
    "# 피보나치 수열 - 재귀함수\n",
    "def fibo(n):\n",
    "    if n == 0 or n == 1:\n",
    "        return 1\n",
    "    return fibo(n-2) + fibo(n-1)\n",
    "\n",
    "fibo(9)"
   ]
  },
  {
   "cell_type": "code",
   "execution_count": 5,
   "metadata": {
    "collapsed": false
   },
   "outputs": [
    {
     "name": "stdout",
     "output_type": "stream",
     "text": [
      "1  1  2  3  5  8  13  21  34  55  "
     ]
    }
   ],
   "source": [
    "# 위 식의 연산과정을 보려면 for문 사용.\n",
    "\n",
    "for i in range(10):\n",
    "    print(fibo(i), end = '  ')"
   ]
  },
  {
   "cell_type": "code",
   "execution_count": 10,
   "metadata": {
    "collapsed": false
   },
   "outputs": [
    {
     "data": {
      "text/plain": [
       "55"
      ]
     },
     "execution_count": 10,
     "metadata": {},
     "output_type": "execute_result"
    }
   ],
   "source": [
    "# 0~n  \n",
    "def sum_recursion(n):\n",
    "    if n == 0:\n",
    "        return 0\n",
    "    \n",
    "    return sum_recursion(n-1) + n\n",
    "\n",
    "sum_recursion(10)\n",
    "\n",
    "\n",
    "# blocking - 리턴값을 받기 전까지 재연산(n + 1)을 하지 못한다. (모든 언어에 공통적용)\n",
    "# 함수의 실행이 끝나기 전까지는 연산이 불가능하다. 따라서 탈출 조건(n = 0)에 다다를 때까지 depth가 생기고,\n",
    "# n이 0이 되는 순간 스택프레임이 사라지면서 depth를 거슬러 올라와 return값을 내면서 함수를 끝낸다.\n",
    "# 예외 ) node.js - 블로킹 무시. 더블클릭을 하므로 데이터, 그림 등 받는 자료를 합쳐서 화면을 먼저 띄우는 비동기방식을 사용"
   ]
  },
  {
   "cell_type": "code",
   "execution_count": null,
   "metadata": {
    "collapsed": true
   },
   "outputs": [],
   "source": [
    "# 0 ~ 100,000,000까지 더하는 프로그램\n",
    "# 1. for문, while문 금지\n",
    "# 2. recursion : 폭망. stackoverflow\n",
    "# 3. 등차수열!!"
   ]
  },
  {
   "cell_type": "code",
   "execution_count": 11,
   "metadata": {
    "collapsed": true
   },
   "outputs": [],
   "source": [
    "# 피보나치 수열 - generater\n"
   ]
  },
  {
   "cell_type": "code",
   "execution_count": 13,
   "metadata": {
    "collapsed": false
   },
   "outputs": [
    {
     "name": "stdout",
     "output_type": "stream",
     "text": [
      "a에서 c로 1번째 쟁반 이동\n",
      "a에서 b로 2번째 쟁반 이동\n",
      "c에서 b로 1번째 쟁반 이동\n",
      "a에서 c로 3번째 쟁반 이동\n",
      "b에서 a로 1번째 쟁반 이동\n",
      "b에서 c로 2번째 쟁반 이동\n",
      "a에서 c로 1번째 쟁반 이동\n"
     ]
    }
   ],
   "source": [
    "# hanoi tower\n",
    "# n, n-1, n-2, ... , 1\n",
    "\n",
    "def hanoi_tower(n, _from, _by, _to):\n",
    "        if n == 1:  # 탈출조건\n",
    "            print(\"{}에서 {}로 {}번째 쟁반 이동\".format(_from, _to, n))\n",
    "            return\n",
    "        \n",
    "        hanoi_tower(n-1, _from, _to, _by)\n",
    "        print(\"{}에서 {}로 {}번째 쟁반 이동\".format(_from, _to, n))\n",
    "        hanoi_tower(n-1, _by, _from, _to)\n",
    "\n",
    "hanoi_tower(3, 'a', 'b', 'c')"
   ]
  },
  {
   "cell_type": "code",
   "execution_count": null,
   "metadata": {
    "collapsed": true
   },
   "outputs": [],
   "source": []
  },
  {
   "cell_type": "code",
   "execution_count": null,
   "metadata": {
    "collapsed": true
   },
   "outputs": [],
   "source": []
  },
  {
   "cell_type": "code",
   "execution_count": null,
   "metadata": {
    "collapsed": true
   },
   "outputs": [],
   "source": []
  },
  {
   "cell_type": "code",
   "execution_count": null,
   "metadata": {
    "collapsed": true
   },
   "outputs": [],
   "source": []
  },
  {
   "cell_type": "code",
   "execution_count": null,
   "metadata": {
    "collapsed": true
   },
   "outputs": [],
   "source": []
  },
  {
   "cell_type": "code",
   "execution_count": null,
   "metadata": {
    "collapsed": true
   },
   "outputs": [],
   "source": []
  },
  {
   "cell_type": "code",
   "execution_count": null,
   "metadata": {
    "collapsed": true
   },
   "outputs": [],
   "source": []
  }
 ],
 "metadata": {
  "kernelspec": {
   "display_name": "Python 3",
   "language": "python",
   "name": "python3"
  },
  "language_info": {
   "codemirror_mode": {
    "name": "ipython",
    "version": 3
   },
   "file_extension": ".py",
   "mimetype": "text/x-python",
   "name": "python",
   "nbconvert_exporter": "python",
   "pygments_lexer": "ipython3",
   "version": "3.6.0"
  }
 },
 "nbformat": 4,
 "nbformat_minor": 2
}
