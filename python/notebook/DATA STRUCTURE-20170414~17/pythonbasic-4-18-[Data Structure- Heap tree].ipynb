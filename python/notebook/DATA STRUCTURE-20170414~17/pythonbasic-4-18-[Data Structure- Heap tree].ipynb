{
 "cells": [
  {
   "cell_type": "code",
   "execution_count": null,
   "metadata": {
    "collapsed": true
   },
   "outputs": [],
   "source": [
    "class Heap:\n",
    "    # 부모인덱스 구하기\n",
    "    def get_parent_idx(self, idx):\n",
    "        pass\n",
    "    \n",
    "    def get_left_child_idx(self, idx):\n",
    "        pass\n",
    "    \n",
    "    def get_right_child_idx(self, idx):\n",
    "        pass\n",
    "    \n",
    "    def __init__(self, s_min_max = \"min\"):\n",
    "        self.dynamic_arr = [None, ]\n",
    "        self.num_of_data = 0\n",
    "        \n",
    "    \n",
    "    def is_empty(self):\n",
    "        pass\n",
    "    \n",
    "    def size(self):\n",
    "        pass\n",
    "    \n",
    "    \n",
    "    def insert(self, data):\n",
    "        pass\n",
    "    \n",
    "    # 단말노드면 None, 아니면 우선순위가 높은 자식노드의 인덱스를 구하는 함수  \n",
    "    def which_is_prior_child(self, idx):\n",
    "        pass\n",
    "    \n",
    "    def delete(self):\n",
    "        pass\n",
    "    \n",
    "\n",
    "#testcode\n",
    "# 트리 그려보기 \n",
    "# delete 함수 출력하면 최소값부터 정렬되어 나옴"
   ]
  }
 ],
 "metadata": {
  "kernelspec": {
   "display_name": "Python 3",
   "language": "python",
   "name": "python3"
  },
  "language_info": {
   "codemirror_mode": {
    "name": "ipython",
    "version": 3
   },
   "file_extension": ".py",
   "mimetype": "text/x-python",
   "name": "python",
   "nbconvert_exporter": "python",
   "pygments_lexer": "ipython3",
   "version": "3.6.0"
  }
 },
 "nbformat": 4,
 "nbformat_minor": 2
}
