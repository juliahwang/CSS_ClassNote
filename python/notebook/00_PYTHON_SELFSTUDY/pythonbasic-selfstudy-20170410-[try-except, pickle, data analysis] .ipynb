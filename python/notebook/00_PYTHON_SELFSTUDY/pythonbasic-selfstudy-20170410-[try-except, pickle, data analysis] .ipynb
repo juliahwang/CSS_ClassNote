{
 "cells": [
  {
   "cell_type": "code",
   "execution_count": 1,
   "metadata": {
    "collapsed": true
   },
   "outputs": [],
   "source": [
    "# 데이터셋 만들기\n",
    "f = open(\"abc.txt\", 'wb')"
   ]
  },
  {
   "cell_type": "code",
   "execution_count": 5,
   "metadata": {
    "collapsed": true
   },
   "outputs": [],
   "source": [
    "import pickle"
   ]
  },
  {
   "cell_type": "code",
   "execution_count": 6,
   "metadata": {
    "collapsed": true
   },
   "outputs": [],
   "source": [
    "pickle.dump?"
   ]
  },
  {
   "cell_type": "code",
   "execution_count": 2,
   "metadata": {
    "collapsed": true
   },
   "outputs": [],
   "source": [
    "data = [\n",
    "    {'greg': 95},\n",
    "    {'tom': 85},\n",
    "    {'sara': 56},\n",
    "]"
   ]
  },
  {
   "cell_type": "code",
   "execution_count": 7,
   "metadata": {
    "collapsed": false
   },
   "outputs": [],
   "source": [
    "for d in data:\n",
    "    pickle.dump(d, f)"
   ]
  },
  {
   "cell_type": "code",
   "execution_count": 8,
   "metadata": {
    "collapsed": true
   },
   "outputs": [],
   "source": [
    "f.close()"
   ]
  },
  {
   "cell_type": "code",
   "execution_count": 9,
   "metadata": {
    "collapsed": true
   },
   "outputs": [],
   "source": [
    "fp = open(\"abc.txt\", 'rb')"
   ]
  },
  {
   "cell_type": "code",
   "execution_count": 10,
   "metadata": {
    "collapsed": false
   },
   "outputs": [
    {
     "name": "stdout",
     "output_type": "stream",
     "text": [
      "[{'greg': 95}, {'tom': 85}, {'sara': 56}]\n"
     ]
    }
   ],
   "source": [
    "result = []\n",
    "for i in range(3):\n",
    "    result.append(pickle.load(fp))\n",
    "print(result)"
   ]
  },
  {
   "cell_type": "code",
   "execution_count": 11,
   "metadata": {
    "collapsed": false
   },
   "outputs": [
    {
     "name": "stdout",
     "output_type": "stream",
     "text": [
      "[{'greg': 95}, {'john': 25}, {'yang': 50}, {'timothy': 15}, {'melisa': 100}, {'thor': 10}, {'elen': 25}, {'mark': 80}, {'steve': 95}, {'anna': 20}]\n"
     ]
    }
   ],
   "source": [
    "# 피클의 예외처리 데이터 불러오기 \n",
    "\n",
    "fp2 = open(\"class_A.bin\", 'rb')\n",
    "pickle_list = []\n",
    "while True:\n",
    "    try:\n",
    "        data = pickle.load(fp2)\n",
    "        pickle_list.append(data)\n",
    "    except EOFError:\n",
    "        break\n",
    "print(pickle_list)"
   ]
  },
  {
   "cell_type": "code",
   "execution_count": 13,
   "metadata": {
    "collapsed": false
   },
   "outputs": [
    {
     "name": "stdout",
     "output_type": "stream",
     "text": [
      "[b'\\x80\\x03}q\\x00X\\x04\\x00\\x00\\x00gregq\\x01K_s.\\x80\\x03}q\\x00X\\x04\\x00\\x00\\x00johnq\\x01K\\x19s.\\x80\\x03}q\\x00X\\x04\\x00\\x00\\x00yangq\\x01K2s.\\x80\\x03}q\\x00X\\x07\\x00\\x00\\x00timothyq\\x01K\\x0fs.\\x80\\x03}q\\x00X\\x06\\x00\\x00\\x00melisaq\\x01Kds.\\x80\\x03}q\\x00X\\x04\\x00\\x00\\x00thorq\\x01K\\n', b's.\\x80\\x03}q\\x00X\\x04\\x00\\x00\\x00elenq\\x01K\\x19s.\\x80\\x03}q\\x00X\\x04\\x00\\x00\\x00markq\\x01KPs.\\x80\\x03}q\\x00X\\x05\\x00\\x00\\x00steveq\\x01K_s.\\x80\\x03}q\\x00X\\x04\\x00\\x00\\x00annaq\\x01K\\x14s.']\n"
     ]
    }
   ],
   "source": [
    "fp3 = open(\"class_A.bin\", 'rb')\n",
    "dataset = []\n",
    "while True:\n",
    "        data = fp3.readline()\n",
    "        if data:\n",
    "            dataset.append(data)\n",
    "        else:\n",
    "            break\n",
    "print(dataset)"
   ]
  },
  {
   "cell_type": "code",
   "execution_count": null,
   "metadata": {
    "collapsed": true
   },
   "outputs": [],
   "source": [
    "# data analysis\n",
    "\n",
    "def average(scores):\n",
    "    return reduce(lambda a, b: a + b, scores)/len(scores)\n",
    "\n",
    "def variance(scores):\n",
    "    return reduce(lambda a, b: )"
   ]
  }
 ],
 "metadata": {
  "kernelspec": {
   "display_name": "Python 3",
   "language": "python",
   "name": "python3"
  },
  "language_info": {
   "codemirror_mode": {
    "name": "ipython",
    "version": 3
   },
   "file_extension": ".py",
   "mimetype": "text/x-python",
   "name": "python",
   "nbconvert_exporter": "python",
   "pygments_lexer": "ipython3",
   "version": "3.6.0"
  }
 },
 "nbformat": 4,
 "nbformat_minor": 2
}
