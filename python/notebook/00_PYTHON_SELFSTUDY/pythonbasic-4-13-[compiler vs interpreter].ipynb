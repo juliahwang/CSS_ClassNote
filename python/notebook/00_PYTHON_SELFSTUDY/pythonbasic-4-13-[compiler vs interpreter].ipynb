{
 "cells": [
  {
   "cell_type": "code",
   "execution_count": 1,
   "metadata": {
    "collapsed": false
   },
   "outputs": [
    {
     "data": {
      "text/plain": [
       "'\\n4/13 part2\\nprocess vs thread\\nmultithread\\nrace condition\\nmutual exclusion\\n\\n'"
      ]
     },
     "execution_count": 1,
     "metadata": {},
     "output_type": "execute_result"
    }
   ],
   "source": [
    "'''\n",
    "4/13\n",
    "compiler vs interpreter\n",
    "instructions(어셈블리어) vs register\n",
    "memory segments\n",
    "virtual memory\n",
    "operand stack --> virtual machine의 작동원리\n",
    "'''\n",
    "\n",
    "'''\n",
    "4/13 part2\n",
    "process vs thread\n",
    "multithread\n",
    "race condition\n",
    "mutual exclusion\n",
    "\n",
    "'''\n",
    "\n",
    "# compiler vs interpreter\n",
    "# 1. 컴파일 시점이 다르다.\n",
    "#    어떤 언어나 기계어를 실행하는 것이 최종목적. 컴파일언어는(c)는 컴파일 시점이 실행 이전, 인터프리터(python)은 실행 이후이다.\n",
    "#    c - 이미 프로그램 실행 전에 컴파일(2진수변환)이 완료되어 있다. 그 컴파일이 완료된 파일을 클릭하여 실행하는 것이 컴파일러 언어이다. \n",
    "#        ##컴파일러의 작동원리##\n",
    "#        컴파일러도 실행파일. c코드 -컴파일러-> 어셈블리어 -어셈블러-> 기계어(010101101...)\n",
    "#        어셈블리어와 기계어는 1:1 매칭이 된다. 따라서 어셈블리어를 이해한다면 기계어가 작동하는 방식도 이해할 수 있다. \n",
    "#        요즘에는 컴파일러와 어셈블러를 통합하여 컴파일러라고 통칭한다. \n",
    "#        c코드 -컴파일러-> 기계어\n",
    "#        여기서 기계어는 instruction이라고 한다 : 기계어로 된 명령들\n",
    "#        기계어를 다시 사람이 읽을 수 있는 어셈블리어로 변환하는 작업까지 추가가 되는데 이를 'Disassemble'이라고 한다.  \n",
    "#        성능테스트를 할 때 다시 변환하여 사용하곤 함. \n",
    "#        기계어(instructions) --링커--> .exe(실행파일) \n",
    "#        링커는 OS의존적이다. 링커는 기계어들을 실행파일로 만들면서 필요시 라이브러리를 가져다가 붙인다.\n",
    "#        MAC OS나 window에 따라 붙이는 방식이나 라이브러리 형태가 다르므로 os의존적이다.\n",
    "#        c코드 -컴파일러-> 어셈블리어 -어셈블러-> 기계어(010101101...) -링커-> .exe\n",
    "#                컴파일링(컴파일러+어셈블러)  <-디스어셈블-\n",
    "#                   컴파일 타임(기계어까지 바꾸는 시간, 컴파일 끝남)          런타임(.exe 실행파일을 더블클릭한 때부터 실행하는 시간)\n",
    "\n",
    "# 자바는 컴파일 타임에서 기계어가 아닌 바이트코드를 만들고, 런타임에서 기계어를 만든다. \n",
    "# 자바는 컴파일을 하긴 하지만 컴파일러 언어라고 하기에는 불충분한 언어임."
   ]
  },
  {
   "cell_type": "code",
   "execution_count": 2,
   "metadata": {
    "collapsed": true
   },
   "outputs": [],
   "source": [
    "import dis\n",
    "# dis = disassemble"
   ]
  },
  {
   "cell_type": "code",
   "execution_count": 3,
   "metadata": {
    "collapsed": true
   },
   "outputs": [],
   "source": [
    "def func(a, b):\n",
    "    c = a + b\n",
    "    return c"
   ]
  },
  {
   "cell_type": "code",
   "execution_count": 4,
   "metadata": {
    "collapsed": false
   },
   "outputs": [
    {
     "name": "stdout",
     "output_type": "stream",
     "text": [
      "  2           0 LOAD_FAST                0 (a)\n",
      "              2 LOAD_FAST                1 (b)\n",
      "              4 BINARY_ADD\n",
      "              6 STORE_FAST               2 (c)\n",
      "\n",
      "  3           8 LOAD_FAST                2 (c)\n",
      "             10 RETURN_VALUE\n"
     ]
    }
   ],
   "source": [
    "dis.dis(func)\n",
    "#               Byte code"
   ]
  },
  {
   "cell_type": "code",
   "execution_count": null,
   "metadata": {
    "collapsed": true
   },
   "outputs": [],
   "source": [
    "# compiler vs interpreter\n",
    "# 1. 컴파일 시점이 다르다.\n",
    "#    python - 코드를 텍스트 상태로 가져와 실행하는 시점이후부터 컴파일을 시작하는 것이 인터프리터 언어이다.    \n",
    "#             파이썬은 코드를 작성하고 실행하면 바로 런타임이 실행된다. \n",
    "#             파이썬도 자료처리를 하려면 마지막에는 기계어로 변환을 해야한다. \n",
    "#             런타임 도중에 렉서 - 파서 - 바이트코드 생성 -VM가동-> 기계어생성\n",
    "#             렉서 : 작성한 코드를 잘게 쪼갠다. \n",
    "#             파서 : ast(abstract syntax tree)작성. 렉서에서 쪼갠 단위들로 로직 구조를 만든다. \n",
    "#             이 모든 과정은 runtime 중에 일어나므로 python 같은 인터프리터 언어는 컴파일러 언어의 속도를 따라가지 못한다. \n",
    "#             ##어셈블리어 : CPU의존적, 기계어로 해석할 때 CPU에 따라 다른 어셈블리어가 나온다. \n",
    "#             ##바이트코드 : 가상머신(VM)에서 돌기 때문에 CPU에 상관없이 사용 가능하다. \n",
    "#                         대신 무조건 가상머신이 필요하다. \n",
    "#             native language(low-level(x)) - 어셈블리어, 기계어\n",
    "#             high-level language - c, c++,...."
   ]
  }
 ],
 "metadata": {
  "kernelspec": {
   "display_name": "Python 3",
   "language": "python",
   "name": "python3"
  },
  "language_info": {
   "codemirror_mode": {
    "name": "ipython",
    "version": 3
   },
   "file_extension": ".py",
   "mimetype": "text/x-python",
   "name": "python",
   "nbconvert_exporter": "python",
   "pygments_lexer": "ipython3",
   "version": "3.6.0"
  }
 },
 "nbformat": 4,
 "nbformat_minor": 2
}
