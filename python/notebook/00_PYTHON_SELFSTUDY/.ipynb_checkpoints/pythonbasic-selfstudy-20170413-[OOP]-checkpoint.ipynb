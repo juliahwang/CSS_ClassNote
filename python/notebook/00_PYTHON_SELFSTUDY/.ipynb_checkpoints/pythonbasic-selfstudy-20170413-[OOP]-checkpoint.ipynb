{
 "cells": [
  {
   "cell_type": "code",
   "execution_count": 25,
   "metadata": {
    "collapsed": true
   },
   "outputs": [],
   "source": [
    "# OOP = Object Oriented Programming\n",
    "# 객체를 쓰는 이유 = 모델링을 하기 위해.\n",
    "# 파이썬에서는 member + method = attribute(속성)\n",
    "\n",
    "class Person:\n",
    "    # member\n",
    "    def __init__(self, name, age, money):   # 초기화 정보\n",
    "        self.name = name\n",
    "        self.age = age\n",
    "        self.money = money\n",
    "        self.hp = 100    # 기본값을 줄 경우에는 init함수의 속성으로 쓰지 않는다.\n",
    "    \n",
    "    def change_name(self, new_name):\n",
    "        self.name = new_name\n",
    "        \n",
    "# 세상의 사람은 여러가지 특성이 있지만 프로그램에서 필요한 공통 특성을 가진\n",
    "# 사람을 표현하는 것을 모델링이라고 한다. \n",
    "\n",
    "# Person이 공유하는 행동 -- method (클래스가 가지는 함수)\n",
    "# 함수를 정의할 때 반드시 메소드 인자에는 self를 넣는다. \n",
    "# 일부분만 공유할 경우에는 상속을 받는다. \n",
    "    def givemoney(self, other, money):\n",
    "        self.money -= money\n",
    "        other.money += money\n",
    "        \n",
    "    \n",
    "    def under_stress(self):\n",
    "        self.hp -= hp\n",
    "        \n",
    "    def showinfo(self):\n",
    "        print(\"name : {} \\n age: {}\".format(self.money, self.age))\n",
    "    \n",
    "    \n",
    "class CD:\n",
    "    def __init__(self, local, capacity):\n",
    "        self.capacity = capacity\n",
    "        self.local = local\n",
    "        \n",
    "    def givemoney(self, person, money):\n",
    "        self.capacity -= money\n",
    "        self.capacity += money\n",
    "        \n",
    "    def cd_showinfo(self):\n",
    "        print(\"cd name {}, \\n capacity: {}\".format(self.local, self.capacity))"
   ]
  },
  {
   "cell_type": "code",
   "execution_count": 15,
   "metadata": {
    "collapsed": false
   },
   "outputs": [],
   "source": [
    "# 인스턴스 만들기\n",
    "\n",
    "person_1 = Person('greg', 18, 5000)\n",
    "person_2 = Person('matt', 25, 1000)\n",
    "# person_1, person_2 = 객체 = Person 클래스의 인스턴스라고도 부른다."
   ]
  },
  {
   "cell_type": "code",
   "execution_count": 16,
   "metadata": {
    "collapsed": false
   },
   "outputs": [],
   "source": [
    "# interaction between instance\n",
    "# 메소드를 통하여 객체 간 데이터를 주고 받는 것을 '메시지 패싱(message passing)'\n",
    "# 클래스 외부의 함수도 사용가능하지만, OOP의 의미를 퇴색시킴\n",
    "\n",
    "person_1.givemoney(person_2, 2000)"
   ]
  },
  {
   "cell_type": "code",
   "execution_count": 18,
   "metadata": {
    "collapsed": false
   },
   "outputs": [
    {
     "name": "stdout",
     "output_type": "stream",
     "text": [
      "name : 3000 \n",
      " age: 18\n",
      "name : 3000 \n",
      " age: 25\n"
     ]
    }
   ],
   "source": [
    "person_1.showinfo()\n",
    "person_2.showinfo()\n",
    "# 반드시 메소드를 통하여 객체간 통신할 것. "
   ]
  },
  {
   "cell_type": "code",
   "execution_count": 19,
   "metadata": {
    "collapsed": false
   },
   "outputs": [
    {
     "name": "stdout",
     "output_type": "stream",
     "text": [
      "name : 3000 \n",
      " age: 18\n",
      "name : 3000 \n",
      " age: 25\n",
      "name : 1000 \n",
      " age: 18\n",
      "name : 5000 \n",
      " age: 25\n"
     ]
    }
   ],
   "source": [
    "# person_1.givemoney(person_2, 2000)을 외부 함수로 구현하면\n",
    "person_1.showinfo()\n",
    "person_2.showinfo()\n",
    "person_1.money -= 2000\n",
    "person_2.money += 2000\n",
    "person_1.showinfo()\n",
    "person_2.showinfo()\n",
    "# OOP의 개념을 뒤흔드는 잘못된 방법\n",
    "# 외부 함수 및 연산이 객체의 멤버(정보)에 접근을 못하게 만드는 것을 정보은닉이라고 한다. \n",
    "# 데이터에 직접 접근하는 것을 막고, 클래스 내에서만 접근할 수 있도록 한 것.\n",
    "# 어떤 정보를 숨길 것인가와 어떤 정보는 오픈할 것인가를 보여주는 것이 중요.\n",
    "# 파이썬에서는 definition을 따로 두고 정보은닉을 풀어두었다.\n",
    "# 클래스를 설계하는 사람, 라이브러리 만드는 사람, 그리고 유저 프로그래머가\n",
    "# 따로 있는데(클래스를 가져다 활용하는 사람) 유저 프로그래머가 함수로만 접근해야\n",
    "# 멤버정보를 바꿀 수 있도록. \n",
    "\n",
    "# 사람의 이름을 변경하고 싶은 경우\n",
    "person_1.name = \"matt\"  # (x) - 클래스에서 미정의된 동작을 해버리면 안됨. \n",
    "person_1.change_name(\"matt\")  # (o) - 클래스 내에서 만들어둔 함수를 이용해야함."
   ]
  },
  {
   "cell_type": "code",
   "execution_count": 27,
   "metadata": {
    "collapsed": false
   },
   "outputs": [
    {
     "name": "stdout",
     "output_type": "stream",
     "text": [
      "cd name 설입, \n",
      " capacity: 5000000000\n",
      "name : 5000 \n",
      " age: 18\n"
     ]
    }
   ],
   "source": [
    "# 클래스 CD 활용\n",
    "person_1 = Person(\"greg\", 18, 5000)\n",
    "person_2 = Person(\"matt\", 25, 1000)\n",
    "cd_1 = CD(\"설입\", 5000000000)\n",
    "\n",
    "cd_1.givemoney(person_1, 1000000)\n",
    "cd_1.cd_showinfo()\n",
    "person_1.showinfo()"
   ]
  },
  {
   "cell_type": "code",
   "execution_count": null,
   "metadata": {
    "collapsed": true
   },
   "outputs": [],
   "source": []
  }
 ],
 "metadata": {
  "kernelspec": {
   "display_name": "Python 3",
   "language": "python",
   "name": "python3"
  },
  "language_info": {
   "codemirror_mode": {
    "name": "ipython",
    "version": 3
   },
   "file_extension": ".py",
   "mimetype": "text/x-python",
   "name": "python",
   "nbconvert_exporter": "python",
   "pygments_lexer": "ipython3",
   "version": "3.6.0"
  }
 },
 "nbformat": 4,
 "nbformat_minor": 2
}
