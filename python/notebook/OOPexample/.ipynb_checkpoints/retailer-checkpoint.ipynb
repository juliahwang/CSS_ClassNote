{
 "cells": [
  {
   "cell_type": "code",
   "execution_count": 3,
   "metadata": {
    "collapsed": false,
    "deletable": true,
    "editable": true
   },
   "outputs": [],
   "source": [
    "from person import Person\n",
    "\n",
    "class Retailer(Person):\n",
    "    # 클래스 멤버 = 제품가격\n",
    "    price = 1000\n",
    "    \n",
    "    def __init__(self, name, age, money, product):\n",
    "        super().__init__(name, age, money)\n",
    "        self.product = product\n",
    "    \n",
    "    def sell(self, other, how_many):\n",
    "        if self.product > how_many:\n",
    "            self.product -= how_many\n",
    "            # other.product += how_many\n",
    "            \n",
    "            total = Retailer.price * how_many\n",
    "            #  = self.price * how_many  (객체로도 클래스멤버를 호출가능)\n",
    "            \n",
    "            other.give_money(self, total)\n",
    "            \n",
    "        else:\n",
    "            print(\"제품 물량이 부족합니다.\")\n",
    "            \n",
    "    def __str__(self):\n",
    "        return super().__str__() + '''\n",
    "I am a retailer\n",
    "I have {} products\n",
    "        '''.format(self.product)"
   ]
  },
  {
   "cell_type": "code",
   "execution_count": 4,
   "metadata": {
    "collapsed": true,
    "deletable": true,
    "editable": true
   },
   "outputs": [],
   "source": [
    "r1 = Retailer(\"yang\", 18, 5000, 20)\n",
    "p1 = Person(\"kim\", 13, 6000)\n"
   ]
  },
  {
   "cell_type": "code",
   "execution_count": 5,
   "metadata": {
    "collapsed": false
   },
   "outputs": [
    {
     "name": "stdout",
     "output_type": "stream",
     "text": [
      "\n",
      "My name is yang\n",
      "I am 18 years old\n",
      "I have 5000 won\n",
      "I am a retailer\n",
      "I have 20 products\n",
      "        \n"
     ]
    }
   ],
   "source": [
    "print(r1)"
   ]
  },
  {
   "cell_type": "code",
   "execution_count": 6,
   "metadata": {
    "collapsed": true
   },
   "outputs": [],
   "source": [
    "r1.sell(p1, 3)"
   ]
  },
  {
   "cell_type": "code",
   "execution_count": 7,
   "metadata": {
    "collapsed": false
   },
   "outputs": [
    {
     "name": "stdout",
     "output_type": "stream",
     "text": [
      "\n",
      "My name is yang\n",
      "I am 18 years old\n",
      "I have 8000 won\n",
      "I am a retailer\n",
      "I have 17 products\n",
      "        \n",
      "\n",
      "My name is kim\n",
      "I am 13 years old\n",
      "I have 3000 won\n"
     ]
    }
   ],
   "source": [
    "print(r1)\n",
    "print(p1)"
   ]
  },
  {
   "cell_type": "code",
   "execution_count": null,
   "metadata": {
    "collapsed": true
   },
   "outputs": [],
   "source": [
    "# if __name__ == \"__main__\": 써주기\n",
    "\n",
    "# retailer.py는 메인파일이며 person.py는 모듈로서 가져오는 파일이다.\n",
    "# python 파일명.py - 실행의 주체가 되는 파일명.py에게 __main__이라는 이름을 준다.\n",
    "# 따라서 모듈 파일에는 코드 실행테스트 전에 if문을 써주어야한다.\n",
    "# 질문자의 코드가 다른 모듈에 의해 import된 경우 함수와 객체의 정의는 import되지만 \n",
    "# __name__이 \"__main__\"이 아니기 때문에 if문은 실행되지 않습니다.\n",
    "\n",
    "\n",
    "\n",
    "# UML (그림 참고)\n",
    "\n",
    "\n",
    "# RETAILER CLASS"
   ]
  }
 ],
 "metadata": {
  "kernelspec": {
   "display_name": "Python 3",
   "language": "python",
   "name": "python3"
  },
  "language_info": {
   "codemirror_mode": {
    "name": "ipython",
    "version": 3
   },
   "file_extension": ".py",
   "mimetype": "text/x-python",
   "name": "python",
   "nbconvert_exporter": "python",
   "pygments_lexer": "ipython3",
   "version": "3.6.0"
  }
 },
 "nbformat": 4,
 "nbformat_minor": 2
}
