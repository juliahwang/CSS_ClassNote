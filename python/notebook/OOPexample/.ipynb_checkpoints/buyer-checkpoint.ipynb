{
 "cells": [
  {
   "cell_type": "code",
   "execution_count": null,
   "metadata": {
    "collapsed": true
   },
   "outputs": [],
   "source": [
    "from person import Person\n",
    "\n",
    "class Buyer(Person):\n",
    "    def __init__(self, name, age, money, product):\n",
    "        super().__init__(name, age, money)\n",
    "        self.product = product\n",
    "    \n",
    "    \n",
    "    def buy(self, other, how_many):\n",
    "        if self.money >= how_much:\n",
    "            self.money -= how_much\n",
    "            other.money += how_much\n",
    "        else:\n",
    "            print(\"돈이 모자란다.\")\n",
    "    \n",
    "    \n",
    "    def __str__(self):\n",
    "        return '''\n",
    "My name is {}\n",
    "I am {} years old\n",
    "I have {} won'''.format(self.name, self.age, self.money)\n",
    "    \n",
    "    \n",
    "    \n",
    "from retailer import Retailer\n",
    "if __name__ = \"__main__\":\n",
    "    b1 = Buyer(\"greg\", 18, 10000, 0)\n",
    "    r1 = Retailer(\"kim\", 25, 2000, 20)\n",
    "    print(b1)\n",
    "    print(r1)\n",
    "    b1.buy(r1, 3)\n",
    "    print(b1)\n",
    "    print(r1)"
   ]
  }
 ],
 "metadata": {
  "kernelspec": {
   "display_name": "Python 3",
   "language": "python",
   "name": "python3"
  },
  "language_info": {
   "codemirror_mode": {
    "name": "ipython",
    "version": 3
   },
   "file_extension": ".py",
   "mimetype": "text/x-python",
   "name": "python",
   "nbconvert_exporter": "python",
   "pygments_lexer": "ipython3",
   "version": "3.6.0"
  }
 },
 "nbformat": 4,
 "nbformat_minor": 2
}
