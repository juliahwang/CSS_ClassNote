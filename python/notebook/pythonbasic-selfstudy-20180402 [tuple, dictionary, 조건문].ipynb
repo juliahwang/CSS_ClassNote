{
 "cells": [
  {
   "cell_type": "code",
   "execution_count": 1,
   "metadata": {
    "collapsed": false
   },
   "outputs": [
    {
     "ename": "IndentationError",
     "evalue": "unexpected indent (<ipython-input-1-400905a8057b>, line 3)",
     "output_type": "error",
     "traceback": [
      "\u001b[0;36m  File \u001b[0;32m\"<ipython-input-1-400905a8057b>\"\u001b[0;36m, line \u001b[0;32m3\u001b[0m\n\u001b[0;31m    'a':'b',\u001b[0m\n\u001b[0m    ^\u001b[0m\n\u001b[0;31mIndentationError\u001b[0m\u001b[0;31m:\u001b[0m unexpected indent\n"
     ]
    }
   ],
   "source": [
    "# list, tuple, dictionary : [1, 2, 3, 4,]\n",
    "# dic1 = {\n",
    "#    'a':'b',\n",
    "#    'a':'b',\n",
    "#    'a':'b',\n",
    "#    'a':'b',\n",
    "# }\n",
    "# 리스트, 튜플, 딕셔너리 모두 마지막 요소에 콤마를 찍어준다. \n",
    "\n",
    "# Tuple\n",
    "# 튜플은 값의 추가나 삭제가 불가능하다. \n",
    "# 튜플끼리 더하고 요소를 반복추가하는 것은 가능하다. "
   ]
  },
  {
   "cell_type": "code",
   "execution_count": 2,
   "metadata": {
    "collapsed": false
   },
   "outputs": [
    {
     "ename": "TypeError",
     "evalue": "'tuple' object doesn't support item deletion",
     "output_type": "error",
     "traceback": [
      "\u001b[0;31m---------------------------------------------------------------------------\u001b[0m",
      "\u001b[0;31mTypeError\u001b[0m                                 Traceback (most recent call last)",
      "\u001b[0;32m<ipython-input-2-3548676e307f>\u001b[0m in \u001b[0;36m<module>\u001b[0;34m()\u001b[0m\n\u001b[1;32m      1\u001b[0m \u001b[0;31m# 튜플의 삭제 불가능\u001b[0m\u001b[0;34m\u001b[0m\u001b[0;34m\u001b[0m\u001b[0m\n\u001b[1;32m      2\u001b[0m \u001b[0mtuple1\u001b[0m \u001b[0;34m=\u001b[0m \u001b[0;34m(\u001b[0m\u001b[0;36m1\u001b[0m\u001b[0;34m,\u001b[0m \u001b[0;36m2\u001b[0m\u001b[0;34m,\u001b[0m \u001b[0;36m3\u001b[0m\u001b[0;34m,\u001b[0m \u001b[0;36m4\u001b[0m\u001b[0;34m,\u001b[0m\u001b[0;34m)\u001b[0m\u001b[0;34m\u001b[0m\u001b[0m\n\u001b[0;32m----> 3\u001b[0;31m \u001b[0;32mdel\u001b[0m \u001b[0mtuple1\u001b[0m\u001b[0;34m[\u001b[0m\u001b[0;36m1\u001b[0m\u001b[0;34m]\u001b[0m\u001b[0;34m\u001b[0m\u001b[0m\n\u001b[0m",
      "\u001b[0;31mTypeError\u001b[0m: 'tuple' object doesn't support item deletion"
     ]
    }
   ],
   "source": [
    "# 튜플의 삭제 불가능\n",
    "tuple1 = (1, 2, 3, 4,)\n",
    "del tuple1[1]"
   ]
  },
  {
   "cell_type": "code",
   "execution_count": 3,
   "metadata": {
    "collapsed": false
   },
   "outputs": [
    {
     "ename": "TypeError",
     "evalue": "'tuple' object does not support item assignment",
     "output_type": "error",
     "traceback": [
      "\u001b[0;31m---------------------------------------------------------------------------\u001b[0m",
      "\u001b[0;31mTypeError\u001b[0m                                 Traceback (most recent call last)",
      "\u001b[0;32m<ipython-input-3-6efb765c5650>\u001b[0m in \u001b[0;36m<module>\u001b[0;34m()\u001b[0m\n\u001b[0;32m----> 1\u001b[0;31m \u001b[0mtuple1\u001b[0m\u001b[0;34m[\u001b[0m\u001b[0;36m3\u001b[0m\u001b[0;34m]\u001b[0m \u001b[0;34m=\u001b[0m \u001b[0;34m'5'\u001b[0m\u001b[0;34m\u001b[0m\u001b[0m\n\u001b[0m",
      "\u001b[0;31mTypeError\u001b[0m: 'tuple' object does not support item assignment"
     ]
    }
   ],
   "source": [
    "tuple1[3] = '5'"
   ]
  },
  {
   "cell_type": "code",
   "execution_count": 4,
   "metadata": {
    "collapsed": true
   },
   "outputs": [],
   "source": [
    "tuple1 = (1, 2, 3,)\n",
    "tuple2 = ('python', 'java')"
   ]
  },
  {
   "cell_type": "code",
   "execution_count": 5,
   "metadata": {
    "collapsed": false
   },
   "outputs": [
    {
     "name": "stdout",
     "output_type": "stream",
     "text": [
      "(1, 2, 3, 'python', 'java', 'python', 'java', 'python', 'java')\n"
     ]
    }
   ],
   "source": [
    "print(tuple1 + tuple2 * 3) "
   ]
  },
  {
   "cell_type": "code",
   "execution_count": 9,
   "metadata": {
    "collapsed": true
   },
   "outputs": [],
   "source": [
    "sw_x = 1\n",
    "sw_y = 'python'"
   ]
  },
  {
   "cell_type": "code",
   "execution_count": 8,
   "metadata": {
    "collapsed": false
   },
   "outputs": [
    {
     "name": "stdout",
     "output_type": "stream",
     "text": [
      "1 1\n"
     ]
    }
   ],
   "source": [
    "# 값 바꾸기 안되는 경우\n",
    "sw_y = sw_x\n",
    "sw_x = sw_y\n",
    "print(sw_x, sw_y)\n",
    "# sw_y는 sw_x 의 값으로 덮어져버린다.\n",
    "# 저장하는 값을 왼쪽에 쓴다. (이 문제의 경우 sw_y)"
   ]
  },
  {
   "cell_type": "code",
   "execution_count": 11,
   "metadata": {
    "collapsed": false
   },
   "outputs": [
    {
     "name": "stdout",
     "output_type": "stream",
     "text": [
      "1 python\n"
     ]
    }
   ],
   "source": [
    "# 튜플을 이용하지 않은 값바꾸기\n",
    "temp = sw_x\n",
    "sw_x = sw_y\n",
    "sw_y = temp\n",
    "print(sw_x, sw_y)\n",
    "\n",
    "# sw_x는 int형이고 sw_y는 str형이지만 파이썬에서는 동적 타이핑을 지원하므로\n",
    "# 컴파일에서 두 변수를 바꿔도 타입에러가 나지 않는다. (c에서는 남)  "
   ]
  },
  {
   "cell_type": "code",
   "execution_count": 14,
   "metadata": {
    "collapsed": false
   },
   "outputs": [
    {
     "name": "stdout",
     "output_type": "stream",
     "text": [
      "python 1\n"
     ]
    }
   ],
   "source": [
    "# 튜플을 이용한 값 바꾸기\n",
    "(sw_y, sw_x) = (sw_x, sw_y)\n",
    "print(sw_x, sw_y)"
   ]
  },
  {
   "cell_type": "code",
   "execution_count": 17,
   "metadata": {
    "collapsed": false
   },
   "outputs": [
    {
     "name": "stdout",
     "output_type": "stream",
     "text": [
      "0 3\n",
      "3\n"
     ]
    }
   ],
   "source": [
    "# 함수를 이용하여 튜플 사용해보기\n",
    "def mok_and_rest(a, b):\n",
    "    mok = a // b\n",
    "    rest= a % b\n",
    "    return(mok, rest)\n",
    "\n",
    "(mok, rest) = mok_and_rest(3, 10)\n",
    "print(mok, rest)\n",
    "print(rest)\n",
    "# 두가지 값을 한번에 리턴하여 2가지의 답을 리턴할 수 있다.\n",
    "# 이렇게 도출한 값은 메모리의 힙에 저장했다가 필요할 때 호출하여 사용."
   ]
  },
  {
   "cell_type": "code",
   "execution_count": 16,
   "metadata": {
    "collapsed": false
   },
   "outputs": [
    {
     "name": "stdout",
     "output_type": "stream",
     "text": [
      "0\n"
     ]
    }
   ],
   "source": [
    "# 함수는 하나의 값만 받아 하나의 값을 도출한다. \n",
    "# 2개의 값을 리턴하고 싶다면 튜플을 쓰는 것. \n",
    "def mok(a, b):\n",
    "    mok = a // b\n",
    "    return(mok)\n",
    "\n",
    "mok = mok(3, 10)\n",
    "print(mok)\n"
   ]
  },
  {
   "cell_type": "code",
   "execution_count": 19,
   "metadata": {
    "collapsed": false
   },
   "outputs": [
    {
     "name": "stdout",
     "output_type": "stream",
     "text": [
      "{}\n"
     ]
    }
   ],
   "source": [
    "# Dictionary\n",
    "# 자바스크립트의 json(javascript object rotation)\n",
    "# - 데이터교환방식에 사용. \n",
    "# - 2009년부터 자바스크립트가 애용되면서 백엔드 구성을 node.js로 사용\n",
    "# - key: value 호출이 용이하여 json을 많이 쓴다. \n",
    "# 파이썬 딕셔너리는 딕셔너리를 포함할 수 있다. \n",
    "\n",
    "dict1 = {}\n",
    "print(dict1)"
   ]
  },
  {
   "cell_type": "code",
   "execution_count": 22,
   "metadata": {
    "collapsed": false
   },
   "outputs": [
    {
     "data": {
      "text/plain": [
       "{'user': [{'id': 'hwaag', 'pw': 'dkfjl'}]}"
      ]
     },
     "execution_count": 22,
     "metadata": {},
     "output_type": "execute_result"
    }
   ],
   "source": [
    "# dictionary example\n",
    "{\n",
    "    'user': [\n",
    "        {\n",
    "        'id': 'hwaag',\n",
    "        'pw' :'dkfjl',\n",
    "        }\n",
    "    ]\n",
    "}\n",
    "# 원하는 value의 값을 정해진 key값으로 바로 불러올 수 있는 리스트형식\n",
    "# noSQL의 방식과 동일하다. 리스트를 순차적으로 읽을 필요 없이 key값으로\n",
    "# value값을 바로바로 찾을 수 있으므로."
   ]
  },
  {
   "cell_type": "code",
   "execution_count": 26,
   "metadata": {
    "collapsed": false
   },
   "outputs": [
    {
     "name": "stdout",
     "output_type": "stream",
     "text": [
      "{'name': 'foo bar'}\n"
     ]
    }
   ],
   "source": [
    "# 딕셔너리 전체 출력\n",
    "dic1 = {}\n",
    "dic1 = {'name': 'foo bar',}\n",
    "# dictionary에서 콜론을 쓸 때는 키값에 붙여쓰는 것이 명시적이다.\n",
    "print(dic1)"
   ]
  },
  {
   "cell_type": "code",
   "execution_count": 49,
   "metadata": {
    "collapsed": false
   },
   "outputs": [
    {
     "name": "stdout",
     "output_type": "stream",
     "text": [
      "{'korean': 70, 'math': 80, 'science': [50, 80, 25, 100]}\n"
     ]
    }
   ],
   "source": [
    "score = {\n",
    "        'korean': 70,\n",
    "        'math': 80,\n",
    "        'science': [50,80,25,100,],\n",
    "}\n",
    "print(score)"
   ]
  },
  {
   "cell_type": "code",
   "execution_count": 30,
   "metadata": {
    "collapsed": true
   },
   "outputs": [],
   "source": [
    "# key: value값 추가\n",
    "score['english'] = \"pass\""
   ]
  },
  {
   "cell_type": "code",
   "execution_count": 31,
   "metadata": {
    "collapsed": false
   },
   "outputs": [
    {
     "name": "stdout",
     "output_type": "stream",
     "text": [
      "{'korean': 70, 'math': 80, 'science': [50, 80, 25, 100], 'english': 'pass'}\n"
     ]
    }
   ],
   "source": [
    "print(score)"
   ]
  },
  {
   "cell_type": "code",
   "execution_count": 37,
   "metadata": {
    "collapsed": false
   },
   "outputs": [
    {
     "name": "stdout",
     "output_type": "stream",
     "text": [
      "{'korean': 70, 'science': [50, 80, 25, 100]}\n"
     ]
    }
   ],
   "source": [
    "# key: value값 추가\n",
    "del score['math']\n",
    "print(score)"
   ]
  },
  {
   "cell_type": "code",
   "execution_count": 48,
   "metadata": {
    "collapsed": false
   },
   "outputs": [
    {
     "name": "stdout",
     "output_type": "stream",
     "text": [
      "dict_keys(['korean', 'science'])\n",
      "dict_values([70, [50, 80, 25, 100]])\n",
      "dict_items([('korean', 70), ('science', [50, 80, 25, 100])])\n",
      "None\n"
     ]
    }
   ],
   "source": [
    "#key와 value응용 - 값 출력하기 \n",
    "score['korean']\n",
    "print(score.keys())\n",
    "print(score.values())\n",
    "print(score.items())\n",
    "# .items는 튜플로 출력된다. 하나의 키와 하나의 밸류가 있기 때문에 튜플로 묶여서 나오는 것.\n",
    "\n",
    "print(score.clear()) \n",
    "# .clear는 딕셔너리 내의 값을 모두 지워서 none이 출력된다."
   ]
  },
  {
   "cell_type": "code",
   "execution_count": 54,
   "metadata": {
    "collapsed": false
   },
   "outputs": [
    {
     "data": {
      "text/plain": [
       "True"
      ]
     },
     "execution_count": 54,
     "metadata": {},
     "output_type": "execute_result"
    }
   ],
   "source": [
    "# 딕셔너리 안의 key값 찾기\n",
    "'science' in score\n",
    "# boolean 함수로 출력됨."
   ]
  },
  {
   "cell_type": "code",
   "execution_count": 55,
   "metadata": {
    "collapsed": false
   },
   "outputs": [
    {
     "data": {
      "text/plain": [
       "[50, 80, 25, 100]"
      ]
     },
     "execution_count": 55,
     "metadata": {},
     "output_type": "execute_result"
    }
   ],
   "source": [
    "score['science']"
   ]
  },
  {
   "cell_type": "code",
   "execution_count": 57,
   "metadata": {
    "collapsed": false
   },
   "outputs": [
    {
     "name": "stdout",
     "output_type": "stream",
     "text": [
      "n is less than 10\n"
     ]
    }
   ],
   "source": [
    "# if 조건문의 사용 \n",
    "\n",
    "n = 9\n",
    "if n > 10:\n",
    "    print(\"n is more than 10\")\n",
    "else: \n",
    "    print(\"n is less than 10\")"
   ]
  },
  {
   "cell_type": "code",
   "execution_count": 61,
   "metadata": {
    "collapsed": false
   },
   "outputs": [
    {
     "name": "stdout",
     "output_type": "stream",
     "text": [
      "n is negative value\n"
     ]
    }
   ],
   "source": [
    "n = -4\n",
    "\n",
    "if n > 10:\n",
    "    print(\"n is bigger than 10\")\n",
    "elif n > 5:\n",
    "    print(\"n is bigger than 5\")\n",
    "elif n < 0 :\n",
    "    print(\"n is negative value\")\n",
    "else:\n",
    "    print(\"n is bigger than 1 but less than 5\")"
   ]
  },
  {
   "cell_type": "code",
   "execution_count": 60,
   "metadata": {
    "collapsed": false
   },
   "outputs": [
    {
     "name": "stdout",
     "output_type": "stream",
     "text": [
      "a is less than 5\n"
     ]
    }
   ],
   "source": [
    "a = 3\n",
    "if a > 10:\n",
    "    print(\"a is bigger than 10\")\n",
    "else:\n",
    "    if a > 5:\n",
    "        print('a is bigger than 5')\n",
    "    else:\n",
    "        print('a is less than 5')\n",
    "        \n",
    "# indentation이 끊임없이 들어간다. 이 경우 elif 사용\n",
    "# 한 탭은 4 스페이스. 스페이스랑 탭 중 하나를 선택하여 사용(섞어쓰기x)"
   ]
  },
  {
   "cell_type": "code",
   "execution_count": 66,
   "metadata": {
    "collapsed": false
   },
   "outputs": [
    {
     "name": "stdout",
     "output_type": "stream",
     "text": [
      "22\n"
     ]
    }
   ],
   "source": [
    "# numguess\n",
    "# numguess를 하기 위해서는 random이라는 라이브러리 사용\n",
    "# 라이브러리 내에 .randint 함수 사용 \n",
    "\n",
    "import random\n",
    "\n",
    "\n",
    "# import를 할 때는 2줄 띄운다.\n",
    "answer = random.randint(1, 100)\n",
    "# 1과 100 사이에서 랜덤으로 숫자(정수)를 불러오게 함.\n",
    "print(answer)"
   ]
  },
  {
   "cell_type": "code",
   "execution_count": 67,
   "metadata": {
    "collapsed": false
   },
   "outputs": [
    {
     "name": "stdout",
     "output_type": "stream",
     "text": [
      "What is your name? hwang\n",
      "hwang\n"
     ]
    }
   ],
   "source": [
    "username = input(\"What is your name? \")\n",
    "print(username)"
   ]
  },
  {
   "cell_type": "code",
   "execution_count": 68,
   "metadata": {
    "collapsed": false
   },
   "outputs": [
    {
     "name": "stdout",
     "output_type": "stream",
     "text": [
      "Hi, hwang . Guess the number: 245\n",
      "245\n"
     ]
    }
   ],
   "source": [
    "guess = eval(input(\"Hi, \" + username + \" . Guess the number: \"))\n",
    "print(guess)"
   ]
  },
  {
   "cell_type": "code",
   "execution_count": 69,
   "metadata": {
    "collapsed": true
   },
   "outputs": [],
   "source": [
    "# 라이브러리 - 함수들의 집합체\n",
    "# 패키지 - 특정한 기능을 수행하는 라이브러리들의 집합체\n",
    "# 모듈 - 파일을 만들어놓고(함수) 불러와서 사용할 때 사용\n",
    "       # 외부에서 가져와서 사용하는 것. \n",
    "\n",
    "# git 저장법\n",
    "# $ git add .\n",
    "# $ git commit -m \"파일명\"\n",
    "# 또는 $ git commit -m \"파일명:\n",
    "# >> dquote : 추가설명 입력가능\"\n",
    "# $ git push origin master"
   ]
  },
  {
   "cell_type": "code",
   "execution_count": null,
   "metadata": {
    "collapsed": true
   },
   "outputs": [],
   "source": []
  }
 ],
 "metadata": {
  "kernelspec": {
   "display_name": "Python 3",
   "language": "python",
   "name": "python3"
  },
  "language_info": {
   "codemirror_mode": {
    "name": "ipython",
    "version": 3
   },
   "file_extension": ".py",
   "mimetype": "text/x-python",
   "name": "python",
   "nbconvert_exporter": "python",
   "pygments_lexer": "ipython3",
   "version": "3.6.0"
  }
 },
 "nbformat": 4,
 "nbformat_minor": 2
}
