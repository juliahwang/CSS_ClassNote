{
 "cells": [
  {
   "cell_type": "code",
   "execution_count": 1,
   "metadata": {
    "collapsed": false,
    "deletable": true,
    "editable": true
   },
   "outputs": [],
   "source": [
    "# 모델링할 때 OOP를 한다. \n",
    "# 파이썬에서는 member + method = attribute(속성)\n",
    "\n",
    "class Person:   # 모든 사람. \n",
    "    # class가 가지는 함수를 method라고 하며 함수 내의 공통요인 중 정보들을(ex_ name, age 등) member 변수라고 한다.\n",
    "    # c언어에서 함수는 member함수라고 부른다. 구별주의!\n",
    "    # member는 기능이 아닌 상태를 나타낸다.\n",
    "    \n",
    "    #member(정보)\n",
    "    def __init__(self, name, age, money):\n",
    "        self.name = name\n",
    "        self.age = age\n",
    "        self.money = money\n",
    "        self.hp = 100\n",
    "\n",
    "# 해당 특성은 어떤 인간이라도 공통적으로 공유한다.\n",
    "# 인간의 특성을 3가지 척도(name, age, money)로 \"모델링(modeling)\"하였다. \n",
    "# 즉, 현실세계의 물체를 프로그래밍에 적합한 척도로 정의하는 것을 모델링이라고 한다.\n",
    "# 사람 중에서 작은 하위그룹을 만들려면 상속을 해야한다. \n",
    "\n",
    "    #method (기능,행동, 클래스의 함수)\n",
    "    def givemoney(self, other, money):\n",
    "        self.money -= money\n",
    "        other.money += money\n",
    "    \n",
    "    def change_name(self, name):\n",
    "        self.name = other.name\n",
    "    \n",
    "    def understress(self, HP):\n",
    "        self.hp -= hp\n",
    "    \n",
    "    def showinfo(self):\n",
    "        print(\"name: {} \\n age : {}\".format(self.money, self.age))\n",
    "        \n",
    "\n",
    "class CD: \n",
    "    def __init__(self, local, capacity):\n",
    "        self.local = local\n",
    "        self.capacity = capacity\n",
    "        \n",
    "    def givemoney(self, person, money):\n",
    "        self.capacity -= money\n",
    "        person.money += money\n",
    "        # class를 공유하는 경우(이름이 같은 경우) 클래스 하에서 직접 코딩을 해도 돌아가지만, \n",
    "        # 위의 라인처럼 class의 이름이 CD이고 하위 변수명 person이므로 에러남. \n",
    "        # 이 경우에는 person의 money를 증가시키는 함수를 따로 만들어 사용해야한다. \n",
    "        \n",
    "    def showinfo(self):\n",
    "        print(\"cd name {} \\n capacity: {}\".format(self, local, self.capacity))"
   ]
  },
  {
   "cell_type": "code",
   "execution_count": 3,
   "metadata": {
    "collapsed": false,
    "deletable": true,
    "editable": true
   },
   "outputs": [
    {
     "name": "stdout",
     "output_type": "stream",
     "text": [
      "name: 5000 \n",
      " age : 18\n"
     ]
    }
   ],
   "source": [
    "# instance 만들기\n",
    "person_1 = Person(\"greg\", 18, 5000) \n",
    "# 객체를 만들었다. 'person_1은 Person의 인스턴스'이다. \n",
    "\n",
    "person_2 = Person(\"matt\", 25, 1000)\n",
    "# 객체를 만들었다. 'person_2도 Person의 인스턴스'이다.\n",
    "\n",
    "cd_1 = CD(\"설입\", 20000000)\n",
    "person_1.showinfo()"
   ]
  },
  {
   "cell_type": "code",
   "execution_count": 30,
   "metadata": {
    "collapsed": true,
    "deletable": true,
    "editable": true
   },
   "outputs": [],
   "source": [
    "#interaction between instances = message passing\n",
    "# 객체들 간의 교류는 오직 함수로만 한다는 뜻. \n",
    "# 파이썬은 함수를 쓰지 않아도 객체들끼리 서로 교류할 수 있지만\n",
    "# 이렇게 하면 OOP적인 개발이 아닌 것"
   ]
  },
  {
   "cell_type": "code",
   "execution_count": 31,
   "metadata": {
    "collapsed": false,
    "deletable": true,
    "editable": true
   },
   "outputs": [],
   "source": [
    "person_1.givemoney(person_2, 2000)"
   ]
  },
  {
   "cell_type": "code",
   "execution_count": 32,
   "metadata": {
    "collapsed": false,
    "deletable": true,
    "editable": true
   },
   "outputs": [
    {
     "name": "stdout",
     "output_type": "stream",
     "text": [
      "name: 3000 \n",
      " age : 18\n",
      "name: 3000 \n",
      " age : 25\n",
      "name: 1000 \n",
      " age : 18\n",
      "name: 5000 \n",
      " age : 25\n"
     ]
    }
   ],
   "source": [
    "# person_1.givemoney(person_2, 2000)\n",
    "person_1.showinfo()\n",
    "person_2.showinfo()\n",
    "\n",
    "person_1.money -= 2000\n",
    "person_2.money += 2000\n",
    "# 파이썬에서 위처럼 구동이 가능하지만 사실 모든 언어에서는 위의 방식대로 코드를 짜게되면\n",
    "# 정보은닉 : 중요한 데이터는 숨겨서 함수로만 구동이 가능하게끔 해야한다. \n",
    "# 함수를 통해서만 이동, 연산이 가능하도록 해야 하는데 위처럼 구동시켜버리면 OOP적이지 않다.\n",
    "# 파이썬은 쉽게 배우기 위해 풀어놓았을 뿐, 다른 언어에서는 키워드로 막아놓은 방법임. \n",
    "\n",
    "# person_1.name = \"matt\"    ----- 미정의된 방식으로 바꾸면 안됨. \n",
    "# person_1.change_name(\"matt\") ----- 상단에서 이름을 바꾸는 함수를 정의하고 사용해야함.\n",
    "\n",
    "person_1.showinfo()\n",
    "person_2.showinfo()"
   ]
  },
  {
   "cell_type": "code",
   "execution_count": null,
   "metadata": {
    "collapsed": true,
    "deletable": true,
    "editable": true
   },
   "outputs": [],
   "source": [
    "# OOP에서 함수를 계속 만들어내는 것 또한 메모리의 낭비이다. \n",
    "# method를 짤 때는 self 가 있어 한번 만들어놓으면 변수 Person_1의 값을\n",
    "# 자동으로 대입시켜 실행.\n"
   ]
  }
 ],
 "metadata": {
  "kernelspec": {
   "display_name": "Python 3",
   "language": "python",
   "name": "python3"
  },
  "language_info": {
   "codemirror_mode": {
    "name": "ipython",
    "version": 3
   },
   "file_extension": ".py",
   "mimetype": "text/x-python",
   "name": "python",
   "nbconvert_exporter": "python",
   "pygments_lexer": "ipython3",
   "version": "3.6.0"
  }
 },
 "nbformat": 4,
 "nbformat_minor": 2
}
