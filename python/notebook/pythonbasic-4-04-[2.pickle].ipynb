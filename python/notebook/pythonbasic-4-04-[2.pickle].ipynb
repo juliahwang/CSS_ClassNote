{
 "cells": [
  {
   "cell_type": "code",
   "execution_count": 2,
   "metadata": {
    "collapsed": true,
    "deletable": true,
    "editable": true
   },
   "outputs": [],
   "source": [
    "import pickle"
   ]
  },
  {
   "cell_type": "code",
   "execution_count": 3,
   "metadata": {
    "collapsed": true,
    "deletable": true,
    "editable": true
   },
   "outputs": [],
   "source": [
    "pickle.dump?"
   ]
  },
  {
   "cell_type": "code",
   "execution_count": 4,
   "metadata": {
    "collapsed": false,
    "deletable": true,
    "editable": true
   },
   "outputs": [],
   "source": [
    "# 텍스트 파일이나 형태를 변환하지 않고 데이터 타입 그대로 저장하는 기능\n",
    "# 따라서 읽을 수가 없음. 그대로 저장했기 때문에 그대로 추출해야함. \n",
    "\n",
    "with open(\"class_A.bin\", \"rb\") as f:\n",
    "    data1 = pickle.load(f)\n",
    "    # data1.readline(f)와 기능은 같지만 데이터 타입 그대로 불러온다. \n",
    "    data2 = pickle.load(f)\n",
    "    \n",
    "# rb : read binary"
   ]
  },
  {
   "cell_type": "code",
   "execution_count": 6,
   "metadata": {
    "collapsed": false,
    "deletable": true,
    "editable": true
   },
   "outputs": [
    {
     "data": {
      "text/plain": [
       "{'greg': 95}"
      ]
     },
     "execution_count": 6,
     "metadata": {},
     "output_type": "execute_result"
    }
   ],
   "source": [
    "data1\n",
    "# dictionary로 저장이 되어있었기 때문에 그 형태로 데이터가 추출됨."
   ]
  },
  {
   "cell_type": "code",
   "execution_count": 7,
   "metadata": {
    "collapsed": false,
    "deletable": true,
    "editable": true
   },
   "outputs": [
    {
     "name": "stdout",
     "output_type": "stream",
     "text": [
      "{'greg': 95} {'john': 25}\n"
     ]
    }
   ],
   "source": [
    "print(data1, data2)"
   ]
  },
  {
   "cell_type": "code",
   "execution_count": 9,
   "metadata": {
    "collapsed": true,
    "deletable": true,
    "editable": true
   },
   "outputs": [],
   "source": [
    "fp = open('abc.txt', \"r\")\n",
    "# 만들어놓은 텍스트 열기"
   ]
  },
  {
   "cell_type": "code",
   "execution_count": 13,
   "metadata": {
    "collapsed": false,
    "deletable": true,
    "editable": true
   },
   "outputs": [
    {
     "data": {
      "text/plain": [
       "['I am your father!\\n', \"what's your name?\\n\", 'my name is.......']"
      ]
     },
     "execution_count": 13,
     "metadata": {},
     "output_type": "execute_result"
    }
   ],
   "source": [
    "text_list = []\n",
    "while True : \n",
    "    data = fp.readline()\n",
    "    if data:\n",
    "        text_list.append(data)\n",
    "    else:\n",
    "        break\n",
    "text_list\n",
    "# 빈 배열 만들기"
   ]
  },
  {
   "cell_type": "code",
   "execution_count": 16,
   "metadata": {
    "collapsed": false,
    "deletable": true,
    "editable": true
   },
   "outputs": [
    {
     "data": {
      "text/plain": [
       "[b'\\x80\\x03}q\\x00X\\x04\\x00\\x00\\x00gregq\\x01K_s.\\x80\\x03}q\\x00X\\x04\\x00\\x00\\x00johnq\\x01K\\x19s.\\x80\\x03}q\\x00X\\x04\\x00\\x00\\x00yangq\\x01K2s.\\x80\\x03}q\\x00X\\x07\\x00\\x00\\x00timothyq\\x01K\\x0fs.\\x80\\x03}q\\x00X\\x06\\x00\\x00\\x00melisaq\\x01Kds.\\x80\\x03}q\\x00X\\x04\\x00\\x00\\x00thorq\\x01K\\n',\n",
       " b's.\\x80\\x03}q\\x00X\\x04\\x00\\x00\\x00elenq\\x01K\\x19s.\\x80\\x03}q\\x00X\\x04\\x00\\x00\\x00markq\\x01KPs.\\x80\\x03}q\\x00X\\x05\\x00\\x00\\x00steveq\\x01K_s.\\x80\\x03}q\\x00X\\x04\\x00\\x00\\x00annaq\\x01K\\x14s.']"
      ]
     },
     "execution_count": 16,
     "metadata": {},
     "output_type": "execute_result"
    }
   ],
   "source": [
    "fp2 = open(\"class_A.bin\", \"rb\")\n",
    "pickle_list = []\n",
    "while True:\n",
    "    data = fp2.readline()\n",
    "    if data:\n",
    "        pickle_list.append(data)\n",
    "    else:\n",
    "        break\n",
    "pickle_list"
   ]
  },
  {
   "cell_type": "code",
   "execution_count": 17,
   "metadata": {
    "collapsed": false,
    "deletable": true,
    "editable": true
   },
   "outputs": [
    {
     "data": {
      "text/plain": [
       "[{'greg': 95},\n",
       " {'john': 25},\n",
       " {'yang': 50},\n",
       " {'timothy': 15},\n",
       " {'melisa': 100},\n",
       " {'thor': 10},\n",
       " {'elen': 25},\n",
       " {'mark': 80},\n",
       " {'steve': 95},\n",
       " {'anna': 20}]"
      ]
     },
     "execution_count": 17,
     "metadata": {},
     "output_type": "execute_result"
    }
   ],
   "source": [
    "# end of file error 대처법\n",
    "\n",
    "fp2 = open(\"class_A.bin\", \"rb\")\n",
    "pickle_list = []\n",
    "while True:\n",
    "    try: \n",
    "        data = pickle.load(fp2)   # 데이터를 읽으려고 할 때 오류가 난다. 따라서 그 아래 라인도 적용이 안됨. \n",
    "        pickle_list.append(data)\n",
    "    except EOFError:\n",
    "        break\n",
    "pickle_list"
   ]
  },
  {
   "cell_type": "code",
   "execution_count": 18,
   "metadata": {
    "collapsed": false,
    "deletable": true,
    "editable": true
   },
   "outputs": [
    {
     "data": {
      "text/plain": [
       "['ADDITEMS',\n",
       " 'APPEND',\n",
       " 'APPENDS',\n",
       " 'BINBYTES',\n",
       " 'BINBYTES8',\n",
       " 'BINFLOAT',\n",
       " 'BINGET',\n",
       " 'BININT',\n",
       " 'BININT1',\n",
       " 'BININT2',\n",
       " 'BINPERSID',\n",
       " 'BINPUT',\n",
       " 'BINSTRING',\n",
       " 'BINUNICODE',\n",
       " 'BINUNICODE8',\n",
       " 'BUILD',\n",
       " 'DEFAULT_PROTOCOL',\n",
       " 'DICT',\n",
       " 'DUP',\n",
       " 'EMPTY_DICT',\n",
       " 'EMPTY_LIST',\n",
       " 'EMPTY_SET',\n",
       " 'EMPTY_TUPLE',\n",
       " 'EXT1',\n",
       " 'EXT2',\n",
       " 'EXT4',\n",
       " 'FALSE',\n",
       " 'FLOAT',\n",
       " 'FRAME',\n",
       " 'FROZENSET',\n",
       " 'FunctionType',\n",
       " 'GET',\n",
       " 'GLOBAL',\n",
       " 'HIGHEST_PROTOCOL',\n",
       " 'INST',\n",
       " 'INT',\n",
       " 'LIST',\n",
       " 'LONG',\n",
       " 'LONG1',\n",
       " 'LONG4',\n",
       " 'LONG_BINGET',\n",
       " 'LONG_BINPUT',\n",
       " 'MARK',\n",
       " 'MEMOIZE',\n",
       " 'NEWFALSE',\n",
       " 'NEWOBJ',\n",
       " 'NEWOBJ_EX',\n",
       " 'NEWTRUE',\n",
       " 'NONE',\n",
       " 'OBJ',\n",
       " 'PERSID',\n",
       " 'POP',\n",
       " 'POP_MARK',\n",
       " 'PROTO',\n",
       " 'PUT',\n",
       " 'PickleError',\n",
       " 'Pickler',\n",
       " 'PicklingError',\n",
       " 'PyStringMap',\n",
       " 'REDUCE',\n",
       " 'SETITEM',\n",
       " 'SETITEMS',\n",
       " 'SHORT_BINBYTES',\n",
       " 'SHORT_BINSTRING',\n",
       " 'SHORT_BINUNICODE',\n",
       " 'STACK_GLOBAL',\n",
       " 'STOP',\n",
       " 'STRING',\n",
       " 'TRUE',\n",
       " 'TUPLE',\n",
       " 'TUPLE1',\n",
       " 'TUPLE2',\n",
       " 'TUPLE3',\n",
       " 'UNICODE',\n",
       " 'Unpickler',\n",
       " 'UnpicklingError',\n",
       " '_Framer',\n",
       " '_Pickler',\n",
       " '_Stop',\n",
       " '_Unframer',\n",
       " '_Unpickler',\n",
       " '__all__',\n",
       " '__builtins__',\n",
       " '__cached__',\n",
       " '__doc__',\n",
       " '__file__',\n",
       " '__loader__',\n",
       " '__name__',\n",
       " '__package__',\n",
       " '__spec__',\n",
       " '_compat_pickle',\n",
       " '_dump',\n",
       " '_dumps',\n",
       " '_extension_cache',\n",
       " '_extension_registry',\n",
       " '_getattribute',\n",
       " '_inverted_registry',\n",
       " '_load',\n",
       " '_loads',\n",
       " '_test',\n",
       " '_tuplesize2code',\n",
       " 'bytes_types',\n",
       " 'codecs',\n",
       " 'compatible_formats',\n",
       " 'decode_long',\n",
       " 'dispatch_table',\n",
       " 'dump',\n",
       " 'dumps',\n",
       " 'encode_long',\n",
       " 'format_version',\n",
       " 'io',\n",
       " 'islice',\n",
       " 'load',\n",
       " 'loads',\n",
       " 'maxsize',\n",
       " 'pack',\n",
       " 'partial',\n",
       " 're',\n",
       " 'sys',\n",
       " 'unpack',\n",
       " 'whichmodule']"
      ]
     },
     "execution_count": 18,
     "metadata": {},
     "output_type": "execute_result"
    }
   ],
   "source": [
    "dir(pickle)"
   ]
  },
  {
   "cell_type": "code",
   "execution_count": 19,
   "metadata": {
    "collapsed": true,
    "deletable": true,
    "editable": true
   },
   "outputs": [],
   "source": [
    "# 데이터셋 만들기\n",
    "fp = open(\"abc.bin\", \"wb\")\n",
    "# bin or dat(data 파일)\n",
    "# wb : write binary"
   ]
  },
  {
   "cell_type": "code",
   "execution_count": 20,
   "metadata": {
    "collapsed": true,
    "deletable": true,
    "editable": true
   },
   "outputs": [],
   "source": [
    "data = [\n",
    "    {'greg': 95},\n",
    "    {'tom': 85},\n",
    "    {'sara': 56},\n",
    "]    "
   ]
  },
  {
   "cell_type": "code",
   "execution_count": 21,
   "metadata": {
    "collapsed": true,
    "deletable": true,
    "editable": true
   },
   "outputs": [],
   "source": [
    "for d in data:\n",
    "    pickle.dump(d, fp)"
   ]
  },
  {
   "cell_type": "code",
   "execution_count": null,
   "metadata": {
    "collapsed": true,
    "deletable": true,
    "editable": true
   },
   "outputs": [],
   "source": []
  },
  {
   "cell_type": "code",
   "execution_count": 24,
   "metadata": {
    "collapsed": false,
    "deletable": true,
    "editable": true
   },
   "outputs": [
    {
     "data": {
      "text/plain": [
       "[{'greg': 95}, {'tom': 85}, {'sara': 56}]"
      ]
     },
     "execution_count": 24,
     "metadata": {},
     "output_type": "execute_result"
    }
   ],
   "source": [
    "# wb 모드를 닫고 rb로 다시 열어줘야 한다.\n",
    "fp.close()\n",
    "\n",
    "fp2 = open(\"abc.bin\", \"rb\")\n",
    "\n",
    "result = []\n",
    "for i in range(3):\n",
    "    result.append(pickle.load(fp2))\n",
    "result"
   ]
  },
  {
   "cell_type": "code",
   "execution_count": null,
   "metadata": {
    "collapsed": true,
    "deletable": true,
    "editable": true
   },
   "outputs": [],
   "source": []
  }
 ],
 "metadata": {
  "kernelspec": {
   "display_name": "Python 3",
   "language": "python",
   "name": "python3"
  },
  "language_info": {
   "codemirror_mode": {
    "name": "ipython",
    "version": 3
   },
   "file_extension": ".py",
   "mimetype": "text/x-python",
   "name": "python",
   "nbconvert_exporter": "python",
   "pygments_lexer": "ipython3",
   "version": "3.6.0"
  }
 },
 "nbformat": 4,
 "nbformat_minor": 2
}
